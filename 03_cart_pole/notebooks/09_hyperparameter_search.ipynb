{
 "cells": [
  {
   "cell_type": "markdown",
   "id": "620597af",
   "metadata": {},
   "source": [
    "# 09 Hyper-parameter search for Deep Q Learning\n",
    "\n",
    "#### 👉Deep RL is hard, because (among other things) it's very sensitivity to the hyper-parameters.\n",
    "\n",
    "#### 👉We tune the hyper-parmeters following a trial&error approach:\n",
    "\n",
    "![](../images/hparams_search_diagram.svg)\n",
    "\n",
    "#### 👉However, Hyper-parameter spaces in deep RL problems are HUGE. A brute-force solution that would try all possible combinations of hyper-parameters is not feasible. We need something smarter than that...\n",
    "\n",
    "#### 👉And this is when Bayesian search methods enther into the picture.\n",
    "\n",
    "#### 👉In a nutshell, Bayesian search methods use past searches to inform promising avenues.\n",
    "\n",
    "#### 👉 [Optuna](https://optuna.readthedocs.io/en/stable/index.html) is a Python open-source library that implements Bayesian search methods\n",
    "\n",
    "<img src=\"https://github.com/Paulescu/hands-on-rl/blob/main/03_cart_pole/images/optuna.png?raw=True\" width=\"400\"/>\n",
    "\n",
    "#### 👉Hyper-paramater search a piece of cake 🍰if you use Optuna."
   ]
  },
  {
   "cell_type": "code",
   "execution_count": 1,
   "id": "fd7b5c91",
   "metadata": {},
   "outputs": [
    {
     "name": "stdout",
     "output_type": "stream",
     "text": [
      "Populating the interactive namespace from numpy and matplotlib\n"
     ]
    }
   ],
   "source": [
    "%load_ext autoreload\n",
    "%autoreload 2\n",
    "%pylab inline\n",
    "%config InlineBackend.figure_format = 'svg'"
   ]
  },
  {
   "cell_type": "markdown",
   "id": "6d71e5be",
   "metadata": {},
   "source": [
    "## Environment 🌎"
   ]
  },
  {
   "cell_type": "code",
   "execution_count": 2,
   "id": "bfb033c6",
   "metadata": {},
   "outputs": [],
   "source": [
    "import gym\n",
    "env = gym.make('CartPole-v1')"
   ]
  },
  {
   "cell_type": "markdown",
   "id": "0afec9fc",
   "metadata": {},
   "source": [
    "### MlFlow is a useful tool to track experiment results\n",
    "\n",
    "cd to the root directory of this lesson (in my case `/Users/paulabartabajo/src/online-courses/hands-on-rl/03_cart_pole/mlflow_runs`) and spin up the mlflow dashboard as follows:\n",
    "\n",
    "$ mlflow ui"
   ]
  },
  {
   "cell_type": "code",
   "execution_count": 3,
   "id": "6e8f0e06",
   "metadata": {},
   "outputs": [
    {
     "data": {
      "text/plain": [
       "<Experiment: artifact_location='/Users/paulabartabajo/src/online-courses/hands-on-rl/03_cart_pole/mlflow_runs/0', experiment_id='0', lifecycle_stage='active', name='hyperparameter_search', tags={}>"
      ]
     },
     "execution_count": 3,
     "metadata": {},
     "output_type": "execute_result"
    }
   ],
   "source": [
    "import mlflow\n",
    "from src.config import MLFLOW_RUNS_DIR\n",
    "\n",
    "EXPERIMENT_NAME = 'hyperparameter_search'\n",
    "\n",
    "mlflow.set_tracking_uri(str(MLFLOW_RUNS_DIR))\n",
    "mlflow.set_experiment(EXPERIMENT_NAME)"
   ]
  },
  {
   "cell_type": "markdown",
   "id": "85f9af99",
   "metadata": {},
   "source": [
    "## Create an Optuna study"
   ]
  },
  {
   "cell_type": "code",
   "execution_count": 4,
   "id": "fdea6f22",
   "metadata": {},
   "outputs": [
    {
     "name": "stderr",
     "output_type": "stream",
     "text": [
      "\u001b[32m[I 2022-03-01 14:04:05,947]\u001b[0m A new study created in RDB with name: hyperparameter_search\u001b[0m\n"
     ]
    }
   ],
   "source": [
    "import optuna\n",
    "\n",
    "from src.config import OPTUNA_DB\n",
    "\n",
    "study = optuna.create_study(\n",
    "    study_name=EXPERIMENT_NAME,\n",
    "    direction='maximize',\n",
    "    load_if_exists=True,\n",
    "    storage=f'sqlite:///{OPTUNA_DB}'\n",
    ")"
   ]
  },
  {
   "cell_type": "markdown",
   "id": "c994f837",
   "metadata": {},
   "source": [
    "## Objective function we want to maximize"
   ]
  },
  {
   "cell_type": "code",
   "execution_count": 5,
   "id": "a6f28fa5",
   "metadata": {},
   "outputs": [],
   "source": [
    "from src.optimize_hyperparameters import objective\n",
    "\n",
    "# we define a lambda function because study.optimize()\n",
    "# expect the objective function to have only 1 input\n",
    "# (trial), while our objective function hast 2 extra\n",
    "# inputs I defined to add flexibility to the script\n",
    "func = lambda trial: objective(trial,\n",
    "                               force_linear_model=False,\n",
    "                               n_episodes_to_train=200)"
   ]
  },
  {
   "cell_type": "markdown",
   "id": "483eeb64-ecfe-4d69-a848-39cce5175adc",
   "metadata": {},
   "source": [
    "## Set threshold to terminate hyperparameter search"
   ]
  },
  {
   "cell_type": "code",
   "execution_count": null,
   "id": "eefb097c-a7e3-46da-afbe-29db0c6a2d5e",
   "metadata": {},
   "outputs": [],
   "source": [
    "class CheckHyperparamMeanRewardThreshold:\n",
    "    def __init__(self, reward_threshold: float):\n",
    "        self.reward_threshold = reward_threshold\n",
    "\n",
    "    def __call__(self, study: optuna.study.Study, trial: optuna.trial.FrozenTrial) -> None:\n",
    "        if trial.value >= self.reward_threshold:\n",
    "            print((f'Stopping hyperparameter search because trial.value ({trial.value}) '\n",
    "                   f'hit threshold ({self.reward_threshold})'))\n",
    "            study.stop()\n",
    "\n",
    "# Stop hyperparameter search when we hit a perfect mean reward of 500\n",
    "hyperparam_search_stop_callback = CheckHyperparamMeanRewardThreshold(500.0)"
   ]
  },
  {
   "cell_type": "markdown",
   "id": "e6d4c1dd",
   "metadata": {},
   "source": [
    "## Let's start the search"
   ]
  },
  {
   "cell_type": "code",
   "execution_count": null,
   "id": "25879f3a",
   "metadata": {
    "scrolled": true
   },
   "outputs": [
    {
     "name": "stderr",
     "output_type": "stream",
     "text": [
      "/Users/paulabartabajo/src/online-courses/hands-on-rl/03_cart_pole/.venv/lib/python3.7/site-packages/optuna/distributions.py:427: UserWarning: Choices for a categorical distribution should be a tuple of None, bool, int, float and str for persistent storage but contains [256, 256] which is of type list.\n",
      "  warnings.warn(message)\n"
     ]
    },
    {
     "name": "stdout",
     "output_type": "stream",
     "text": [
      "67,586 parameters\n"
     ]
    },
    {
     "name": "stderr",
     "output_type": "stream",
     "text": [
      " 86%|██████████████████████████████████████████████████████████▊         | 173/200 [00:00<00:00, 276.55it/s]\n",
      "  0%|                                                                               | 0/100 [00:00<?, ?it/s]\u001b[A\n",
      "  8%|█████▋                                                                 | 8/100 [00:00<00:01, 72.75it/s]\u001b[A\n",
      " 16%|███████████▏                                                          | 16/100 [00:00<00:01, 70.13it/s]\u001b[A\n",
      " 24%|████████████████▊                                                     | 24/100 [00:00<00:01, 71.79it/s]\u001b[A\n",
      " 32%|██████████████████████▍                                               | 32/100 [00:00<00:00, 72.61it/s]\u001b[A\n",
      " 40%|████████████████████████████                                          | 40/100 [00:00<00:00, 72.48it/s]\u001b[A\n",
      " 48%|█████████████████████████████████▌                                    | 48/100 [00:00<00:00, 74.31it/s]\u001b[A\n",
      " 57%|███████████████████████████████████████▉                              | 57/100 [00:00<00:00, 78.08it/s]\u001b[A\n",
      " 65%|█████████████████████████████████████████████▌                        | 65/100 [00:00<00:00, 71.91it/s]\u001b[A\n",
      " 74%|███████████████████████████████████████████████████▊                  | 74/100 [00:00<00:00, 76.68it/s]\u001b[A\n",
      " 82%|█████████████████████████████████████████████████████████▍            | 82/100 [00:01<00:00, 75.30it/s]\u001b[A\n",
      " 90%|███████████████████████████████████████████████████████████████       | 90/100 [00:01<00:00, 72.06it/s]\u001b[A\n",
      "100%|█████████████████████████████████████████████████████████████████████| 100/100 [00:01<00:00, 74.12it/s]\u001b[A\n",
      "100%|█████████████████████████████████████████████████████████████████████| 200/200 [00:02<00:00, 93.41it/s]\n"
     ]
    },
    {
     "name": "stdout",
     "output_type": "stream",
     "text": [
      "Reward mean: 63.70, std: 22.21\n",
      "Num steps mean: 63.70, std: 22.21\n"
     ]
    },
    {
     "name": "stderr",
     "output_type": "stream",
     "text": [
      "100%|███████████████████████████████████████████████████████████████████| 1000/1000 [00:16<00:00, 62.32it/s]\n",
      "\u001b[32m[I 2022-03-01 14:04:28,366]\u001b[0m Trial 0 finished with value: 63.168 and parameters: {'learning_rate': 0.001190816549975692, 'discount_factor': 0.99, 'batch_size': 128, 'memory_size': 50000, 'freq_steps_train': 128, 'freq_steps_update_target': 100, 'n_steps_warm_up_memory': 5000, 'n_gradient_steps': 1, 'nn_hidden_layers': [256, 256], 'max_grad_norm': 10, 'normalize_state': False, 'epsilon_start': 0.9, 'epsilon_end': 0.17336227111765506, 'steps_epsilon_decay': 100000, 'seed': 25634168}. Best is trial 0 with value: 63.168.\u001b[0m\n",
      "/Users/paulabartabajo/src/online-courses/hands-on-rl/03_cart_pole/.venv/lib/python3.7/site-packages/optuna/distributions.py:427: UserWarning: Choices for a categorical distribution should be a tuple of None, bool, int, float and str for persistent storage but contains [256, 256] which is of type list.\n",
      "  warnings.warn(message)\n"
     ]
    },
    {
     "name": "stdout",
     "output_type": "stream",
     "text": [
      "67,586 parameters\n"
     ]
    },
    {
     "name": "stderr",
     "output_type": "stream",
     "text": [
      "100%|████████████████████████████████████████████████████████████████████▋| 199/200 [01:13<00:00,  2.34it/s]\n",
      "  0%|                                                                               | 0/100 [00:00<?, ?it/s]\u001b[A\n",
      "  4%|██▊                                                                    | 4/100 [00:00<00:02, 32.67it/s]\u001b[A\n",
      "  8%|█████▋                                                                 | 8/100 [00:00<00:02, 33.67it/s]\u001b[A\n",
      " 12%|████████▍                                                             | 12/100 [00:00<00:02, 32.54it/s]\u001b[A\n",
      " 16%|███████████▏                                                          | 16/100 [00:00<00:02, 32.62it/s]\u001b[A\n",
      " 20%|██████████████                                                        | 20/100 [00:00<00:02, 32.73it/s]\u001b[A\n",
      " 24%|████████████████▊                                                     | 24/100 [00:00<00:02, 30.81it/s]\u001b[A\n",
      " 28%|███████████████████▌                                                  | 28/100 [00:00<00:02, 30.84it/s]\u001b[A\n",
      " 32%|██████████████████████▍                                               | 32/100 [00:01<00:02, 31.63it/s]\u001b[A\n",
      " 36%|█████████████████████████▏                                            | 36/100 [00:01<00:02, 31.80it/s]\u001b[A\n",
      " 40%|████████████████████████████                                          | 40/100 [00:01<00:01, 32.41it/s]\u001b[A\n",
      " 44%|██████████████████████████████▊                                       | 44/100 [00:01<00:01, 32.37it/s]\u001b[A\n",
      " 48%|█████████████████████████████████▌                                    | 48/100 [00:01<00:01, 32.77it/s]\u001b[A\n",
      " 52%|████████████████████████████████████▍                                 | 52/100 [00:01<00:01, 32.69it/s]\u001b[A\n",
      " 56%|███████████████████████████████████████▏                              | 56/100 [00:01<00:01, 32.96it/s]\u001b[A\n",
      " 60%|██████████████████████████████████████████                            | 60/100 [00:01<00:01, 28.89it/s]\u001b[A\n",
      " 64%|████████████████████████████████████████████▊                         | 64/100 [00:02<00:01, 30.74it/s]\u001b[A\n",
      " 68%|███████████████████████████████████████████████▌                      | 68/100 [00:02<00:00, 32.05it/s]\u001b[A\n",
      " 72%|██████████████████████████████████████████████████▍                   | 72/100 [00:02<00:00, 31.16it/s]\u001b[A\n",
      " 76%|█████████████████████████████████████████████████████▏                | 76/100 [00:02<00:00, 32.11it/s]\u001b[A\n",
      " 80%|████████████████████████████████████████████████████████              | 80/100 [00:02<00:00, 33.05it/s]\u001b[A\n",
      " 84%|██████████████████████████████████████████████████████████▊           | 84/100 [00:02<00:00, 30.35it/s]\u001b[A\n",
      " 88%|█████████████████████████████████████████████████████████████▌        | 88/100 [00:02<00:00, 30.08it/s]\u001b[A\n",
      " 92%|████████████████████████████████████████████████████████████████▍     | 92/100 [00:02<00:00, 28.61it/s]\u001b[A\n",
      " 95%|██████████████████████████████████████████████████████████████████▌   | 95/100 [00:03<00:00, 28.76it/s]\u001b[A\n",
      "100%|█████████████████████████████████████████████████████████████████████| 100/100 [00:03<00:00, 30.69it/s]\u001b[A\n",
      "100%|█████████████████████████████████████████████████████████████████████| 200/200 [01:17<00:00,  2.59it/s]\n"
     ]
    },
    {
     "name": "stdout",
     "output_type": "stream",
     "text": [
      "Reward mean: 106.14, std: 20.28\n",
      "Num steps mean: 106.14, std: 20.28\n"
     ]
    },
    {
     "name": "stderr",
     "output_type": "stream",
     "text": [
      "100%|███████████████████████████████████████████████████████████████████| 1000/1000 [00:26<00:00, 38.14it/s]\n",
      "\u001b[32m[I 2022-03-01 14:06:12,443]\u001b[0m Trial 1 finished with value: 105.102 and parameters: {'learning_rate': 0.000949490608570754, 'discount_factor': 0.95, 'batch_size': 32, 'memory_size': 100000, 'freq_steps_train': 8, 'freq_steps_update_target': 10, 'n_steps_warm_up_memory': 1000, 'n_gradient_steps': 16, 'nn_hidden_layers': [256, 256], 'max_grad_norm': 1, 'normalize_state': True, 'epsilon_start': 0.9, 'epsilon_end': 0.14535289732018808, 'steps_epsilon_decay': 10000, 'seed': 307206316}. Best is trial 1 with value: 105.102.\u001b[0m\n",
      "/Users/paulabartabajo/src/online-courses/hands-on-rl/03_cart_pole/.venv/lib/python3.7/site-packages/optuna/distributions.py:427: UserWarning: Choices for a categorical distribution should be a tuple of None, bool, int, float and str for persistent storage but contains [256, 256] which is of type list.\n",
      "  warnings.warn(message)\n"
     ]
    },
    {
     "name": "stdout",
     "output_type": "stream",
     "text": [
      "67,586 parameters\n"
     ]
    },
    {
     "name": "stderr",
     "output_type": "stream",
     "text": [
      " 98%|███████████████████████████████████████████████████████████████████▌ | 196/200 [00:03<00:00, 36.16it/s]\n",
      "  0%|                                                                               | 0/100 [00:00<?, ?it/s]\u001b[A\n",
      " 15%|██████████▎                                                          | 15/100 [00:00<00:00, 146.02it/s]\u001b[A\n",
      " 33%|██████████████████████▊                                              | 33/100 [00:00<00:00, 145.20it/s]\u001b[A\n",
      " 48%|█████████████████████████████████                                    | 48/100 [00:00<00:00, 115.25it/s]\u001b[A\n",
      " 63%|███████████████████████████████████████████▍                         | 63/100 [00:00<00:00, 124.98it/s]\u001b[A\n",
      " 77%|█████████████████████████████████████████████████████▏               | 77/100 [00:00<00:00, 128.19it/s]\u001b[A\n",
      "100%|████████████████████████████████████████████████████████████████████| 100/100 [00:00<00:00, 130.42it/s]\u001b[A\n",
      "100%|█████████████████████████████████████████████████████████████████████| 200/200 [00:04<00:00, 42.54it/s]\n"
     ]
    },
    {
     "name": "stdout",
     "output_type": "stream",
     "text": [
      "Reward mean: 27.84, std: 26.38\n",
      "Num steps mean: 27.84, std: 26.38\n"
     ]
    },
    {
     "name": "stderr",
     "output_type": "stream",
     "text": [
      "100%|██████████████████████████████████████████████████████████████████| 1000/1000 [00:07<00:00, 125.76it/s]\n",
      "\u001b[32m[I 2022-03-01 14:06:25,820]\u001b[0m Trial 2 finished with value: 28.226 and parameters: {'learning_rate': 0.0006465445202769354, 'discount_factor': 0.95, 'batch_size': 64, 'memory_size': 100000, 'freq_steps_train': 16, 'freq_steps_update_target': 100, 'n_steps_warm_up_memory': 1000, 'n_gradient_steps': 4, 'nn_hidden_layers': [256, 256], 'max_grad_norm': 1, 'normalize_state': True, 'epsilon_start': 0.9, 'epsilon_end': 0.18781702881511328, 'steps_epsilon_decay': 1000, 'seed': 798794036}. Best is trial 1 with value: 105.102.\u001b[0m\n",
      "/Users/paulabartabajo/src/online-courses/hands-on-rl/03_cart_pole/.venv/lib/python3.7/site-packages/optuna/distributions.py:427: UserWarning: Choices for a categorical distribution should be a tuple of None, bool, int, float and str for persistent storage but contains [256, 256] which is of type list.\n",
      "  warnings.warn(message)\n"
     ]
    },
    {
     "name": "stdout",
     "output_type": "stream",
     "text": [
      "67,586 parameters\n"
     ]
    },
    {
     "name": "stderr",
     "output_type": "stream",
     "text": [
      " 99%|███████████████████████████████████████████████████████████████████▎| 198/200 [00:01<00:00, 190.31it/s]\n",
      "  0%|                                                                               | 0/100 [00:00<?, ?it/s]\u001b[A\n",
      " 37%|█████████████████████████▌                                           | 37/100 [00:00<00:00, 366.92it/s]\u001b[A\n",
      "100%|████████████████████████████████████████████████████████████████████| 100/100 [00:00<00:00, 356.22it/s]\u001b[A\n",
      "100%|████████████████████████████████████████████████████████████████████| 200/200 [00:01<00:00, 145.45it/s]\n"
     ]
    },
    {
     "name": "stdout",
     "output_type": "stream",
     "text": [
      "Reward mean: 9.41, std: 0.84\n",
      "Num steps mean: 9.41, std: 0.84\n"
     ]
    },
    {
     "name": "stderr",
     "output_type": "stream",
     "text": [
      "100%|██████████████████████████████████████████████████████████████████| 1000/1000 [00:02<00:00, 350.05it/s]\n",
      "\u001b[32m[I 2022-03-01 14:06:30,406]\u001b[0m Trial 3 finished with value: 9.374 and parameters: {'learning_rate': 9.344738096982797e-05, 'discount_factor': 0.95, 'batch_size': 128, 'memory_size': 50000, 'freq_steps_train': 256, 'freq_steps_update_target': 1000, 'n_steps_warm_up_memory': 1000, 'n_gradient_steps': 1, 'nn_hidden_layers': [256, 256], 'max_grad_norm': 1, 'normalize_state': False, 'epsilon_start': 0.9, 'epsilon_end': 0.199963887261779, 'steps_epsilon_decay': 10000, 'seed': 1053629446}. Best is trial 1 with value: 105.102.\u001b[0m\n",
      "/Users/paulabartabajo/src/online-courses/hands-on-rl/03_cart_pole/.venv/lib/python3.7/site-packages/optuna/distributions.py:427: UserWarning: Choices for a categorical distribution should be a tuple of None, bool, int, float and str for persistent storage but contains [256, 256] which is of type list.\n",
      "  warnings.warn(message)\n"
     ]
    },
    {
     "name": "stdout",
     "output_type": "stream",
     "text": [
      "67,586 parameters\n"
     ]
    },
    {
     "name": "stderr",
     "output_type": "stream",
     "text": [
      "100%|████████████████████████████████████████████████████████████████████▋| 199/200 [00:14<00:00,  2.06it/s]\n",
      "  0%|                                                                               | 0/100 [00:00<?, ?it/s]\u001b[A\n",
      "  3%|██▏                                                                    | 3/100 [00:00<00:04, 22.98it/s]\u001b[A\n",
      "  6%|████▎                                                                  | 6/100 [00:00<00:04, 21.20it/s]\u001b[A\n",
      "  9%|██████▍                                                                | 9/100 [00:00<00:04, 19.92it/s]\u001b[A\n",
      " 12%|████████▍                                                             | 12/100 [00:00<00:04, 18.87it/s]\u001b[A\n",
      " 15%|██████████▌                                                           | 15/100 [00:00<00:04, 17.50it/s]\u001b[A\n",
      " 17%|███████████▉                                                          | 17/100 [00:00<00:04, 18.06it/s]\u001b[A\n",
      " 20%|██████████████                                                        | 20/100 [00:01<00:04, 19.40it/s]\u001b[A\n",
      " 23%|████████████████                                                      | 23/100 [00:01<00:03, 20.46it/s]\u001b[A\n",
      " 26%|██████████████████▏                                                   | 26/100 [00:01<00:03, 20.99it/s]\u001b[A\n",
      " 29%|████████████████████▎                                                 | 29/100 [00:01<00:03, 21.87it/s]\u001b[A\n",
      " 32%|██████████████████████▍                                               | 32/100 [00:01<00:03, 21.99it/s]\u001b[A\n",
      " 35%|████████████████████████▌                                             | 35/100 [00:01<00:03, 21.65it/s]\u001b[A\n",
      " 38%|██████████████████████████▌                                           | 38/100 [00:01<00:03, 19.42it/s]\u001b[A\n",
      " 40%|████████████████████████████                                          | 40/100 [00:02<00:03, 18.92it/s]\u001b[A\n",
      " 43%|██████████████████████████████                                        | 43/100 [00:02<00:02, 20.14it/s]\u001b[A\n",
      " 46%|████████████████████████████████▏                                     | 46/100 [00:02<00:02, 19.73it/s]\u001b[A\n",
      " 48%|█████████████████████████████████▌                                    | 48/100 [00:02<00:02, 19.45it/s]\u001b[A\n",
      " 51%|███████████████████████████████████▋                                  | 51/100 [00:02<00:02, 20.32it/s]\u001b[A\n",
      " 54%|█████████████████████████████████████▊                                | 54/100 [00:02<00:02, 21.24it/s]\u001b[A\n",
      " 57%|███████████████████████████████████████▉                              | 57/100 [00:02<00:02, 20.37it/s]\u001b[A\n",
      " 60%|██████████████████████████████████████████                            | 60/100 [00:02<00:01, 20.94it/s]\u001b[A\n",
      " 63%|████████████████████████████████████████████                          | 63/100 [00:03<00:01, 20.34it/s]\u001b[A\n",
      " 66%|██████████████████████████████████████████████▏                       | 66/100 [00:03<00:01, 19.84it/s]\u001b[A\n",
      " 68%|███████████████████████████████████████████████▌                      | 68/100 [00:03<00:01, 17.71it/s]\u001b[A\n",
      " 70%|█████████████████████████████████████████████████                     | 70/100 [00:03<00:01, 17.71it/s]\u001b[A\n",
      " 73%|███████████████████████████████████████████████████                   | 73/100 [00:03<00:01, 18.95it/s]\u001b[A\n",
      " 75%|████████████████████████████████████████████████████▌                 | 75/100 [00:03<00:01, 18.99it/s]\u001b[A\n",
      " 78%|██████████████████████████████████████████████████████▌               | 78/100 [00:03<00:01, 20.06it/s]\u001b[A\n",
      " 81%|████████████████████████████████████████████████████████▋             | 81/100 [00:04<00:00, 21.61it/s]\u001b[A\n",
      " 84%|██████████████████████████████████████████████████████████▊           | 84/100 [00:04<00:00, 23.16it/s]\u001b[A\n",
      " 87%|████████████████████████████████████████████████████████████▉         | 87/100 [00:04<00:00, 23.84it/s]\u001b[A\n",
      " 90%|███████████████████████████████████████████████████████████████       | 90/100 [00:04<00:00, 23.68it/s]\u001b[A\n",
      " 93%|█████████████████████████████████████████████████████████████████     | 93/100 [00:04<00:00, 21.23it/s]\u001b[A\n",
      " 96%|███████████████████████████████████████████████████████████████████▏  | 96/100 [00:04<00:00, 20.03it/s]\u001b[A\n",
      "100%|█████████████████████████████████████████████████████████████████████| 100/100 [00:04<00:00, 20.02it/s]\u001b[A\n",
      "100%|█████████████████████████████████████████████████████████████████████| 200/200 [00:19<00:00, 10.03it/s]\n"
     ]
    },
    {
     "name": "stdout",
     "output_type": "stream",
     "text": [
      "Reward mean: 168.78, std: 34.99\n",
      "Num steps mean: 168.78, std: 34.99\n"
     ]
    },
    {
     "name": "stderr",
     "output_type": "stream",
     "text": [
      "100%|███████████████████████████████████████████████████████████████████| 1000/1000 [00:45<00:00, 22.19it/s]\n",
      "\u001b[32m[I 2022-03-01 14:07:35,813]\u001b[0m Trial 4 finished with value: 166.979 and parameters: {'learning_rate': 0.004691802869126356, 'discount_factor': 0.95, 'batch_size': 64, 'memory_size': 50000, 'freq_steps_train': 16, 'freq_steps_update_target': 100, 'n_steps_warm_up_memory': 1000, 'n_gradient_steps': 4, 'nn_hidden_layers': [256, 256], 'max_grad_norm': 10, 'normalize_state': False, 'epsilon_start': 0.9, 'epsilon_end': 0.17333673262702784, 'steps_epsilon_decay': 1000, 'seed': 919073533}. Best is trial 4 with value: 166.979.\u001b[0m\n",
      "/Users/paulabartabajo/src/online-courses/hands-on-rl/03_cart_pole/.venv/lib/python3.7/site-packages/optuna/distributions.py:427: UserWarning: Choices for a categorical distribution should be a tuple of None, bool, int, float and str for persistent storage but contains [256, 256] which is of type list.\n",
      "  warnings.warn(message)\n"
     ]
    },
    {
     "name": "stdout",
     "output_type": "stream",
     "text": [
      "67,586 parameters\n"
     ]
    },
    {
     "name": "stderr",
     "output_type": "stream",
     "text": [
      "100%|████████████████████████████████████████████████████████████████████▋| 199/200 [00:42<00:00,  5.01it/s]\n",
      "  0%|                                                                               | 0/100 [00:00<?, ?it/s]\u001b[A\n",
      "  3%|██▏                                                                    | 3/100 [00:00<00:03, 25.92it/s]\u001b[A\n",
      "  6%|████▎                                                                  | 6/100 [00:00<00:04, 20.23it/s]\u001b[A\n",
      "  9%|██████▍                                                                | 9/100 [00:00<00:04, 21.15it/s]\u001b[A\n",
      " 12%|████████▍                                                             | 12/100 [00:00<00:03, 22.37it/s]\u001b[A\n",
      " 15%|██████████▌                                                           | 15/100 [00:00<00:03, 22.26it/s]\u001b[A\n",
      " 18%|████████████▌                                                         | 18/100 [00:00<00:04, 19.88it/s]\u001b[A\n",
      " 21%|██████████████▋                                                       | 21/100 [00:01<00:03, 20.19it/s]\u001b[A\n",
      " 24%|████████████████▊                                                     | 24/100 [00:01<00:03, 19.29it/s]\u001b[A\n",
      " 27%|██████████████████▉                                                   | 27/100 [00:01<00:03, 20.01it/s]\u001b[A\n",
      " 30%|█████████████████████                                                 | 30/100 [00:01<00:03, 20.26it/s]\u001b[A\n",
      " 33%|███████████████████████                                               | 33/100 [00:01<00:03, 20.47it/s]\u001b[A\n",
      " 36%|█████████████████████████▏                                            | 36/100 [00:01<00:03, 21.14it/s]\u001b[A\n",
      " 39%|███████████████████████████▎                                          | 39/100 [00:01<00:02, 22.27it/s]\u001b[A\n",
      " 42%|█████████████████████████████▍                                        | 42/100 [00:01<00:02, 22.97it/s]\u001b[A\n",
      " 45%|███████████████████████████████▌                                      | 45/100 [00:02<00:02, 23.70it/s]\u001b[A\n",
      " 48%|█████████████████████████████████▌                                    | 48/100 [00:02<00:02, 23.30it/s]\u001b[A\n",
      " 51%|███████████████████████████████████▋                                  | 51/100 [00:02<00:02, 22.12it/s]\u001b[A\n",
      " 54%|█████████████████████████████████████▊                                | 54/100 [00:02<00:02, 21.95it/s]\u001b[A\n",
      " 57%|███████████████████████████████████████▉                              | 57/100 [00:02<00:01, 22.15it/s]\u001b[A\n",
      " 60%|██████████████████████████████████████████                            | 60/100 [00:02<00:01, 21.76it/s]\u001b[A\n",
      " 63%|████████████████████████████████████████████                          | 63/100 [00:02<00:01, 20.47it/s]\u001b[A\n",
      " 66%|██████████████████████████████████████████████▏                       | 66/100 [00:03<00:01, 19.39it/s]\u001b[A\n",
      " 69%|████████████████████████████████████████████████▎                     | 69/100 [00:03<00:01, 20.26it/s]\u001b[A\n",
      " 72%|██████████████████████████████████████████████████▍                   | 72/100 [00:03<00:01, 19.72it/s]\u001b[A\n",
      " 75%|████████████████████████████████████████████████████▌                 | 75/100 [00:03<00:01, 20.63it/s]\u001b[A\n",
      " 78%|██████████████████████████████████████████████████████▌               | 78/100 [00:03<00:01, 21.11it/s]\u001b[A\n",
      " 81%|████████████████████████████████████████████████████████▋             | 81/100 [00:03<00:00, 22.43it/s]\u001b[A\n",
      " 84%|██████████████████████████████████████████████████████████▊           | 84/100 [00:03<00:00, 22.71it/s]\u001b[A\n",
      " 87%|████████████████████████████████████████████████████████████▉         | 87/100 [00:04<00:00, 23.09it/s]\u001b[A\n",
      " 90%|███████████████████████████████████████████████████████████████       | 90/100 [00:04<00:00, 22.67it/s]\u001b[A\n",
      " 93%|█████████████████████████████████████████████████████████████████     | 93/100 [00:04<00:00, 22.15it/s]\u001b[A\n",
      " 96%|███████████████████████████████████████████████████████████████████▏  | 96/100 [00:04<00:00, 21.39it/s]\u001b[A\n",
      "100%|█████████████████████████████████████████████████████████████████████| 100/100 [00:04<00:00, 21.31it/s]\u001b[A\n",
      "100%|█████████████████████████████████████████████████████████████████████| 200/200 [00:46<00:00,  4.26it/s]\n"
     ]
    },
    {
     "name": "stdout",
     "output_type": "stream",
     "text": [
      "Reward mean: 235.74, std: 53.05\n",
      "Num steps mean: 235.74, std: 53.05\n"
     ]
    },
    {
     "name": "stderr",
     "output_type": "stream",
     "text": [
      "100%|███████████████████████████████████████████████████████████████████| 1000/1000 [00:38<00:00, 25.64it/s]\n",
      "\u001b[32m[I 2022-03-01 14:09:02,191]\u001b[0m Trial 5 finished with value: 234.785 and parameters: {'learning_rate': 0.0003086834947719562, 'discount_factor': 0.95, 'batch_size': 16, 'memory_size': 100000, 'freq_steps_train': 8, 'freq_steps_update_target': 10, 'n_steps_warm_up_memory': 1000, 'n_gradient_steps': 16, 'nn_hidden_layers': [256, 256], 'max_grad_norm': 1, 'normalize_state': False, 'epsilon_start': 0.9, 'epsilon_end': 0.11321207054827075, 'steps_epsilon_decay': 100000, 'seed': 811861304}. Best is trial 5 with value: 234.785.\u001b[0m\n",
      "/Users/paulabartabajo/src/online-courses/hands-on-rl/03_cart_pole/.venv/lib/python3.7/site-packages/optuna/distributions.py:427: UserWarning: Choices for a categorical distribution should be a tuple of None, bool, int, float and str for persistent storage but contains [256, 256] which is of type list.\n",
      "  warnings.warn(message)\n"
     ]
    },
    {
     "name": "stdout",
     "output_type": "stream",
     "text": [
      "67,586 parameters\n"
     ]
    },
    {
     "name": "stderr",
     "output_type": "stream",
     "text": [
      " 97%|█████████████████████████████████████████████████████████████████▉  | 194/200 [00:00<00:00, 308.83it/s]\n",
      "  0%|                                                                               | 0/100 [00:00<?, ?it/s]\u001b[A\n",
      "100%|████████████████████████████████████████████████████████████████████| 100/100 [00:00<00:00, 554.61it/s]\u001b[A\n",
      "100%|████████████████████████████████████████████████████████████████████| 200/200 [00:00<00:00, 238.75it/s]\n"
     ]
    },
    {
     "name": "stdout",
     "output_type": "stream",
     "text": [
      "Reward mean: 9.41, std: 0.84\n",
      "Num steps mean: 9.41, std: 0.84\n"
     ]
    },
    {
     "name": "stderr",
     "output_type": "stream",
     "text": [
      "100%|██████████████████████████████████████████████████████████████████| 1000/1000 [00:01<00:00, 561.96it/s]\n",
      "\u001b[32m[I 2022-03-01 14:09:05,297]\u001b[0m Trial 6 finished with value: 9.374 and parameters: {'learning_rate': 1.4508328721046025e-05, 'discount_factor': 0.95, 'batch_size': 16, 'memory_size': 50000, 'freq_steps_train': 256, 'freq_steps_update_target': 1000, 'n_steps_warm_up_memory': 5000, 'n_gradient_steps': 16, 'nn_hidden_layers': [256, 256], 'max_grad_norm': 1, 'normalize_state': True, 'epsilon_start': 0.9, 'epsilon_end': 0.09305577255813087, 'steps_epsilon_decay': 1000, 'seed': 133651358}. Best is trial 5 with value: 234.785.\u001b[0m\n",
      "/Users/paulabartabajo/src/online-courses/hands-on-rl/03_cart_pole/.venv/lib/python3.7/site-packages/optuna/distributions.py:427: UserWarning: Choices for a categorical distribution should be a tuple of None, bool, int, float and str for persistent storage but contains [256, 256] which is of type list.\n",
      "  warnings.warn(message)\n"
     ]
    },
    {
     "name": "stdout",
     "output_type": "stream",
     "text": [
      "67,586 parameters\n"
     ]
    },
    {
     "name": "stderr",
     "output_type": "stream",
     "text": [
      " 88%|███████████████████████████████████████████████████████████▌        | 175/200 [00:00<00:00, 388.06it/s]\n",
      "  0%|                                                                               | 0/100 [00:00<?, ?it/s]\u001b[A\n",
      "100%|████████████████████████████████████████████████████████████████████| 100/100 [00:00<00:00, 609.12it/s]\u001b[A\n",
      "100%|████████████████████████████████████████████████████████████████████| 200/200 [00:00<00:00, 288.64it/s]\n"
     ]
    },
    {
     "name": "stdout",
     "output_type": "stream",
     "text": [
      "Reward mean: 9.41, std: 0.84\n",
      "Num steps mean: 9.41, std: 0.84\n"
     ]
    },
    {
     "name": "stderr",
     "output_type": "stream",
     "text": [
      "100%|██████████████████████████████████████████████████████████████████| 1000/1000 [00:01<00:00, 611.08it/s]\n",
      "\u001b[32m[I 2022-03-01 14:09:07,856]\u001b[0m Trial 7 finished with value: 9.374 and parameters: {'learning_rate': 1.1645439814512054e-05, 'discount_factor': 0.95, 'batch_size': 128, 'memory_size': 100000, 'freq_steps_train': 256, 'freq_steps_update_target': 100, 'n_steps_warm_up_memory': 5000, 'n_gradient_steps': 4, 'nn_hidden_layers': [256, 256], 'max_grad_norm': 10, 'normalize_state': False, 'epsilon_start': 0.9, 'epsilon_end': 0.09541663819538165, 'steps_epsilon_decay': 10000, 'seed': 870731029}. Best is trial 5 with value: 234.785.\u001b[0m\n",
      "/Users/paulabartabajo/src/online-courses/hands-on-rl/03_cart_pole/.venv/lib/python3.7/site-packages/optuna/distributions.py:427: UserWarning: Choices for a categorical distribution should be a tuple of None, bool, int, float and str for persistent storage but contains [256, 256] which is of type list.\n",
      "  warnings.warn(message)\n"
     ]
    },
    {
     "name": "stdout",
     "output_type": "stream",
     "text": [
      "67,586 parameters\n"
     ]
    },
    {
     "name": "stderr",
     "output_type": "stream",
     "text": [
      " 89%|████████████████████████████████████████████████████████████▌       | 178/200 [00:00<00:00, 307.62it/s]\n",
      "  0%|                                                                               | 0/100 [00:00<?, ?it/s]\u001b[A\n",
      "100%|████████████████████████████████████████████████████████████████████| 100/100 [00:00<00:00, 580.23it/s]\u001b[A\n",
      "100%|████████████████████████████████████████████████████████████████████| 200/200 [00:00<00:00, 237.78it/s]\n"
     ]
    },
    {
     "name": "stdout",
     "output_type": "stream",
     "text": [
      "Reward mean: 9.51, std: 0.92\n",
      "Num steps mean: 9.51, std: 0.92\n"
     ]
    },
    {
     "name": "stderr",
     "output_type": "stream",
     "text": [
      "100%|██████████████████████████████████████████████████████████████████| 1000/1000 [00:01<00:00, 623.38it/s]\n",
      "\u001b[32m[I 2022-03-01 14:09:10,528]\u001b[0m Trial 8 finished with value: 9.339 and parameters: {'learning_rate': 3.1021414149064754e-05, 'discount_factor': 0.9, 'batch_size': 16, 'memory_size': 10000, 'freq_steps_train': 256, 'freq_steps_update_target': 100, 'n_steps_warm_up_memory': 1000, 'n_gradient_steps': 4, 'nn_hidden_layers': [256, 256], 'max_grad_norm': 1, 'normalize_state': False, 'epsilon_start': 0.9, 'epsilon_end': 0.1852224224267246, 'steps_epsilon_decay': 100000, 'seed': 432674234}. Best is trial 5 with value: 234.785.\u001b[0m\n",
      "/Users/paulabartabajo/src/online-courses/hands-on-rl/03_cart_pole/.venv/lib/python3.7/site-packages/optuna/distributions.py:427: UserWarning: Choices for a categorical distribution should be a tuple of None, bool, int, float and str for persistent storage but contains [256, 256] which is of type list.\n",
      "  warnings.warn(message)\n"
     ]
    },
    {
     "name": "stdout",
     "output_type": "stream",
     "text": [
      "67,586 parameters\n"
     ]
    },
    {
     "name": "stderr",
     "output_type": "stream",
     "text": [
      "100%|████████████████████████████████████████████████████████████████████▋| 199/200 [00:51<00:00,  1.36it/s]\n",
      "  0%|                                                                               | 0/100 [00:00<?, ?it/s]\u001b[A\n",
      "  3%|██▏                                                                    | 3/100 [00:00<00:05, 19.39it/s]\u001b[A\n",
      "  6%|████▎                                                                  | 6/100 [00:00<00:04, 20.92it/s]\u001b[A\n",
      "  9%|██████▍                                                                | 9/100 [00:00<00:04, 22.48it/s]\u001b[A\n",
      " 12%|████████▍                                                             | 12/100 [00:00<00:03, 23.36it/s]\u001b[A\n",
      " 15%|██████████▌                                                           | 15/100 [00:00<00:03, 23.82it/s]\u001b[A\n",
      " 18%|████████████▌                                                         | 18/100 [00:00<00:03, 23.97it/s]\u001b[A\n",
      " 21%|██████████████▋                                                       | 21/100 [00:00<00:03, 22.39it/s]\u001b[A\n",
      " 24%|████████████████▊                                                     | 24/100 [00:01<00:03, 22.42it/s]\u001b[A\n",
      " 27%|██████████████████▉                                                   | 27/100 [00:01<00:03, 22.45it/s]\u001b[A\n",
      " 30%|█████████████████████                                                 | 30/100 [00:01<00:03, 21.32it/s]\u001b[A\n",
      " 33%|███████████████████████                                               | 33/100 [00:01<00:03, 19.54it/s]\u001b[A\n",
      " 35%|████████████████████████▌                                             | 35/100 [00:01<00:03, 18.07it/s]\u001b[A\n",
      " 38%|██████████████████████████▌                                           | 38/100 [00:01<00:03, 19.39it/s]\u001b[A\n",
      " 40%|████████████████████████████                                          | 40/100 [00:01<00:03, 19.51it/s]\u001b[A\n",
      " 42%|█████████████████████████████▍                                        | 42/100 [00:02<00:02, 19.47it/s]\u001b[A\n",
      " 45%|███████████████████████████████▌                                      | 45/100 [00:02<00:02, 20.23it/s]\u001b[A\n",
      " 48%|█████████████████████████████████▌                                    | 48/100 [00:02<00:02, 19.88it/s]\u001b[A\n",
      " 50%|███████████████████████████████████                                   | 50/100 [00:02<00:02, 17.97it/s]\u001b[A\n",
      " 53%|█████████████████████████████████████                                 | 53/100 [00:02<00:02, 18.91it/s]\u001b[A\n",
      " 56%|███████████████████████████████████████▏                              | 56/100 [00:02<00:02, 19.74it/s]\u001b[A\n",
      " 58%|████████████████████████████████████████▌                             | 58/100 [00:02<00:02, 19.08it/s]\u001b[A\n",
      " 61%|██████████████████████████████████████████▋                           | 61/100 [00:02<00:01, 20.35it/s]\u001b[A\n",
      " 64%|████████████████████████████████████████████▊                         | 64/100 [00:03<00:01, 20.66it/s]\u001b[A\n",
      " 67%|██████████████████████████████████████████████▉                       | 67/100 [00:03<00:01, 20.85it/s]\u001b[A\n",
      " 70%|█████████████████████████████████████████████████                     | 70/100 [00:03<00:01, 21.51it/s]\u001b[A\n",
      " 73%|███████████████████████████████████████████████████                   | 73/100 [00:03<00:01, 20.81it/s]\u001b[A\n",
      " 76%|█████████████████████████████████████████████████████▏                | 76/100 [00:03<00:01, 21.18it/s]\u001b[A\n",
      " 79%|███████████████████████████████████████████████████████▎              | 79/100 [00:03<00:00, 21.18it/s]\u001b[A\n",
      " 82%|█████████████████████████████████████████████████████████▍            | 82/100 [00:04<00:00, 19.04it/s]\u001b[A\n",
      " 84%|██████████████████████████████████████████████████████████▊           | 84/100 [00:04<00:00, 17.40it/s]\u001b[A\n",
      " 87%|████████████████████████████████████████████████████████████▉         | 87/100 [00:04<00:00, 18.36it/s]\u001b[A\n",
      " 90%|███████████████████████████████████████████████████████████████       | 90/100 [00:04<00:00, 19.76it/s]\u001b[A\n",
      " 93%|█████████████████████████████████████████████████████████████████     | 93/100 [00:04<00:00, 21.18it/s]\u001b[A\n",
      " 96%|███████████████████████████████████████████████████████████████████▏  | 96/100 [00:04<00:00, 21.51it/s]\u001b[A\n",
      "100%|█████████████████████████████████████████████████████████████████████| 100/100 [00:04<00:00, 20.54it/s]\u001b[A\n",
      "100%|█████████████████████████████████████████████████████████████████████| 200/200 [00:57<00:00,  3.48it/s]\n"
     ]
    },
    {
     "name": "stdout",
     "output_type": "stream",
     "text": [
      "Reward mean: 218.98, std: 40.75\n",
      "Num steps mean: 218.98, std: 40.75\n"
     ]
    },
    {
     "name": "stderr",
     "output_type": "stream",
     "text": [
      "100%|███████████████████████████████████████████████████████████████████| 1000/1000 [00:44<00:00, 22.23it/s]\n",
      "\u001b[32m[I 2022-03-01 14:10:53,257]\u001b[0m Trial 9 finished with value: 216.993 and parameters: {'learning_rate': 0.00015151606093637683, 'discount_factor': 0.99, 'batch_size': 16, 'memory_size': 50000, 'freq_steps_train': 16, 'freq_steps_update_target': 100, 'n_steps_warm_up_memory': 1000, 'n_gradient_steps': 16, 'nn_hidden_layers': [256, 256], 'max_grad_norm': 1, 'normalize_state': False, 'epsilon_start': 0.9, 'epsilon_end': 0.023370778563910233, 'steps_epsilon_decay': 10000, 'seed': 717156620}. Best is trial 5 with value: 234.785.\u001b[0m\n",
      "/Users/paulabartabajo/src/online-courses/hands-on-rl/03_cart_pole/.venv/lib/python3.7/site-packages/optuna/distributions.py:427: UserWarning: Choices for a categorical distribution should be a tuple of None, bool, int, float and str for persistent storage but contains [256, 256] which is of type list.\n",
      "  warnings.warn(message)\n"
     ]
    },
    {
     "name": "stdout",
     "output_type": "stream",
     "text": [
      "67,586 parameters\n"
     ]
    },
    {
     "name": "stderr",
     "output_type": "stream",
     "text": [
      " 86%|██████████████████████████████████████████████████████████▏         | 171/200 [00:00<00:00, 290.43it/s]\n",
      "  0%|                                                                               | 0/100 [00:00<?, ?it/s]\u001b[A\n",
      " 42%|████████████████████████████▉                                        | 42/100 [00:00<00:00, 418.62it/s]\u001b[A\n",
      "100%|████████████████████████████████████████████████████████████████████| 100/100 [00:00<00:00, 397.64it/s]\u001b[A\n",
      "100%|████████████████████████████████████████████████████████████████████| 200/200 [00:00<00:00, 219.81it/s]\n"
     ]
    },
    {
     "name": "stdout",
     "output_type": "stream",
     "text": [
      "Reward mean: 9.41, std: 0.84\n",
      "Num steps mean: 9.41, std: 0.84\n"
     ]
    },
    {
     "name": "stderr",
     "output_type": "stream",
     "text": [
      "100%|██████████████████████████████████████████████████████████████████| 1000/1000 [00:02<00:00, 473.22it/s]\n",
      "\u001b[32m[I 2022-03-01 14:10:56,919]\u001b[0m Trial 10 finished with value: 9.374 and parameters: {'learning_rate': 0.007035465036135476, 'discount_factor': 0.9, 'batch_size': 32, 'memory_size': 10000, 'freq_steps_train': 8, 'freq_steps_update_target': 10, 'n_steps_warm_up_memory': 5000, 'n_gradient_steps': 16, 'nn_hidden_layers': [256, 256], 'max_grad_norm': 10, 'normalize_state': True, 'epsilon_start': 0.9, 'epsilon_end': 0.04734280024411143, 'steps_epsilon_decay': 100000, 'seed': 588748619}. Best is trial 5 with value: 234.785.\u001b[0m\n",
      "/Users/paulabartabajo/src/online-courses/hands-on-rl/03_cart_pole/.venv/lib/python3.7/site-packages/optuna/distributions.py:427: UserWarning: Choices for a categorical distribution should be a tuple of None, bool, int, float and str for persistent storage but contains [256, 256] which is of type list.\n",
      "  warnings.warn(message)\n"
     ]
    },
    {
     "name": "stdout",
     "output_type": "stream",
     "text": [
      "67,586 parameters\n"
     ]
    },
    {
     "name": "stderr",
     "output_type": "stream",
     "text": [
      "100%|████████████████████████████████████████████████████████████████████▋| 199/200 [00:34<00:00,  1.06it/s]\n",
      "  0%|                                                                               | 0/100 [00:00<?, ?it/s]\u001b[A\n",
      "  3%|██▏                                                                    | 3/100 [00:00<00:04, 23.44it/s]\u001b[A\n",
      "  6%|████▎                                                                  | 6/100 [00:00<00:05, 18.14it/s]\u001b[A\n",
      "  8%|█████▋                                                                 | 8/100 [00:00<00:05, 16.88it/s]\u001b[A\n",
      " 10%|███████                                                               | 10/100 [00:00<00:05, 16.36it/s]\u001b[A\n",
      " 12%|████████▍                                                             | 12/100 [00:00<00:05, 17.01it/s]\u001b[A\n",
      " 14%|█████████▊                                                            | 14/100 [00:00<00:04, 17.33it/s]\u001b[A\n",
      " 16%|███████████▏                                                          | 16/100 [00:00<00:04, 16.83it/s]\u001b[A\n",
      " 18%|████████████▌                                                         | 18/100 [00:01<00:05, 16.23it/s]\u001b[A\n",
      " 20%|██████████████                                                        | 20/100 [00:01<00:05, 15.92it/s]\u001b[A\n",
      " 22%|███████████████▍                                                      | 22/100 [00:01<00:04, 16.33it/s]\u001b[A\n",
      " 25%|█████████████████▌                                                    | 25/100 [00:01<00:04, 17.43it/s]\u001b[A\n",
      " 27%|██████████████████▉                                                   | 27/100 [00:01<00:04, 16.99it/s]\u001b[A\n",
      " 29%|████████████████████▎                                                 | 29/100 [00:01<00:04, 17.54it/s]\u001b[A\n",
      " 31%|█████████████████████▋                                                | 31/100 [00:01<00:03, 17.55it/s]\u001b[A\n",
      " 33%|███████████████████████                                               | 33/100 [00:01<00:03, 17.91it/s]\u001b[A\n",
      " 36%|█████████████████████████▏                                            | 36/100 [00:02<00:03, 17.76it/s]\u001b[A\n",
      " 38%|██████████████████████████▌                                           | 38/100 [00:02<00:03, 16.87it/s]\u001b[A\n",
      " 40%|████████████████████████████                                          | 40/100 [00:02<00:03, 16.90it/s]\u001b[A\n",
      " 42%|█████████████████████████████▍                                        | 42/100 [00:02<00:03, 17.64it/s]\u001b[A\n",
      " 44%|██████████████████████████████▊                                       | 44/100 [00:02<00:03, 15.95it/s]\u001b[A\n",
      " 46%|████████████████████████████████▏                                     | 46/100 [00:02<00:03, 16.61it/s]\u001b[A\n",
      " 48%|█████████████████████████████████▌                                    | 48/100 [00:02<00:03, 15.86it/s]\u001b[A\n",
      " 50%|███████████████████████████████████                                   | 50/100 [00:02<00:03, 16.41it/s]\u001b[A\n",
      " 52%|████████████████████████████████████▍                                 | 52/100 [00:03<00:02, 16.00it/s]\u001b[A\n",
      " 54%|█████████████████████████████████████▊                                | 54/100 [00:03<00:02, 16.06it/s]\u001b[A\n",
      " 56%|███████████████████████████████████████▏                              | 56/100 [00:03<00:02, 15.78it/s]\u001b[A\n",
      " 58%|████████████████████████████████████████▌                             | 58/100 [00:03<00:02, 15.82it/s]\u001b[A\n",
      " 60%|██████████████████████████████████████████                            | 60/100 [00:03<00:02, 13.93it/s]\u001b[A\n",
      " 62%|███████████████████████████████████████████▍                          | 62/100 [00:03<00:02, 14.14it/s]\u001b[A\n",
      " 64%|████████████████████████████████████████████▊                         | 64/100 [00:03<00:02, 14.65it/s]\u001b[A\n",
      " 66%|██████████████████████████████████████████████▏                       | 66/100 [00:04<00:02, 14.55it/s]\u001b[A\n",
      " 68%|███████████████████████████████████████████████▌                      | 68/100 [00:04<00:02, 13.68it/s]\u001b[A\n",
      " 70%|█████████████████████████████████████████████████                     | 70/100 [00:04<00:02, 13.50it/s]\u001b[A\n",
      " 72%|██████████████████████████████████████████████████▍                   | 72/100 [00:04<00:01, 14.16it/s]\u001b[A\n",
      " 74%|███████████████████████████████████████████████████▊                  | 74/100 [00:04<00:01, 14.26it/s]\u001b[A\n",
      " 76%|█████████████████████████████████████████████████████▏                | 76/100 [00:04<00:01, 13.23it/s]\u001b[A\n",
      " 78%|██████████████████████████████████████████████████████▌               | 78/100 [00:04<00:01, 14.49it/s]\u001b[A\n",
      " 80%|████████████████████████████████████████████████████████              | 80/100 [00:05<00:01, 14.16it/s]\u001b[A\n",
      " 82%|█████████████████████████████████████████████████████████▍            | 82/100 [00:05<00:01, 15.34it/s]\u001b[A\n",
      " 84%|██████████████████████████████████████████████████████████▊           | 84/100 [00:05<00:00, 16.41it/s]\u001b[A\n",
      " 86%|████████████████████████████████████████████████████████████▏         | 86/100 [00:05<00:00, 15.79it/s]\u001b[A\n",
      " 88%|█████████████████████████████████████████████████████████████▌        | 88/100 [00:05<00:00, 16.65it/s]\u001b[A\n",
      " 90%|███████████████████████████████████████████████████████████████       | 90/100 [00:05<00:00, 14.13it/s]\u001b[A\n",
      " 92%|████████████████████████████████████████████████████████████████▍     | 92/100 [00:05<00:00, 14.23it/s]\u001b[A\n",
      " 94%|█████████████████████████████████████████████████████████████████▊    | 94/100 [00:05<00:00, 13.87it/s]\u001b[A\n",
      " 96%|███████████████████████████████████████████████████████████████████▏  | 96/100 [00:06<00:00, 14.03it/s]\u001b[A\n",
      " 98%|████████████████████████████████████████████████████████████████████▌ | 98/100 [00:06<00:00, 14.21it/s]\u001b[A\n",
      "100%|█████████████████████████████████████████████████████████████████████| 100/100 [00:06<00:00, 15.45it/s]\u001b[A\n",
      "100%|█████████████████████████████████████████████████████████████████████| 200/200 [00:41<00:00,  4.82it/s]\n"
     ]
    },
    {
     "name": "stdout",
     "output_type": "stream",
     "text": [
      "Reward mean: 315.52, std: 77.06\n",
      "Num steps mean: 315.52, std: 77.06\n"
     ]
    },
    {
     "name": "stderr",
     "output_type": "stream",
     "text": [
      "100%|███████████████████████████████████████████████████████████████████| 1000/1000 [01:19<00:00, 12.56it/s]\n",
      "\u001b[32m[I 2022-03-01 14:12:58,374]\u001b[0m Trial 11 finished with value: 318.131 and parameters: {'learning_rate': 0.0001070471863573485, 'discount_factor': 0.99, 'batch_size': 16, 'memory_size': 100000, 'freq_steps_train': 16, 'freq_steps_update_target': 10, 'n_steps_warm_up_memory': 1000, 'n_gradient_steps': 16, 'nn_hidden_layers': [256, 256], 'max_grad_norm': 1, 'normalize_state': False, 'epsilon_start': 0.9, 'epsilon_end': 0.00011521015283626548, 'steps_epsilon_decay': 10000, 'seed': 681687734}. Best is trial 11 with value: 318.131.\u001b[0m\n",
      "/Users/paulabartabajo/src/online-courses/hands-on-rl/03_cart_pole/.venv/lib/python3.7/site-packages/optuna/distributions.py:427: UserWarning: Choices for a categorical distribution should be a tuple of None, bool, int, float and str for persistent storage but contains [256, 256] which is of type list.\n",
      "  warnings.warn(message)\n"
     ]
    },
    {
     "name": "stdout",
     "output_type": "stream",
     "text": [
      "67,586 parameters\n"
     ]
    },
    {
     "name": "stderr",
     "output_type": "stream",
     "text": [
      "100%|████████████████████████████████████████████████████████████████████▋| 199/200 [00:46<00:00,  3.44it/s]\n",
      "  0%|                                                                               | 0/100 [00:00<?, ?it/s]\u001b[A\n",
      "  3%|██▏                                                                    | 3/100 [00:00<00:03, 25.12it/s]\u001b[A\n",
      "  6%|████▎                                                                  | 6/100 [00:00<00:04, 19.78it/s]\u001b[A\n",
      "  9%|██████▍                                                                | 9/100 [00:00<00:04, 18.60it/s]\u001b[A\n",
      " 11%|███████▋                                                              | 11/100 [00:00<00:04, 18.58it/s]\u001b[A\n",
      " 13%|█████████                                                             | 13/100 [00:00<00:04, 18.88it/s]\u001b[A\n",
      " 15%|██████████▌                                                           | 15/100 [00:00<00:04, 18.64it/s]\u001b[A\n",
      " 17%|███████████▉                                                          | 17/100 [00:00<00:04, 18.48it/s]\u001b[A\n",
      " 20%|██████████████                                                        | 20/100 [00:01<00:04, 19.36it/s]\u001b[A\n",
      " 22%|███████████████▍                                                      | 22/100 [00:01<00:04, 18.61it/s]\u001b[A\n",
      " 24%|████████████████▊                                                     | 24/100 [00:01<00:04, 18.63it/s]\u001b[A\n",
      " 26%|██████████████████▏                                                   | 26/100 [00:01<00:03, 18.89it/s]\u001b[A\n",
      " 29%|████████████████████▎                                                 | 29/100 [00:01<00:03, 20.43it/s]\u001b[A\n",
      " 32%|██████████████████████▍                                               | 32/100 [00:01<00:03, 18.94it/s]\u001b[A\n",
      " 35%|████████████████████████▌                                             | 35/100 [00:01<00:03, 21.00it/s]\u001b[A\n",
      " 38%|██████████████████████████▌                                           | 38/100 [00:01<00:02, 22.10it/s]\u001b[A\n",
      " 41%|████████████████████████████▋                                         | 41/100 [00:02<00:02, 22.94it/s]\u001b[A\n",
      " 44%|██████████████████████████████▊                                       | 44/100 [00:02<00:02, 23.77it/s]\u001b[A\n",
      " 47%|████████████████████████████████▉                                     | 47/100 [00:02<00:02, 23.68it/s]\u001b[A\n",
      " 50%|███████████████████████████████████                                   | 50/100 [00:02<00:02, 23.63it/s]\u001b[A\n",
      " 53%|█████████████████████████████████████                                 | 53/100 [00:02<00:02, 21.45it/s]\u001b[A\n",
      " 56%|███████████████████████████████████████▏                              | 56/100 [00:02<00:02, 21.60it/s]\u001b[A\n",
      " 59%|█████████████████████████████████████████▎                            | 59/100 [00:02<00:01, 22.73it/s]\u001b[A\n",
      " 62%|███████████████████████████████████████████▍                          | 62/100 [00:03<00:01, 20.32it/s]\u001b[A\n",
      " 65%|█████████████████████████████████████████████▌                        | 65/100 [00:03<00:01, 21.28it/s]\u001b[A\n",
      " 68%|███████████████████████████████████████████████▌                      | 68/100 [00:03<00:01, 22.74it/s]\u001b[A\n",
      " 71%|█████████████████████████████████████████████████▋                    | 71/100 [00:03<00:01, 21.70it/s]\u001b[A\n",
      " 74%|███████████████████████████████████████████████████▊                  | 74/100 [00:03<00:01, 21.14it/s]\u001b[A\n",
      " 77%|█████████████████████████████████████████████████████▉                | 77/100 [00:03<00:01, 22.17it/s]\u001b[A\n",
      " 80%|████████████████████████████████████████████████████████              | 80/100 [00:03<00:00, 23.88it/s]\u001b[A\n",
      " 83%|██████████████████████████████████████████████████████████            | 83/100 [00:03<00:00, 24.07it/s]\u001b[A\n",
      " 86%|████████████████████████████████████████████████████████████▏         | 86/100 [00:03<00:00, 25.38it/s]\u001b[A\n",
      " 89%|██████████████████████████████████████████████████████████████▎       | 89/100 [00:04<00:00, 25.19it/s]\u001b[A\n",
      " 92%|████████████████████████████████████████████████████████████████▍     | 92/100 [00:04<00:00, 22.78it/s]\u001b[A\n",
      " 95%|██████████████████████████████████████████████████████████████████▌   | 95/100 [00:04<00:00, 23.34it/s]\u001b[A\n",
      "100%|█████████████████████████████████████████████████████████████████████| 100/100 [00:04<00:00, 21.65it/s]\u001b[A\n",
      "100%|█████████████████████████████████████████████████████████████████████| 200/200 [00:51<00:00,  3.88it/s]\n"
     ]
    },
    {
     "name": "stdout",
     "output_type": "stream",
     "text": [
      "Reward mean: 214.20, std: 50.36\n",
      "Num steps mean: 214.20, std: 50.36\n"
     ]
    },
    {
     "name": "stderr",
     "output_type": "stream",
     "text": [
      "100%|███████████████████████████████████████████████████████████████████| 1000/1000 [00:56<00:00, 17.74it/s]\n",
      "\u001b[32m[I 2022-03-01 14:14:46,569]\u001b[0m Trial 12 finished with value: 214.565 and parameters: {'learning_rate': 0.0002273339508911123, 'discount_factor': 0.99, 'batch_size': 16, 'memory_size': 100000, 'freq_steps_train': 8, 'freq_steps_update_target': 10, 'n_steps_warm_up_memory': 1000, 'n_gradient_steps': 16, 'nn_hidden_layers': [256, 256], 'max_grad_norm': 1, 'normalize_state': False, 'epsilon_start': 0.9, 'epsilon_end': 0.0011550265686653767, 'steps_epsilon_decay': 100000, 'seed': 624209401}. Best is trial 11 with value: 318.131.\u001b[0m\n",
      "/Users/paulabartabajo/src/online-courses/hands-on-rl/03_cart_pole/.venv/lib/python3.7/site-packages/optuna/distributions.py:427: UserWarning: Choices for a categorical distribution should be a tuple of None, bool, int, float and str for persistent storage but contains [256, 256] which is of type list.\n",
      "  warnings.warn(message)\n"
     ]
    },
    {
     "name": "stdout",
     "output_type": "stream",
     "text": [
      "67,586 parameters\n"
     ]
    },
    {
     "name": "stderr",
     "output_type": "stream",
     "text": [
      " 94%|████████████████████████████████████████████████████████████████▌    | 187/200 [00:02<00:00, 76.90it/s]\n",
      "  0%|                                                                               | 0/100 [00:00<?, ?it/s]\u001b[A\n",
      " 47%|████████████████████████████████▍                                    | 47/100 [00:00<00:00, 466.23it/s]\u001b[A\n",
      "100%|████████████████████████████████████████████████████████████████████| 100/100 [00:00<00:00, 427.86it/s]\u001b[A\n",
      "100%|█████████████████████████████████████████████████████████████████████| 200/200 [00:02<00:00, 81.52it/s]\n"
     ]
    },
    {
     "name": "stdout",
     "output_type": "stream",
     "text": [
      "Reward mean: 9.51, std: 0.92\n",
      "Num steps mean: 9.51, std: 0.92\n"
     ]
    },
    {
     "name": "stderr",
     "output_type": "stream",
     "text": [
      "100%|██████████████████████████████████████████████████████████████████| 1000/1000 [00:01<00:00, 512.46it/s]\n",
      "\u001b[32m[I 2022-03-01 14:14:51,294]\u001b[0m Trial 13 finished with value: 9.339 and parameters: {'learning_rate': 5.191705146291237e-05, 'discount_factor': 0.99, 'batch_size': 16, 'memory_size': 100000, 'freq_steps_train': 128, 'freq_steps_update_target': 10, 'n_steps_warm_up_memory': 1000, 'n_gradient_steps': 16, 'nn_hidden_layers': [256, 256], 'max_grad_norm': 1, 'normalize_state': False, 'epsilon_start': 0.9, 'epsilon_end': 0.12719306007271317, 'steps_epsilon_decay': 100000, 'seed': 472168800}. Best is trial 11 with value: 318.131.\u001b[0m\n",
      "/Users/paulabartabajo/src/online-courses/hands-on-rl/03_cart_pole/.venv/lib/python3.7/site-packages/optuna/distributions.py:427: UserWarning: Choices for a categorical distribution should be a tuple of None, bool, int, float and str for persistent storage but contains [256, 256] which is of type list.\n",
      "  warnings.warn(message)\n"
     ]
    },
    {
     "name": "stdout",
     "output_type": "stream",
     "text": [
      "67,586 parameters\n"
     ]
    },
    {
     "name": "stderr",
     "output_type": "stream",
     "text": [
      "100%|████████████████████████████████████████████████████████████████████▋| 199/200 [04:13<00:03,  3.99s/it]\n",
      "  0%|                                                                               | 0/100 [00:00<?, ?it/s]\u001b[A\n",
      "  1%|▋                                                                      | 1/100 [00:00<00:18,  5.23it/s]\u001b[A\n",
      "  2%|█▍                                                                     | 2/100 [00:00<00:20,  4.70it/s]\u001b[A\n",
      "  3%|██▏                                                                    | 3/100 [00:00<00:22,  4.40it/s]\u001b[A\n",
      "  4%|██▊                                                                    | 4/100 [00:00<00:18,  5.06it/s]\u001b[A\n",
      "  5%|███▌                                                                   | 5/100 [00:00<00:17,  5.40it/s]\u001b[A\n",
      "  6%|████▎                                                                  | 6/100 [00:01<00:16,  5.70it/s]\u001b[A\n",
      "  7%|████▉                                                                  | 7/100 [00:01<00:15,  6.04it/s]\u001b[A\n",
      "  8%|█████▋                                                                 | 8/100 [00:01<00:14,  6.35it/s]\u001b[A\n",
      "  9%|██████▍                                                                | 9/100 [00:01<00:13,  6.68it/s]\u001b[A\n",
      " 10%|███████                                                               | 10/100 [00:01<00:12,  6.93it/s]\u001b[A\n",
      " 11%|███████▋                                                              | 11/100 [00:01<00:12,  6.97it/s]\u001b[A\n",
      " 12%|████████▍                                                             | 12/100 [00:01<00:12,  7.02it/s]\u001b[A\n",
      " 13%|█████████                                                             | 13/100 [00:02<00:12,  7.04it/s]\u001b[A\n",
      " 14%|█████████▊                                                            | 14/100 [00:02<00:12,  6.98it/s]\u001b[A\n",
      " 15%|██████████▌                                                           | 15/100 [00:02<00:12,  6.98it/s]\u001b[A\n",
      " 16%|███████████▏                                                          | 16/100 [00:02<00:12,  6.49it/s]\u001b[A\n",
      " 17%|███████████▉                                                          | 17/100 [00:02<00:13,  6.32it/s]\u001b[A\n",
      " 18%|████████████▌                                                         | 18/100 [00:02<00:12,  6.60it/s]\u001b[A\n",
      " 19%|█████████████▎                                                        | 19/100 [00:03<00:11,  6.81it/s]\u001b[A\n",
      " 20%|██████████████                                                        | 20/100 [00:03<00:11,  6.96it/s]\u001b[A\n",
      " 21%|██████████████▋                                                       | 21/100 [00:03<00:11,  6.74it/s]\u001b[A\n",
      " 22%|███████████████▍                                                      | 22/100 [00:03<00:12,  6.31it/s]\u001b[A\n",
      " 23%|████████████████                                                      | 23/100 [00:03<00:11,  6.57it/s]\u001b[A\n",
      " 24%|████████████████▊                                                     | 24/100 [00:03<00:11,  6.79it/s]\u001b[A\n",
      " 25%|█████████████████▌                                                    | 25/100 [00:03<00:10,  6.91it/s]\u001b[A\n",
      " 26%|██████████████████▏                                                   | 26/100 [00:04<00:10,  7.07it/s]\u001b[A\n",
      " 27%|██████████████████▉                                                   | 27/100 [00:04<00:10,  7.23it/s]\u001b[A\n",
      " 28%|███████████████████▌                                                  | 28/100 [00:04<00:09,  7.35it/s]\u001b[A\n",
      " 29%|████████████████████▎                                                 | 29/100 [00:04<00:09,  7.32it/s]\u001b[A\n",
      " 30%|█████████████████████                                                 | 30/100 [00:04<00:09,  7.17it/s]\u001b[A\n",
      " 31%|█████████████████████▋                                                | 31/100 [00:04<00:09,  7.09it/s]\u001b[A\n",
      " 32%|██████████████████████▍                                               | 32/100 [00:04<00:09,  7.06it/s]\u001b[A\n",
      " 33%|███████████████████████                                               | 33/100 [00:05<00:10,  6.55it/s]\u001b[A\n",
      " 34%|███████████████████████▊                                              | 34/100 [00:05<00:09,  6.70it/s]\u001b[A\n",
      " 35%|████████████████████████▌                                             | 35/100 [00:05<00:10,  5.96it/s]\u001b[A\n",
      " 36%|█████████████████████████▏                                            | 36/100 [00:05<00:10,  5.87it/s]\u001b[A\n",
      " 37%|█████████████████████████▉                                            | 37/100 [00:05<00:10,  5.99it/s]\u001b[A\n",
      " 38%|██████████████████████████▌                                           | 38/100 [00:05<00:10,  6.14it/s]\u001b[A\n",
      " 39%|███████████████████████████▎                                          | 39/100 [00:06<00:09,  6.13it/s]\u001b[A\n",
      " 40%|████████████████████████████                                          | 40/100 [00:06<00:09,  6.27it/s]\u001b[A\n",
      " 41%|████████████████████████████▋                                         | 41/100 [00:06<00:09,  6.33it/s]\u001b[A\n",
      " 42%|█████████████████████████████▍                                        | 42/100 [00:06<00:09,  6.35it/s]\u001b[A\n",
      " 43%|██████████████████████████████                                        | 43/100 [00:06<00:11,  4.81it/s]\u001b[A\n",
      " 44%|██████████████████████████████▊                                       | 44/100 [00:07<00:12,  4.38it/s]\u001b[A\n",
      " 45%|███████████████████████████████▌                                      | 45/100 [00:07<00:15,  3.59it/s]\u001b[A\n",
      " 46%|████████████████████████████████▏                                     | 46/100 [00:07<00:15,  3.55it/s]\u001b[A\n",
      " 47%|████████████████████████████████▉                                     | 47/100 [00:08<00:14,  3.76it/s]\u001b[A\n",
      " 48%|█████████████████████████████████▌                                    | 48/100 [00:08<00:12,  4.09it/s]\u001b[A\n",
      " 49%|██████████████████████████████████▎                                   | 49/100 [00:08<00:11,  4.26it/s]\u001b[A\n",
      " 50%|███████████████████████████████████                                   | 50/100 [00:08<00:11,  4.37it/s]\u001b[A\n",
      " 51%|███████████████████████████████████▋                                  | 51/100 [00:08<00:10,  4.59it/s]\u001b[A\n",
      " 52%|████████████████████████████████████▍                                 | 52/100 [00:09<00:10,  4.78it/s]\u001b[A\n",
      " 53%|█████████████████████████████████████                                 | 53/100 [00:09<00:09,  5.03it/s]\u001b[A\n",
      " 54%|█████████████████████████████████████▊                                | 54/100 [00:09<00:08,  5.14it/s]\u001b[A\n",
      " 55%|██████████████████████████████████████▌                               | 55/100 [00:09<00:08,  5.32it/s]\u001b[A\n",
      " 56%|███████████████████████████████████████▏                              | 56/100 [00:09<00:07,  5.52it/s]\u001b[A\n",
      " 57%|███████████████████████████████████████▉                              | 57/100 [00:09<00:07,  5.39it/s]\u001b[A\n",
      " 58%|████████████████████████████████████████▌                             | 58/100 [00:10<00:08,  5.20it/s]\u001b[A\n",
      " 59%|█████████████████████████████████████████▎                            | 59/100 [00:10<00:08,  4.83it/s]\u001b[A\n",
      " 60%|██████████████████████████████████████████                            | 60/100 [00:10<00:08,  4.76it/s]\u001b[A\n",
      " 61%|██████████████████████████████████████████▋                           | 61/100 [00:10<00:09,  4.09it/s]\u001b[A\n",
      " 62%|███████████████████████████████████████████▍                          | 62/100 [00:11<00:09,  3.96it/s]\u001b[A\n",
      " 63%|████████████████████████████████████████████                          | 63/100 [00:11<00:09,  3.72it/s]\u001b[A\n",
      " 64%|████████████████████████████████████████████▊                         | 64/100 [00:11<00:08,  4.07it/s]\u001b[A\n",
      " 65%|█████████████████████████████████████████████▌                        | 65/100 [00:11<00:08,  4.12it/s]\u001b[A\n",
      " 66%|██████████████████████████████████████████████▏                       | 66/100 [00:12<00:07,  4.28it/s]\u001b[A\n",
      " 67%|██████████████████████████████████████████████▉                       | 67/100 [00:12<00:07,  4.37it/s]\u001b[A\n",
      " 68%|███████████████████████████████████████████████▌                      | 68/100 [00:12<00:07,  4.27it/s]\u001b[A\n",
      " 69%|████████████████████████████████████████████████▎                     | 69/100 [00:12<00:07,  4.30it/s]\u001b[A\n",
      " 70%|█████████████████████████████████████████████████                     | 70/100 [00:13<00:06,  4.50it/s]\u001b[A\n",
      " 71%|█████████████████████████████████████████████████▋                    | 71/100 [00:13<00:06,  4.59it/s]\u001b[A\n",
      " 72%|██████████████████████████████████████████████████▍                   | 72/100 [00:13<00:06,  4.53it/s]\u001b[A\n",
      " 73%|███████████████████████████████████████████████████                   | 73/100 [00:13<00:05,  4.65it/s]\u001b[A\n",
      " 74%|███████████████████████████████████████████████████▊                  | 74/100 [00:13<00:05,  4.82it/s]\u001b[A\n",
      " 75%|████████████████████████████████████████████████████▌                 | 75/100 [00:14<00:04,  5.13it/s]\u001b[A\n",
      " 76%|█████████████████████████████████████████████████████▏                | 76/100 [00:14<00:04,  5.43it/s]\u001b[A\n",
      " 77%|█████████████████████████████████████████████████████▉                | 77/100 [00:14<00:04,  5.72it/s]\u001b[A\n",
      " 78%|██████████████████████████████████████████████████████▌               | 78/100 [00:14<00:03,  6.00it/s]\u001b[A\n",
      " 79%|███████████████████████████████████████████████████████▎              | 79/100 [00:14<00:03,  6.09it/s]\u001b[A\n",
      " 80%|████████████████████████████████████████████████████████              | 80/100 [00:14<00:03,  6.27it/s]\u001b[A\n",
      " 81%|████████████████████████████████████████████████████████▋             | 81/100 [00:14<00:02,  6.44it/s]\u001b[A\n",
      " 82%|█████████████████████████████████████████████████████████▍            | 82/100 [00:15<00:02,  6.63it/s]\u001b[A\n",
      " 83%|██████████████████████████████████████████████████████████            | 83/100 [00:15<00:02,  6.77it/s]\u001b[A\n",
      " 84%|██████████████████████████████████████████████████████████▊           | 84/100 [00:15<00:02,  6.76it/s]\u001b[A\n",
      " 85%|███████████████████████████████████████████████████████████▌          | 85/100 [00:15<00:02,  6.48it/s]\u001b[A\n",
      " 86%|████████████████████████████████████████████████████████████▏         | 86/100 [00:15<00:02,  6.46it/s]\u001b[A\n",
      " 87%|████████████████████████████████████████████████████████████▉         | 87/100 [00:15<00:02,  6.08it/s]\u001b[A\n",
      " 88%|█████████████████████████████████████████████████████████████▌        | 88/100 [00:16<00:02,  5.96it/s]\u001b[A\n",
      " 89%|██████████████████████████████████████████████████████████████▎       | 89/100 [00:16<00:01,  5.91it/s]\u001b[A\n",
      " 90%|███████████████████████████████████████████████████████████████       | 90/100 [00:16<00:01,  6.01it/s]\u001b[A\n",
      " 91%|███████████████████████████████████████████████████████████████▋      | 91/100 [00:16<00:01,  6.07it/s]\u001b[A\n",
      " 92%|████████████████████████████████████████████████████████████████▍     | 92/100 [00:16<00:01,  5.81it/s]\u001b[A\n",
      " 93%|█████████████████████████████████████████████████████████████████     | 93/100 [00:16<00:01,  5.78it/s]\u001b[A\n",
      " 94%|█████████████████████████████████████████████████████████████████▊    | 94/100 [00:17<00:01,  5.96it/s]\u001b[A\n",
      " 95%|██████████████████████████████████████████████████████████████████▌   | 95/100 [00:17<00:00,  6.07it/s]\u001b[A\n",
      " 96%|███████████████████████████████████████████████████████████████████▏  | 96/100 [00:17<00:00,  6.32it/s]\u001b[A\n",
      " 97%|███████████████████████████████████████████████████████████████████▉  | 97/100 [00:17<00:00,  6.56it/s]\u001b[A\n",
      " 98%|████████████████████████████████████████████████████████████████████▌ | 98/100 [00:17<00:00,  6.67it/s]\u001b[A\n",
      " 99%|█████████████████████████████████████████████████████████████████████▎| 99/100 [00:17<00:00,  6.90it/s]\u001b[A\n",
      "100%|█████████████████████████████████████████████████████████████████████| 100/100 [00:17<00:00,  5.58it/s]\u001b[A\n",
      "100%|█████████████████████████████████████████████████████████████████████| 200/200 [04:36<00:00,  1.38s/it]\n"
     ]
    },
    {
     "name": "stdout",
     "output_type": "stream",
     "text": [
      "Reward mean: 500.00, std: 0.00\n",
      "Num steps mean: 500.00, std: 0.00\n"
     ]
    },
    {
     "name": "stderr",
     "output_type": "stream",
     "text": [
      "100%|███████████████████████████████████████████████████████████████████| 1000/1000 [01:52<00:00,  8.89it/s]\n",
      "\u001b[32m[I 2022-03-01 14:21:20,932]\u001b[0m Trial 14 finished with value: 500.0 and parameters: {'learning_rate': 0.00045095481485457226, 'discount_factor': 0.99, 'batch_size': 16, 'memory_size': 100000, 'freq_steps_train': 8, 'freq_steps_update_target': 10, 'n_steps_warm_up_memory': 1000, 'n_gradient_steps': 16, 'nn_hidden_layers': [256, 256], 'max_grad_norm': 1, 'normalize_state': False, 'epsilon_start': 0.9, 'epsilon_end': 0.06286625175600052, 'steps_epsilon_decay': 10000, 'seed': 1049343665}. Best is trial 14 with value: 500.0.\u001b[0m\n",
      "/Users/paulabartabajo/src/online-courses/hands-on-rl/03_cart_pole/.venv/lib/python3.7/site-packages/optuna/distributions.py:427: UserWarning: Choices for a categorical distribution should be a tuple of None, bool, int, float and str for persistent storage but contains [256, 256] which is of type list.\n",
      "  warnings.warn(message)\n"
     ]
    },
    {
     "name": "stdout",
     "output_type": "stream",
     "text": [
      "67,586 parameters\n"
     ]
    },
    {
     "name": "stderr",
     "output_type": "stream",
     "text": [
      "100%|████████████████████████████████████████████████████████████████████▋| 199/200 [00:29<00:00,  3.99it/s]\n",
      "  0%|                                                                               | 0/100 [00:00<?, ?it/s]\u001b[A\n",
      "  7%|████▉                                                                  | 7/100 [00:00<00:01, 60.95it/s]\u001b[A\n",
      " 14%|█████████▊                                                            | 14/100 [00:00<00:01, 63.84it/s]\u001b[A\n",
      " 21%|██████████████▋                                                       | 21/100 [00:00<00:01, 60.89it/s]\u001b[A\n",
      " 28%|███████████████████▌                                                  | 28/100 [00:00<00:01, 59.97it/s]\u001b[A\n",
      " 35%|████████████████████████▌                                             | 35/100 [00:00<00:01, 58.21it/s]\u001b[A\n",
      " 41%|████████████████████████████▋                                         | 41/100 [00:00<00:01, 58.33it/s]\u001b[A\n",
      " 48%|█████████████████████████████████▌                                    | 48/100 [00:00<00:00, 59.23it/s]\u001b[A\n",
      " 54%|█████████████████████████████████████▊                                | 54/100 [00:00<00:00, 58.99it/s]\u001b[A\n",
      " 60%|██████████████████████████████████████████                            | 60/100 [00:01<00:00, 58.84it/s]\u001b[A\n",
      " 66%|██████████████████████████████████████████████▏                       | 66/100 [00:01<00:00, 58.82it/s]\u001b[A\n",
      " 73%|███████████████████████████████████████████████████                   | 73/100 [00:01<00:00, 59.42it/s]\u001b[A\n",
      " 79%|███████████████████████████████████████████████████████▎              | 79/100 [00:01<00:00, 58.05it/s]\u001b[A\n",
      " 85%|███████████████████████████████████████████████████████████▌          | 85/100 [00:01<00:00, 57.37it/s]\u001b[A\n",
      " 91%|███████████████████████████████████████████████████████████████▋      | 91/100 [00:01<00:00, 57.61it/s]\u001b[A\n",
      "100%|█████████████████████████████████████████████████████████████████████| 100/100 [00:01<00:00, 58.76it/s]\u001b[A\n",
      "100%|█████████████████████████████████████████████████████████████████████| 200/200 [00:32<00:00,  6.24it/s]\n"
     ]
    },
    {
     "name": "stdout",
     "output_type": "stream",
     "text": [
      "Reward mean: 97.73, std: 9.05\n",
      "Num steps mean: 97.73, std: 9.05\n"
     ]
    },
    {
     "name": "stderr",
     "output_type": "stream",
     "text": [
      "100%|███████████████████████████████████████████████████████████████████| 1000/1000 [00:16<00:00, 62.35it/s]\n",
      "\u001b[32m[I 2022-03-01 14:22:09,329]\u001b[0m Trial 15 finished with value: 98.59 and parameters: {'learning_rate': 0.0021335657905301466, 'discount_factor': 0.99, 'batch_size': 16, 'memory_size': 100000, 'freq_steps_train': 16, 'freq_steps_update_target': 10, 'n_steps_warm_up_memory': 1000, 'n_gradient_steps': 16, 'nn_hidden_layers': [256, 256], 'max_grad_norm': 1, 'normalize_state': False, 'epsilon_start': 0.9, 'epsilon_end': 0.06232647827770804, 'steps_epsilon_decay': 10000, 'seed': 1024543596}. Best is trial 14 with value: 500.0.\u001b[0m\n",
      "/Users/paulabartabajo/src/online-courses/hands-on-rl/03_cart_pole/.venv/lib/python3.7/site-packages/optuna/distributions.py:427: UserWarning: Choices for a categorical distribution should be a tuple of None, bool, int, float and str for persistent storage but contains [256, 256] which is of type list.\n",
      "  warnings.warn(message)\n"
     ]
    },
    {
     "name": "stdout",
     "output_type": "stream",
     "text": [
      "67,586 parameters\n"
     ]
    },
    {
     "name": "stderr",
     "output_type": "stream",
     "text": [
      " 96%|█████████████████████████████████████████████████████████████████▎  | 192/200 [00:01<00:00, 172.99it/s]\n",
      "  0%|                                                                               | 0/100 [00:00<?, ?it/s]\u001b[A\n",
      "100%|████████████████████████████████████████████████████████████████████| 100/100 [00:00<00:00, 622.76it/s]\u001b[A\n",
      "100%|████████████████████████████████████████████████████████████████████| 200/200 [00:01<00:00, 153.10it/s]\n"
     ]
    },
    {
     "name": "stdout",
     "output_type": "stream",
     "text": [
      "Reward mean: 9.41, std: 0.84\n",
      "Num steps mean: 9.41, std: 0.84\n"
     ]
    },
    {
     "name": "stderr",
     "output_type": "stream",
     "text": [
      "100%|██████████████████████████████████████████████████████████████████| 1000/1000 [00:01<00:00, 650.22it/s]\n",
      "\u001b[32m[I 2022-03-01 14:22:12,411]\u001b[0m Trial 16 finished with value: 9.374 and parameters: {'learning_rate': 0.00044276182547120166, 'discount_factor': 0.99, 'batch_size': 16, 'memory_size': 100000, 'freq_steps_train': 16, 'freq_steps_update_target': 10, 'n_steps_warm_up_memory': 1000, 'n_gradient_steps': 1, 'nn_hidden_layers': [256, 256], 'max_grad_norm': 1, 'normalize_state': False, 'epsilon_start': 0.9, 'epsilon_end': 0.06157489547038662, 'steps_epsilon_decay': 10000, 'seed': 270204970}. Best is trial 14 with value: 500.0.\u001b[0m\n",
      "/Users/paulabartabajo/src/online-courses/hands-on-rl/03_cart_pole/.venv/lib/python3.7/site-packages/optuna/distributions.py:427: UserWarning: Choices for a categorical distribution should be a tuple of None, bool, int, float and str for persistent storage but contains [256, 256] which is of type list.\n",
      "  warnings.warn(message)\n"
     ]
    },
    {
     "name": "stdout",
     "output_type": "stream",
     "text": [
      "67,586 parameters\n"
     ]
    },
    {
     "name": "stderr",
     "output_type": "stream",
     "text": [
      "100%|████████████████████████████████████████████████████████████████████▋| 199/200 [02:31<00:00,  4.90it/s]\n",
      "  0%|                                                                               | 0/100 [00:00<?, ?it/s]\u001b[A\n",
      " 35%|████████████████████████▏                                            | 35/100 [00:00<00:00, 347.57it/s]\u001b[A\n",
      "100%|████████████████████████████████████████████████████████████████████| 100/100 [00:00<00:00, 339.05it/s]\u001b[A\n",
      "100%|█████████████████████████████████████████████████████████████████████| 200/200 [02:32<00:00,  1.31it/s]\n"
     ]
    },
    {
     "name": "stdout",
     "output_type": "stream",
     "text": [
      "Reward mean: 19.11, std: 2.78\n",
      "Num steps mean: 19.11, std: 2.78\n"
     ]
    },
    {
     "name": "stderr",
     "output_type": "stream",
     "text": [
      "100%|██████████████████████████████████████████████████████████████████| 1000/1000 [00:03<00:00, 327.03it/s]\n",
      "\u001b[32m[I 2022-03-01 14:24:47,980]\u001b[0m Trial 17 finished with value: 19.371 and parameters: {'learning_rate': 9.94167087718288e-05, 'discount_factor': 0.99, 'batch_size': 64, 'memory_size': 10000, 'freq_steps_train': 8, 'freq_steps_update_target': 10, 'n_steps_warm_up_memory': 1000, 'n_gradient_steps': 16, 'nn_hidden_layers': [256, 256], 'max_grad_norm': 1, 'normalize_state': False, 'epsilon_start': 0.9, 'epsilon_end': 0.002530069118424145, 'steps_epsilon_decay': 10000, 'seed': 663805723}. Best is trial 14 with value: 500.0.\u001b[0m\n",
      "/Users/paulabartabajo/src/online-courses/hands-on-rl/03_cart_pole/.venv/lib/python3.7/site-packages/optuna/distributions.py:427: UserWarning: Choices for a categorical distribution should be a tuple of None, bool, int, float and str for persistent storage but contains [256, 256] which is of type list.\n",
      "  warnings.warn(message)\n"
     ]
    },
    {
     "name": "stdout",
     "output_type": "stream",
     "text": [
      "67,586 parameters\n"
     ]
    },
    {
     "name": "stderr",
     "output_type": "stream",
     "text": [
      "100%|████████████████████████████████████████████████████████████████████▋| 199/200 [00:02<00:00, 48.45it/s]\n",
      "  0%|                                                                               | 0/100 [00:00<?, ?it/s]\u001b[A\n",
      " 21%|██████████████▍                                                      | 21/100 [00:00<00:00, 203.75it/s]\u001b[A\n",
      " 42%|████████████████████████████▉                                        | 42/100 [00:00<00:00, 165.67it/s]\u001b[A\n",
      " 60%|█████████████████████████████████████████▍                           | 60/100 [00:00<00:00, 137.40it/s]\u001b[A\n",
      " 78%|█████████████████████████████████████████████████████▊               | 78/100 [00:00<00:00, 149.69it/s]\u001b[A\n",
      "100%|████████████████████████████████████████████████████████████████████| 100/100 [00:00<00:00, 156.95it/s]\u001b[A\n",
      "100%|█████████████████████████████████████████████████████████████████████| 200/200 [00:03<00:00, 56.71it/s]\n"
     ]
    },
    {
     "name": "stdout",
     "output_type": "stream",
     "text": [
      "Reward mean: 16.63, std: 5.28\n",
      "Num steps mean: 16.63, std: 5.28\n"
     ]
    },
    {
     "name": "stderr",
     "output_type": "stream",
     "text": [
      "100%|██████████████████████████████████████████████████████████████████| 1000/1000 [00:06<00:00, 150.35it/s]\n",
      "\u001b[32m[I 2022-03-01 14:24:58,871]\u001b[0m Trial 18 finished with value: 16.952 and parameters: {'learning_rate': 0.0021835319352678426, 'discount_factor': 0.99, 'batch_size': 32, 'memory_size': 100000, 'freq_steps_train': 128, 'freq_steps_update_target': 1000, 'n_steps_warm_up_memory': 5000, 'n_gradient_steps': 16, 'nn_hidden_layers': [256, 256], 'max_grad_norm': 10, 'normalize_state': True, 'epsilon_start': 0.9, 'epsilon_end': 0.029168639450889156, 'steps_epsilon_decay': 10000, 'seed': 967666492}. Best is trial 14 with value: 500.0.\u001b[0m\n",
      "/Users/paulabartabajo/src/online-courses/hands-on-rl/03_cart_pole/.venv/lib/python3.7/site-packages/optuna/distributions.py:427: UserWarning: Choices for a categorical distribution should be a tuple of None, bool, int, float and str for persistent storage but contains [256, 256] which is of type list.\n",
      "  warnings.warn(message)\n"
     ]
    },
    {
     "name": "stdout",
     "output_type": "stream",
     "text": [
      "67,586 parameters\n"
     ]
    },
    {
     "name": "stderr",
     "output_type": "stream",
     "text": [
      " 96%|████████████████████████████████████████████████████████████████▉   | 191/200 [00:01<00:00, 102.26it/s]\n",
      "  0%|                                                                               | 0/100 [00:00<?, ?it/s]\u001b[A\n",
      " 35%|████████████████████████▏                                            | 35/100 [00:00<00:00, 345.39it/s]\u001b[A\n",
      "100%|████████████████████████████████████████████████████████████████████| 100/100 [00:00<00:00, 323.32it/s]\u001b[A\n",
      "100%|█████████████████████████████████████████████████████████████████████| 200/200 [00:02<00:00, 91.82it/s]\n"
     ]
    },
    {
     "name": "stdout",
     "output_type": "stream",
     "text": [
      "Reward mean: 9.51, std: 0.92\n",
      "Num steps mean: 9.51, std: 0.92\n"
     ]
    },
    {
     "name": "stderr",
     "output_type": "stream",
     "text": [
      "100%|██████████████████████████████████████████████████████████████████| 1000/1000 [00:02<00:00, 394.48it/s]\n",
      "\u001b[32m[I 2022-03-01 14:25:04,029]\u001b[0m Trial 19 finished with value: 9.339 and parameters: {'learning_rate': 3.335147161559457e-05, 'discount_factor': 0.9, 'batch_size': 16, 'memory_size': 100000, 'freq_steps_train': 16, 'freq_steps_update_target': 10, 'n_steps_warm_up_memory': 1000, 'n_gradient_steps': 1, 'nn_hidden_layers': [256, 256], 'max_grad_norm': 1, 'normalize_state': False, 'epsilon_start': 0.9, 'epsilon_end': 0.0733458703274872, 'steps_epsilon_decay': 10000, 'seed': 739459688}. Best is trial 14 with value: 500.0.\u001b[0m\n",
      "/Users/paulabartabajo/src/online-courses/hands-on-rl/03_cart_pole/.venv/lib/python3.7/site-packages/optuna/distributions.py:427: UserWarning: Choices for a categorical distribution should be a tuple of None, bool, int, float and str for persistent storage but contains [256, 256] which is of type list.\n",
      "  warnings.warn(message)\n"
     ]
    },
    {
     "name": "stdout",
     "output_type": "stream",
     "text": [
      "67,586 parameters\n"
     ]
    },
    {
     "name": "stderr",
     "output_type": "stream",
     "text": [
      "100%|████████████████████████████████████████████████████████████████████▋| 199/200 [03:32<00:05,  5.73s/it]\n",
      "  0%|                                                                               | 0/100 [00:00<?, ?it/s]\u001b[A\n",
      "  1%|▋                                                                      | 1/100 [00:00<00:12,  7.87it/s]\u001b[A\n",
      "  2%|█▍                                                                     | 2/100 [00:00<00:12,  7.76it/s]\u001b[A\n",
      "  3%|██▏                                                                    | 3/100 [00:00<00:12,  7.65it/s]\u001b[A\n",
      "  4%|██▊                                                                    | 4/100 [00:00<00:12,  7.65it/s]\u001b[A\n",
      "  5%|███▌                                                                   | 5/100 [00:00<00:12,  7.48it/s]\u001b[A\n",
      "  6%|████▎                                                                  | 6/100 [00:00<00:12,  7.62it/s]\u001b[A\n",
      "  7%|████▉                                                                  | 7/100 [00:00<00:11,  7.96it/s]\u001b[A\n",
      "  8%|█████▋                                                                 | 8/100 [00:01<00:11,  7.98it/s]\u001b[A\n",
      "  9%|██████▍                                                                | 9/100 [00:01<00:11,  8.06it/s]\u001b[A\n",
      " 10%|███████                                                               | 10/100 [00:01<00:10,  8.29it/s]\u001b[A\n",
      " 11%|███████▋                                                              | 11/100 [00:01<00:10,  8.37it/s]\u001b[A\n",
      " 12%|████████▍                                                             | 12/100 [00:01<00:10,  8.51it/s]\u001b[A\n",
      " 13%|█████████                                                             | 13/100 [00:01<00:10,  8.61it/s]\u001b[A\n",
      " 14%|█████████▊                                                            | 14/100 [00:01<00:09,  8.64it/s]\u001b[A\n",
      " 15%|██████████▌                                                           | 15/100 [00:01<00:09,  8.74it/s]\u001b[A\n",
      " 16%|███████████▏                                                          | 16/100 [00:01<00:09,  8.67it/s]\u001b[A\n",
      " 17%|███████████▉                                                          | 17/100 [00:02<00:09,  8.72it/s]\u001b[A\n",
      " 18%|████████████▌                                                         | 18/100 [00:02<00:09,  8.77it/s]\u001b[A\n",
      " 19%|█████████████▎                                                        | 19/100 [00:02<00:09,  8.78it/s]\u001b[A\n",
      " 20%|██████████████                                                        | 20/100 [00:02<00:08,  8.95it/s]\u001b[A\n",
      " 22%|███████████████▍                                                      | 22/100 [00:02<00:08,  9.45it/s]\u001b[A\n",
      " 24%|████████████████▊                                                     | 24/100 [00:02<00:07,  9.72it/s]\u001b[A\n",
      " 25%|█████████████████▌                                                    | 25/100 [00:02<00:07,  9.69it/s]\u001b[A\n",
      " 26%|██████████████████▏                                                   | 26/100 [00:02<00:07,  9.70it/s]\u001b[A\n",
      " 27%|██████████████████▉                                                   | 27/100 [00:03<00:07,  9.75it/s]\u001b[A\n",
      " 29%|████████████████████▎                                                 | 29/100 [00:03<00:07, 10.10it/s]\u001b[A\n",
      " 30%|█████████████████████                                                 | 30/100 [00:03<00:06, 10.01it/s]\u001b[A\n",
      " 32%|██████████████████████▍                                               | 32/100 [00:03<00:06, 10.19it/s]\u001b[A\n",
      " 34%|███████████████████████▊                                              | 34/100 [00:03<00:06, 10.36it/s]\u001b[A\n",
      " 36%|█████████████████████████▏                                            | 36/100 [00:03<00:06, 10.44it/s]\u001b[A\n",
      " 38%|██████████████████████████▌                                           | 38/100 [00:04<00:05, 10.64it/s]\u001b[A\n",
      " 40%|████████████████████████████                                          | 40/100 [00:04<00:05, 10.79it/s]\u001b[A\n",
      " 42%|█████████████████████████████▍                                        | 42/100 [00:04<00:05, 10.94it/s]\u001b[A\n",
      " 44%|██████████████████████████████▊                                       | 44/100 [00:04<00:05, 11.04it/s]\u001b[A\n",
      " 46%|████████████████████████████████▏                                     | 46/100 [00:04<00:04, 11.16it/s]\u001b[A\n",
      " 48%|█████████████████████████████████▌                                    | 48/100 [00:05<00:04, 11.31it/s]\u001b[A\n",
      " 50%|███████████████████████████████████                                   | 50/100 [00:05<00:04, 11.45it/s]\u001b[A\n",
      " 52%|████████████████████████████████████▍                                 | 52/100 [00:05<00:04, 11.53it/s]\u001b[A\n",
      " 54%|█████████████████████████████████████▊                                | 54/100 [00:05<00:03, 11.57it/s]\u001b[A\n",
      " 56%|███████████████████████████████████████▏                              | 56/100 [00:05<00:03, 11.59it/s]\u001b[A\n",
      " 58%|████████████████████████████████████████▌                             | 58/100 [00:05<00:03, 11.63it/s]\u001b[A\n",
      " 60%|██████████████████████████████████████████                            | 60/100 [00:06<00:03, 11.64it/s]\u001b[A\n",
      " 62%|███████████████████████████████████████████▍                          | 62/100 [00:06<00:03, 11.62it/s]\u001b[A\n",
      " 64%|████████████████████████████████████████████▊                         | 64/100 [00:06<00:03, 11.74it/s]\u001b[A\n",
      " 66%|██████████████████████████████████████████████▏                       | 66/100 [00:06<00:02, 11.87it/s]\u001b[A\n",
      " 68%|███████████████████████████████████████████████▌                      | 68/100 [00:06<00:02, 11.94it/s]\u001b[A\n",
      " 70%|█████████████████████████████████████████████████                     | 70/100 [00:06<00:02, 12.03it/s]\u001b[A\n",
      " 72%|██████████████████████████████████████████████████▍                   | 72/100 [00:07<00:02, 11.44it/s]\u001b[A\n",
      " 74%|███████████████████████████████████████████████████▊                  | 74/100 [00:07<00:02, 11.51it/s]\u001b[A\n",
      " 76%|█████████████████████████████████████████████████████▏                | 76/100 [00:07<00:02, 11.60it/s]\u001b[A\n",
      " 78%|██████████████████████████████████████████████████████▌               | 78/100 [00:07<00:01, 11.67it/s]\u001b[A\n",
      " 80%|████████████████████████████████████████████████████████              | 80/100 [00:07<00:01, 11.77it/s]\u001b[A\n",
      " 82%|█████████████████████████████████████████████████████████▍            | 82/100 [00:07<00:01, 11.85it/s]\u001b[A\n",
      " 84%|██████████████████████████████████████████████████████████▊           | 84/100 [00:08<00:01, 11.98it/s]\u001b[A\n",
      " 86%|████████████████████████████████████████████████████████████▏         | 86/100 [00:08<00:01, 11.98it/s]\u001b[A\n",
      " 88%|█████████████████████████████████████████████████████████████▌        | 88/100 [00:08<00:00, 12.03it/s]\u001b[A\n",
      " 90%|███████████████████████████████████████████████████████████████       | 90/100 [00:08<00:00, 12.08it/s]\u001b[A\n",
      " 92%|████████████████████████████████████████████████████████████████▍     | 92/100 [00:08<00:00, 12.11it/s]\u001b[A\n",
      " 94%|█████████████████████████████████████████████████████████████████▊    | 94/100 [00:08<00:00, 12.13it/s]\u001b[A\n",
      " 96%|███████████████████████████████████████████████████████████████████▏  | 96/100 [00:09<00:00, 12.13it/s]\u001b[A\n",
      " 98%|████████████████████████████████████████████████████████████████████▌ | 98/100 [00:09<00:00, 12.15it/s]\u001b[A\n",
      "100%|█████████████████████████████████████████████████████████████████████| 100/100 [00:09<00:00, 10.65it/s]\u001b[A\n",
      "100%|█████████████████████████████████████████████████████████████████████| 200/200 [03:46<00:00,  1.13s/it]\n"
     ]
    },
    {
     "name": "stdout",
     "output_type": "stream",
     "text": [
      "Reward mean: 499.44, std: 3.86\n",
      "Num steps mean: 499.44, std: 3.86\n"
     ]
    },
    {
     "name": "stderr",
     "output_type": "stream",
     "text": [
      "100%|████████████████████████████████████████████████████████████████| 1000/1000 [19:40:02<00:00, 70.80s/it]\n",
      "\u001b[32m[I 2022-03-02 10:08:53,585]\u001b[0m Trial 20 finished with value: 498.755 and parameters: {'learning_rate': 0.0001893957820384981, 'discount_factor': 0.99, 'batch_size': 16, 'memory_size': 10000, 'freq_steps_train': 8, 'freq_steps_update_target': 10, 'n_steps_warm_up_memory': 1000, 'n_gradient_steps': 16, 'nn_hidden_layers': [256, 256], 'max_grad_norm': 1, 'normalize_state': False, 'epsilon_start': 0.9, 'epsilon_end': 0.025538033790214694, 'steps_epsilon_decay': 10000, 'seed': 531989032}. Best is trial 14 with value: 500.0.\u001b[0m\n",
      "/Users/paulabartabajo/src/online-courses/hands-on-rl/03_cart_pole/.venv/lib/python3.7/site-packages/optuna/distributions.py:427: UserWarning: Choices for a categorical distribution should be a tuple of None, bool, int, float and str for persistent storage but contains [256, 256] which is of type list.\n",
      "  warnings.warn(message)\n"
     ]
    },
    {
     "name": "stdout",
     "output_type": "stream",
     "text": [
      "67,586 parameters\n"
     ]
    },
    {
     "name": "stderr",
     "output_type": "stream",
     "text": [
      "100%|████████████████████████████████████████████████████████████████████▋| 199/200 [02:51<00:03,  3.46s/it]\n",
      "  0%|                                                                               | 0/100 [00:00<?, ?it/s]\u001b[A\n",
      "  6%|████▎                                                                  | 6/100 [00:00<00:01, 50.18it/s]\u001b[A\n",
      " 12%|████████▍                                                             | 12/100 [00:00<00:01, 48.34it/s]\u001b[A\n",
      " 17%|███████████▉                                                          | 17/100 [00:00<00:01, 44.90it/s]\u001b[A\n",
      " 22%|███████████████▍                                                      | 22/100 [00:00<00:01, 45.80it/s]\u001b[A\n",
      " 27%|██████████████████▉                                                   | 27/100 [00:00<00:01, 46.99it/s]\u001b[A\n",
      " 32%|██████████████████████▍                                               | 32/100 [00:00<00:01, 46.65it/s]\u001b[A\n",
      " 37%|█████████████████████████▉                                            | 37/100 [00:00<00:01, 46.23it/s]\u001b[A\n",
      " 42%|█████████████████████████████▍                                        | 42/100 [00:00<00:01, 46.83it/s]\u001b[A\n",
      " 47%|████████████████████████████████▉                                     | 47/100 [00:01<00:01, 45.15it/s]\u001b[A\n",
      " 52%|████████████████████████████████████▍                                 | 52/100 [00:01<00:01, 44.07it/s]\u001b[A\n",
      " 57%|███████████████████████████████████████▉                              | 57/100 [00:01<00:01, 42.75it/s]\u001b[A\n",
      " 62%|███████████████████████████████████████████▍                          | 62/100 [00:01<00:00, 42.33it/s]\u001b[A\n",
      " 67%|██████████████████████████████████████████████▉                       | 67/100 [00:01<00:00, 43.44it/s]\u001b[A\n",
      " 72%|██████████████████████████████████████████████████▍                   | 72/100 [00:01<00:00, 44.21it/s]\u001b[A\n",
      " 77%|█████████████████████████████████████████████████████▉                | 77/100 [00:01<00:00, 44.14it/s]\u001b[A\n",
      " 82%|█████████████████████████████████████████████████████████▍            | 82/100 [00:01<00:00, 44.42it/s]\u001b[A\n",
      " 87%|████████████████████████████████████████████████████████████▉         | 87/100 [00:01<00:00, 45.57it/s]\u001b[A\n",
      " 92%|████████████████████████████████████████████████████████████████▍     | 92/100 [00:02<00:00, 44.66it/s]\u001b[A\n",
      "100%|█████████████████████████████████████████████████████████████████████| 100/100 [00:02<00:00, 44.95it/s]\u001b[A\n",
      "100%|█████████████████████████████████████████████████████████████████████| 200/200 [02:56<00:00,  1.13it/s]\n"
     ]
    },
    {
     "name": "stdout",
     "output_type": "stream",
     "text": [
      "Reward mean: 107.63, std: 3.21\n",
      "Num steps mean: 107.63, std: 3.21\n"
     ]
    },
    {
     "name": "stderr",
     "output_type": "stream",
     "text": [
      "100%|███████████████████████████████████████████████████████████████████| 1000/1000 [00:20<00:00, 48.62it/s]\n",
      "\u001b[32m[I 2022-03-02 10:12:10,837]\u001b[0m Trial 21 finished with value: 107.71 and parameters: {'learning_rate': 0.00022661292833295156, 'discount_factor': 0.99, 'batch_size': 16, 'memory_size': 10000, 'freq_steps_train': 8, 'freq_steps_update_target': 10, 'n_steps_warm_up_memory': 1000, 'n_gradient_steps': 16, 'nn_hidden_layers': [256, 256], 'max_grad_norm': 1, 'normalize_state': False, 'epsilon_start': 0.9, 'epsilon_end': 0.03033585932383971, 'steps_epsilon_decay': 10000, 'seed': 505029420}. Best is trial 14 with value: 500.0.\u001b[0m\n",
      "/Users/paulabartabajo/src/online-courses/hands-on-rl/03_cart_pole/.venv/lib/python3.7/site-packages/optuna/distributions.py:427: UserWarning: Choices for a categorical distribution should be a tuple of None, bool, int, float and str for persistent storage but contains [256, 256] which is of type list.\n",
      "  warnings.warn(message)\n"
     ]
    },
    {
     "name": "stdout",
     "output_type": "stream",
     "text": [
      "67,586 parameters\n"
     ]
    },
    {
     "name": "stderr",
     "output_type": "stream",
     "text": [
      "100%|████████████████████████████████████████████████████████████████████▋| 199/200 [01:28<00:00,  1.08it/s]\n",
      "  0%|                                                                               | 0/100 [00:00<?, ?it/s]\u001b[A\n",
      "  5%|███▌                                                                   | 5/100 [00:00<00:02, 43.30it/s]\u001b[A\n",
      " 10%|███████                                                               | 10/100 [00:00<00:02, 43.47it/s]\u001b[A\n",
      " 15%|██████████▌                                                           | 15/100 [00:00<00:01, 44.22it/s]\u001b[A\n",
      " 20%|██████████████                                                        | 20/100 [00:00<00:01, 43.92it/s]\u001b[A\n",
      " 25%|█████████████████▌                                                    | 25/100 [00:00<00:01, 42.51it/s]\u001b[A\n",
      " 30%|█████████████████████                                                 | 30/100 [00:00<00:01, 42.68it/s]\u001b[A\n",
      " 35%|████████████████████████▌                                             | 35/100 [00:00<00:01, 42.33it/s]\u001b[A\n",
      " 40%|████████████████████████████                                          | 40/100 [00:00<00:01, 42.07it/s]\u001b[A\n",
      " 45%|███████████████████████████████▌                                      | 45/100 [00:01<00:01, 42.66it/s]\u001b[A\n",
      " 50%|███████████████████████████████████                                   | 50/100 [00:01<00:01, 43.12it/s]\u001b[A\n",
      " 55%|██████████████████████████████████████▌                               | 55/100 [00:01<00:01, 44.05it/s]\u001b[A\n",
      " 60%|██████████████████████████████████████████                            | 60/100 [00:01<00:00, 43.51it/s]\u001b[A\n",
      " 65%|█████████████████████████████████████████████▌                        | 65/100 [00:01<00:00, 42.92it/s]\u001b[A\n",
      " 70%|█████████████████████████████████████████████████                     | 70/100 [00:01<00:00, 43.29it/s]\u001b[A\n",
      " 75%|████████████████████████████████████████████████████▌                 | 75/100 [00:01<00:00, 41.81it/s]\u001b[A\n",
      " 80%|████████████████████████████████████████████████████████              | 80/100 [00:01<00:00, 40.97it/s]\u001b[A\n",
      " 85%|███████████████████████████████████████████████████████████▌          | 85/100 [00:02<00:00, 39.86it/s]\u001b[A\n",
      " 90%|███████████████████████████████████████████████████████████████       | 90/100 [00:02<00:00, 40.87it/s]\u001b[A\n",
      " 95%|██████████████████████████████████████████████████████████████████▌   | 95/100 [00:02<00:00, 40.96it/s]\u001b[A\n",
      "100%|█████████████████████████████████████████████████████████████████████| 100/100 [00:02<00:00, 42.27it/s]\u001b[A\n",
      "100%|█████████████████████████████████████████████████████████████████████| 200/200 [01:32<00:00,  2.17it/s]\n"
     ]
    },
    {
     "name": "stdout",
     "output_type": "stream",
     "text": [
      "Reward mean: 128.24, std: 5.95\n",
      "Num steps mean: 128.24, std: 5.95\n"
     ]
    },
    {
     "name": "stderr",
     "output_type": "stream",
     "text": [
      "100%|███████████████████████████████████████████████████████████████████| 1000/1000 [00:22<00:00, 44.42it/s]\n",
      "\u001b[32m[I 2022-03-02 10:14:05,736]\u001b[0m Trial 22 finished with value: 128.061 and parameters: {'learning_rate': 0.00010194029098196025, 'discount_factor': 0.99, 'batch_size': 16, 'memory_size': 10000, 'freq_steps_train': 8, 'freq_steps_update_target': 10, 'n_steps_warm_up_memory': 1000, 'n_gradient_steps': 16, 'nn_hidden_layers': [256, 256], 'max_grad_norm': 1, 'normalize_state': False, 'epsilon_start': 0.9, 'epsilon_end': 0.02142152400907594, 'steps_epsilon_decay': 10000, 'seed': 442227514}. Best is trial 14 with value: 500.0.\u001b[0m\n",
      "/Users/paulabartabajo/src/online-courses/hands-on-rl/03_cart_pole/.venv/lib/python3.7/site-packages/optuna/distributions.py:427: UserWarning: Choices for a categorical distribution should be a tuple of None, bool, int, float and str for persistent storage but contains [256, 256] which is of type list.\n",
      "  warnings.warn(message)\n"
     ]
    },
    {
     "name": "stdout",
     "output_type": "stream",
     "text": [
      "67,586 parameters\n"
     ]
    },
    {
     "name": "stderr",
     "output_type": "stream",
     "text": [
      "100%|████████████████████████████████████████████████████████████████████▋| 199/200 [00:57<00:00,  1.99it/s]\n",
      "  0%|                                                                               | 0/100 [00:00<?, ?it/s]\u001b[A\n",
      " 11%|███████▌                                                             | 11/100 [00:00<00:00, 101.02it/s]\u001b[A\n",
      " 22%|███████████████▍                                                      | 22/100 [00:00<00:00, 97.25it/s]\u001b[A\n",
      " 32%|██████████████████████▍                                               | 32/100 [00:00<00:00, 98.31it/s]\u001b[A\n",
      " 42%|█████████████████████████████▍                                        | 42/100 [00:00<00:00, 91.43it/s]\u001b[A\n",
      " 52%|████████████████████████████████████▍                                 | 52/100 [00:00<00:00, 88.24it/s]\u001b[A\n",
      " 61%|██████████████████████████████████████████▋                           | 61/100 [00:00<00:00, 87.79it/s]\u001b[A\n",
      " 71%|█████████████████████████████████████████████████▋                    | 71/100 [00:00<00:00, 89.24it/s]\u001b[A\n",
      " 81%|████████████████████████████████████████████████████████▋             | 81/100 [00:00<00:00, 91.16it/s]\u001b[A\n",
      "100%|█████████████████████████████████████████████████████████████████████| 100/100 [00:01<00:00, 91.94it/s]\u001b[A\n",
      "100%|█████████████████████████████████████████████████████████████████████| 200/200 [00:59<00:00,  3.36it/s]\n"
     ]
    },
    {
     "name": "stdout",
     "output_type": "stream",
     "text": [
      "Reward mean: 65.21, std: 4.96\n",
      "Num steps mean: 65.21, std: 4.96\n"
     ]
    },
    {
     "name": "stderr",
     "output_type": "stream",
     "text": [
      "100%|███████████████████████████████████████████████████████████████████| 1000/1000 [00:10<00:00, 97.59it/s]\n",
      "\u001b[32m[I 2022-03-02 10:15:15,737]\u001b[0m Trial 23 finished with value: 65.7 and parameters: {'learning_rate': 0.000535003948205984, 'discount_factor': 0.99, 'batch_size': 16, 'memory_size': 10000, 'freq_steps_train': 8, 'freq_steps_update_target': 10, 'n_steps_warm_up_memory': 1000, 'n_gradient_steps': 16, 'nn_hidden_layers': [256, 256], 'max_grad_norm': 1, 'normalize_state': False, 'epsilon_start': 0.9, 'epsilon_end': 0.04551215409115748, 'steps_epsilon_decay': 10000, 'seed': 312471990}. Best is trial 14 with value: 500.0.\u001b[0m\n",
      "/Users/paulabartabajo/src/online-courses/hands-on-rl/03_cart_pole/.venv/lib/python3.7/site-packages/optuna/distributions.py:427: UserWarning: Choices for a categorical distribution should be a tuple of None, bool, int, float and str for persistent storage but contains [256, 256] which is of type list.\n",
      "  warnings.warn(message)\n"
     ]
    },
    {
     "name": "stdout",
     "output_type": "stream",
     "text": [
      "67,586 parameters\n"
     ]
    },
    {
     "name": "stderr",
     "output_type": "stream",
     "text": [
      "100%|████████████████████████████████████████████████████████████████████▋| 199/200 [00:14<00:00,  8.68it/s]\n",
      "  0%|                                                                               | 0/100 [00:00<?, ?it/s]\u001b[A\n",
      " 23%|███████████████▊                                                     | 23/100 [00:00<00:00, 225.12it/s]\u001b[A\n",
      " 46%|███████████████████████████████▋                                     | 46/100 [00:00<00:00, 154.39it/s]\u001b[A\n",
      "100%|████████████████████████████████████████████████████████████████████| 100/100 [00:00<00:00, 217.35it/s]\u001b[A\n",
      "100%|█████████████████████████████████████████████████████████████████████| 200/200 [00:15<00:00, 12.81it/s]\n"
     ]
    },
    {
     "name": "stdout",
     "output_type": "stream",
     "text": [
      "Reward mean: 9.41, std: 0.84\n",
      "Num steps mean: 9.41, std: 0.84\n"
     ]
    },
    {
     "name": "stderr",
     "output_type": "stream",
     "text": [
      "100%|██████████████████████████████████████████████████████████████████| 1000/1000 [00:02<00:00, 438.49it/s]\n",
      "\u001b[32m[I 2022-03-02 10:15:33,881]\u001b[0m Trial 24 finished with value: 9.374 and parameters: {'learning_rate': 4.7023108960957987e-05, 'discount_factor': 0.99, 'batch_size': 16, 'memory_size': 10000, 'freq_steps_train': 8, 'freq_steps_update_target': 10, 'n_steps_warm_up_memory': 1000, 'n_gradient_steps': 16, 'nn_hidden_layers': [256, 256], 'max_grad_norm': 1, 'normalize_state': False, 'epsilon_start': 0.9, 'epsilon_end': 0.012283350090301534, 'steps_epsilon_decay': 10000, 'seed': 567515090}. Best is trial 14 with value: 500.0.\u001b[0m\n",
      "/Users/paulabartabajo/src/online-courses/hands-on-rl/03_cart_pole/.venv/lib/python3.7/site-packages/optuna/distributions.py:427: UserWarning: Choices for a categorical distribution should be a tuple of None, bool, int, float and str for persistent storage but contains [256, 256] which is of type list.\n",
      "  warnings.warn(message)\n"
     ]
    },
    {
     "name": "stdout",
     "output_type": "stream",
     "text": [
      "67,586 parameters\n"
     ]
    },
    {
     "name": "stderr",
     "output_type": "stream",
     "text": [
      "100%|████████████████████████████████████████████████████████████████████▋| 199/200 [00:11<00:00, 10.10it/s]\n",
      "  0%|                                                                               | 0/100 [00:00<?, ?it/s]\u001b[A\n",
      " 40%|███████████████████████████▌                                         | 40/100 [00:00<00:00, 393.50it/s]\u001b[A\n",
      "100%|████████████████████████████████████████████████████████████████████| 100/100 [00:00<00:00, 353.07it/s]\u001b[A\n",
      "100%|█████████████████████████████████████████████████████████████████████| 200/200 [00:11<00:00, 17.04it/s]\n"
     ]
    },
    {
     "name": "stdout",
     "output_type": "stream",
     "text": [
      "Reward mean: 9.51, std: 0.92\n",
      "Num steps mean: 9.51, std: 0.92\n"
     ]
    },
    {
     "name": "stderr",
     "output_type": "stream",
     "text": [
      "100%|██████████████████████████████████████████████████████████████████| 1000/1000 [00:02<00:00, 407.32it/s]\n",
      "\u001b[32m[I 2022-03-02 10:15:48,387]\u001b[0m Trial 25 finished with value: 9.339 and parameters: {'learning_rate': 0.00016285525929636864, 'discount_factor': 0.99, 'batch_size': 16, 'memory_size': 100000, 'freq_steps_train': 8, 'freq_steps_update_target': 1000, 'n_steps_warm_up_memory': 1000, 'n_gradient_steps': 16, 'nn_hidden_layers': [256, 256], 'max_grad_norm': 1, 'normalize_state': False, 'epsilon_start': 0.9, 'epsilon_end': 0.043815885703904586, 'steps_epsilon_decay': 1000, 'seed': 862440503}. Best is trial 14 with value: 500.0.\u001b[0m\n",
      "/Users/paulabartabajo/src/online-courses/hands-on-rl/03_cart_pole/.venv/lib/python3.7/site-packages/optuna/distributions.py:427: UserWarning: Choices for a categorical distribution should be a tuple of None, bool, int, float and str for persistent storage but contains [256, 256] which is of type list.\n",
      "  warnings.warn(message)\n"
     ]
    },
    {
     "name": "stdout",
     "output_type": "stream",
     "text": [
      "67,586 parameters\n"
     ]
    },
    {
     "name": "stderr",
     "output_type": "stream",
     "text": [
      " 94%|███████████████████████████████████████████████████████████████▌    | 187/200 [00:01<00:00, 154.50it/s]\n",
      "  0%|                                                                               | 0/100 [00:00<?, ?it/s]\u001b[A\n",
      " 20%|█████████████▊                                                       | 20/100 [00:00<00:00, 198.15it/s]\u001b[A\n",
      " 40%|███████████████████████████▌                                         | 40/100 [00:00<00:00, 195.16it/s]\u001b[A\n",
      " 60%|█████████████████████████████████████████▍                           | 60/100 [00:00<00:00, 185.88it/s]\u001b[A\n",
      "100%|████████████████████████████████████████████████████████████████████| 100/100 [00:00<00:00, 154.27it/s]\u001b[A\n",
      "100%|█████████████████████████████████████████████████████████████████████| 200/200 [00:02<00:00, 98.90it/s]\n"
     ]
    },
    {
     "name": "stdout",
     "output_type": "stream",
     "text": [
      "Reward mean: 14.56, std: 7.30\n",
      "Num steps mean: 14.56, std: 7.30\n"
     ]
    },
    {
     "name": "stderr",
     "output_type": "stream",
     "text": [
      "100%|██████████████████████████████████████████████████████████████████| 1000/1000 [00:05<00:00, 169.02it/s]\n",
      "\u001b[32m[I 2022-03-02 10:15:57,481]\u001b[0m Trial 26 finished with value: 13.897 and parameters: {'learning_rate': 7.090352534816789e-05, 'discount_factor': 0.9, 'batch_size': 32, 'memory_size': 10000, 'freq_steps_train': 16, 'freq_steps_update_target': 10, 'n_steps_warm_up_memory': 5000, 'n_gradient_steps': 16, 'nn_hidden_layers': [256, 256], 'max_grad_norm': 10, 'normalize_state': True, 'epsilon_start': 0.9, 'epsilon_end': 0.0785312602991963, 'steps_epsilon_decay': 10000, 'seed': 346092096}. Best is trial 14 with value: 500.0.\u001b[0m\n",
      "/Users/paulabartabajo/src/online-courses/hands-on-rl/03_cart_pole/.venv/lib/python3.7/site-packages/optuna/distributions.py:427: UserWarning: Choices for a categorical distribution should be a tuple of None, bool, int, float and str for persistent storage but contains [256, 256] which is of type list.\n",
      "  warnings.warn(message)\n"
     ]
    },
    {
     "name": "stdout",
     "output_type": "stream",
     "text": [
      "67,586 parameters\n"
     ]
    },
    {
     "name": "stderr",
     "output_type": "stream",
     "text": [
      "100%|████████████████████████████████████████████████████████████████████▋| 199/200 [00:02<00:00, 73.62it/s]\n",
      "  0%|                                                                               | 0/100 [00:00<?, ?it/s]\u001b[A\n",
      " 16%|███████████                                                          | 16/100 [00:00<00:00, 154.83it/s]\u001b[A\n",
      " 37%|█████████████████████████▌                                           | 37/100 [00:00<00:00, 183.88it/s]\u001b[A\n",
      " 61%|██████████████████████████████████████████                           | 61/100 [00:00<00:00, 203.95it/s]\u001b[A\n",
      " 82%|████████████████████████████████████████████████████████▌            | 82/100 [00:00<00:00, 170.58it/s]\u001b[A\n",
      "100%|████████████████████████████████████████████████████████████████████| 100/100 [00:00<00:00, 169.09it/s]\u001b[A\n",
      "100%|█████████████████████████████████████████████████████████████████████| 200/200 [00:03<00:00, 60.64it/s]\n"
     ]
    },
    {
     "name": "stdout",
     "output_type": "stream",
     "text": [
      "Reward mean: 20.08, std: 2.78\n",
      "Num steps mean: 20.08, std: 2.78\n"
     ]
    },
    {
     "name": "stderr",
     "output_type": "stream",
     "text": [
      "100%|██████████████████████████████████████████████████████████████████| 1000/1000 [00:03<00:00, 251.53it/s]\n",
      "\u001b[32m[I 2022-03-02 10:16:05,098]\u001b[0m Trial 27 finished with value: 20.208 and parameters: {'learning_rate': 0.00037229542577420954, 'discount_factor': 0.99, 'batch_size': 64, 'memory_size': 100000, 'freq_steps_train': 128, 'freq_steps_update_target': 10, 'n_steps_warm_up_memory': 1000, 'n_gradient_steps': 16, 'nn_hidden_layers': [256, 256], 'max_grad_norm': 1, 'normalize_state': False, 'epsilon_start': 0.9, 'epsilon_end': 0.042336215907993975, 'steps_epsilon_decay': 10000, 'seed': 700460146}. Best is trial 14 with value: 500.0.\u001b[0m\n",
      "/Users/paulabartabajo/src/online-courses/hands-on-rl/03_cart_pole/.venv/lib/python3.7/site-packages/optuna/distributions.py:427: UserWarning: Choices for a categorical distribution should be a tuple of None, bool, int, float and str for persistent storage but contains [256, 256] which is of type list.\n",
      "  warnings.warn(message)\n"
     ]
    },
    {
     "name": "stdout",
     "output_type": "stream",
     "text": [
      "67,586 parameters\n"
     ]
    },
    {
     "name": "stderr",
     "output_type": "stream",
     "text": [
      "100%|████████████████████████████████████████████████████████████████████▋| 199/200 [02:23<00:02,  2.69s/it]\n",
      "  0%|                                                                               | 0/100 [00:00<?, ?it/s]\u001b[A\n",
      "  1%|▋                                                                      | 1/100 [00:00<00:12,  8.01it/s]\u001b[A\n",
      "  2%|█▍                                                                     | 2/100 [00:00<00:12,  8.01it/s]\u001b[A\n",
      "  3%|██▏                                                                    | 3/100 [00:00<00:12,  7.69it/s]\u001b[A\n",
      "  4%|██▊                                                                    | 4/100 [00:00<00:12,  7.55it/s]\u001b[A\n",
      "  5%|███▌                                                                   | 5/100 [00:00<00:12,  7.53it/s]\u001b[A\n",
      "  6%|████▎                                                                  | 6/100 [00:00<00:12,  7.55it/s]\u001b[A\n",
      "  7%|████▉                                                                  | 7/100 [00:00<00:11,  8.11it/s]\u001b[A\n",
      "  8%|█████▋                                                                 | 8/100 [00:01<00:11,  7.79it/s]\u001b[A\n",
      "  9%|██████▍                                                                | 9/100 [00:01<00:11,  8.01it/s]\u001b[A\n",
      " 10%|███████                                                               | 10/100 [00:01<00:11,  7.90it/s]\u001b[A\n",
      " 11%|███████▋                                                              | 11/100 [00:01<00:11,  7.83it/s]\u001b[A\n",
      " 13%|█████████                                                             | 13/100 [00:01<00:11,  7.78it/s]\u001b[A\n",
      " 14%|█████████▊                                                            | 14/100 [00:01<00:11,  7.56it/s]\u001b[A\n",
      " 16%|███████████▏                                                          | 16/100 [00:02<00:10,  8.15it/s]\u001b[A\n",
      " 17%|███████████▉                                                          | 17/100 [00:02<00:10,  8.05it/s]\u001b[A\n",
      " 18%|████████████▌                                                         | 18/100 [00:02<00:10,  7.94it/s]\u001b[A\n",
      " 19%|█████████████▎                                                        | 19/100 [00:02<00:10,  7.81it/s]\u001b[A\n",
      " 20%|██████████████                                                        | 20/100 [00:02<00:09,  8.19it/s]\u001b[A\n",
      " 21%|██████████████▋                                                       | 21/100 [00:02<00:09,  7.96it/s]\u001b[A\n",
      " 22%|███████████████▍                                                      | 22/100 [00:02<00:09,  7.90it/s]\u001b[A\n",
      " 23%|████████████████                                                      | 23/100 [00:02<00:09,  7.74it/s]\u001b[A\n",
      " 24%|████████████████▊                                                     | 24/100 [00:03<00:09,  7.69it/s]\u001b[A\n",
      " 25%|█████████████████▌                                                    | 25/100 [00:03<00:09,  7.65it/s]\u001b[A\n",
      " 26%|██████████████████▏                                                   | 26/100 [00:03<00:09,  7.63it/s]\u001b[A\n",
      " 27%|██████████████████▉                                                   | 27/100 [00:03<00:09,  7.62it/s]\u001b[A\n",
      " 28%|███████████████████▌                                                  | 28/100 [00:03<00:09,  7.60it/s]\u001b[A\n",
      " 29%|████████████████████▎                                                 | 29/100 [00:03<00:09,  7.58it/s]\u001b[A\n",
      " 30%|█████████████████████                                                 | 30/100 [00:03<00:09,  7.53it/s]\u001b[A\n",
      " 31%|█████████████████████▋                                                | 31/100 [00:03<00:09,  7.55it/s]\u001b[A\n",
      " 32%|██████████████████████▍                                               | 32/100 [00:04<00:08,  7.96it/s]\u001b[A\n",
      " 33%|███████████████████████                                               | 33/100 [00:04<00:08,  7.91it/s]\u001b[A\n",
      " 34%|███████████████████████▊                                              | 34/100 [00:04<00:08,  7.95it/s]\u001b[A\n",
      " 35%|████████████████████████▌                                             | 35/100 [00:04<00:08,  7.98it/s]\u001b[A\n",
      " 36%|█████████████████████████▏                                            | 36/100 [00:04<00:07,  8.27it/s]\u001b[A\n",
      " 37%|█████████████████████████▉                                            | 37/100 [00:04<00:07,  8.20it/s]\u001b[A\n",
      " 38%|██████████████████████████▌                                           | 38/100 [00:04<00:07,  8.66it/s]\u001b[A\n",
      " 39%|███████████████████████████▎                                          | 39/100 [00:04<00:07,  8.56it/s]\u001b[A\n",
      " 40%|████████████████████████████                                          | 40/100 [00:05<00:06,  8.59it/s]\u001b[A\n",
      " 41%|████████████████████████████▋                                         | 41/100 [00:05<00:06,  8.51it/s]\u001b[A\n",
      " 42%|█████████████████████████████▍                                        | 42/100 [00:05<00:06,  8.47it/s]\u001b[A\n",
      " 43%|██████████████████████████████                                        | 43/100 [00:05<00:06,  8.45it/s]\u001b[A\n",
      " 45%|███████████████████████████████▌                                      | 45/100 [00:05<00:06,  9.00it/s]\u001b[A\n",
      " 46%|████████████████████████████████▏                                     | 46/100 [00:05<00:06,  8.63it/s]\u001b[A\n",
      " 47%|████████████████████████████████▉                                     | 47/100 [00:05<00:06,  8.66it/s]\u001b[A\n",
      " 49%|██████████████████████████████████▎                                   | 49/100 [00:06<00:05,  9.17it/s]\u001b[A\n",
      " 51%|███████████████████████████████████▋                                  | 51/100 [00:06<00:05,  9.70it/s]\u001b[A\n",
      " 52%|████████████████████████████████████▍                                 | 52/100 [00:06<00:05,  9.52it/s]\u001b[A\n",
      " 53%|█████████████████████████████████████                                 | 53/100 [00:06<00:05,  9.36it/s]\u001b[A\n",
      " 55%|██████████████████████████████████████▌                               | 55/100 [00:06<00:04, 10.18it/s]\u001b[A\n",
      " 56%|███████████████████████████████████████▏                              | 56/100 [00:06<00:04,  9.82it/s]\u001b[A\n",
      " 57%|███████████████████████████████████████▉                              | 57/100 [00:06<00:04,  9.56it/s]\u001b[A\n",
      " 58%|████████████████████████████████████████▌                             | 58/100 [00:06<00:04,  9.38it/s]\u001b[A\n",
      " 59%|█████████████████████████████████████████▎                            | 59/100 [00:07<00:04,  9.35it/s]\u001b[A\n",
      " 60%|██████████████████████████████████████████                            | 60/100 [00:07<00:04,  8.81it/s]\u001b[A\n",
      " 61%|██████████████████████████████████████████▋                           | 61/100 [00:07<00:04,  8.91it/s]\u001b[A\n",
      " 62%|███████████████████████████████████████████▍                          | 62/100 [00:07<00:04,  8.47it/s]\u001b[A\n",
      " 63%|████████████████████████████████████████████                          | 63/100 [00:07<00:04,  8.69it/s]\u001b[A\n",
      " 64%|████████████████████████████████████████████▊                         | 64/100 [00:07<00:04,  8.37it/s]\u001b[A\n",
      " 65%|█████████████████████████████████████████████▌                        | 65/100 [00:07<00:04,  8.56it/s]\u001b[A\n",
      " 66%|██████████████████████████████████████████████▏                       | 66/100 [00:07<00:03,  8.62it/s]\u001b[A\n",
      " 68%|███████████████████████████████████████████████▌                      | 68/100 [00:08<00:03, 10.08it/s]\u001b[A\n",
      " 69%|████████████████████████████████████████████████▎                     | 69/100 [00:08<00:03,  9.76it/s]\u001b[A\n",
      " 70%|█████████████████████████████████████████████████                     | 70/100 [00:08<00:03,  9.78it/s]\u001b[A\n",
      " 71%|█████████████████████████████████████████████████▋                    | 71/100 [00:08<00:02,  9.72it/s]\u001b[A\n",
      " 72%|██████████████████████████████████████████████████▍                   | 72/100 [00:08<00:02,  9.55it/s]\u001b[A\n",
      " 73%|███████████████████████████████████████████████████                   | 73/100 [00:08<00:02,  9.52it/s]\u001b[A\n",
      " 74%|███████████████████████████████████████████████████▊                  | 74/100 [00:08<00:02,  9.58it/s]\u001b[A\n",
      " 76%|█████████████████████████████████████████████████████▏                | 76/100 [00:08<00:02, 10.31it/s]\u001b[A\n",
      " 78%|██████████████████████████████████████████████████████▌               | 78/100 [00:09<00:02, 10.21it/s]\u001b[A\n",
      " 80%|████████████████████████████████████████████████████████              | 80/100 [00:09<00:01, 10.57it/s]\u001b[A\n",
      " 82%|█████████████████████████████████████████████████████████▍            | 82/100 [00:09<00:01, 10.48it/s]\u001b[A\n",
      " 84%|██████████████████████████████████████████████████████████▊           | 84/100 [00:09<00:01, 10.22it/s]\u001b[A\n",
      " 86%|████████████████████████████████████████████████████████████▏         | 86/100 [00:09<00:01, 10.58it/s]\u001b[A\n",
      " 88%|█████████████████████████████████████████████████████████████▌        | 88/100 [00:10<00:01, 10.55it/s]\u001b[A\n",
      " 90%|███████████████████████████████████████████████████████████████       | 90/100 [00:10<00:00, 10.65it/s]\u001b[A\n",
      " 92%|████████████████████████████████████████████████████████████████▍     | 92/100 [00:10<00:00, 10.80it/s]\u001b[A\n",
      " 94%|█████████████████████████████████████████████████████████████████▊    | 94/100 [00:10<00:00, 11.02it/s]\u001b[A\n",
      " 96%|███████████████████████████████████████████████████████████████████▏  | 96/100 [00:10<00:00, 11.05it/s]\u001b[A\n",
      " 98%|████████████████████████████████████████████████████████████████████▌ | 98/100 [00:10<00:00, 10.86it/s]\u001b[A\n",
      "100%|█████████████████████████████████████████████████████████████████████| 100/100 [00:11<00:00,  9.00it/s]\u001b[A\n",
      "100%|█████████████████████████████████████████████████████████████████████| 200/200 [02:37<00:00,  1.27it/s]\n"
     ]
    },
    {
     "name": "stdout",
     "output_type": "stream",
     "text": [
      "Reward mean: 474.45, std: 47.77\n",
      "Num steps mean: 474.45, std: 47.77\n"
     ]
    },
    {
     "name": "stderr",
     "output_type": "stream",
     "text": [
      "100%|███████████████████████████████████████████████████████████████████| 1000/1000 [01:19<00:00, 12.53it/s]\n",
      "\u001b[32m[I 2022-03-02 10:20:02,318]\u001b[0m Trial 28 finished with value: 473.532 and parameters: {'learning_rate': 0.0009405600769042816, 'discount_factor': 0.99, 'batch_size': 128, 'memory_size': 10000, 'freq_steps_train': 8, 'freq_steps_update_target': 10, 'n_steps_warm_up_memory': 1000, 'n_gradient_steps': 4, 'nn_hidden_layers': [256, 256], 'max_grad_norm': 1, 'normalize_state': False, 'epsilon_start': 0.9, 'epsilon_end': 0.013826186881577503, 'steps_epsilon_decay': 10000, 'seed': 972062230}. Best is trial 14 with value: 500.0.\u001b[0m\n",
      "/Users/paulabartabajo/src/online-courses/hands-on-rl/03_cart_pole/.venv/lib/python3.7/site-packages/optuna/distributions.py:427: UserWarning: Choices for a categorical distribution should be a tuple of None, bool, int, float and str for persistent storage but contains [256, 256] which is of type list.\n",
      "  warnings.warn(message)\n"
     ]
    },
    {
     "name": "stdout",
     "output_type": "stream",
     "text": [
      "67,586 parameters\n"
     ]
    },
    {
     "name": "stderr",
     "output_type": "stream",
     "text": [
      " 98%|██████████████████████████████████████████████████████████████████▎ | 195/200 [00:01<00:00, 102.40it/s]\n",
      "  0%|                                                                               | 0/100 [00:00<?, ?it/s]\u001b[A\n",
      " 16%|███████████                                                          | 16/100 [00:00<00:00, 154.26it/s]\u001b[A\n",
      " 32%|██████████████████████                                               | 32/100 [00:00<00:00, 126.32it/s]\u001b[A\n",
      " 45%|███████████████████████████████                                      | 45/100 [00:00<00:00, 114.61it/s]\u001b[A\n",
      " 58%|████████████████████████████████████████                             | 58/100 [00:00<00:00, 118.87it/s]\u001b[A\n",
      " 73%|██████████████████████████████████████████████████▎                  | 73/100 [00:00<00:00, 127.32it/s]\u001b[A\n",
      "100%|████████████████████████████████████████████████████████████████████| 100/100 [00:00<00:00, 130.34it/s]\u001b[A\n",
      "100%|█████████████████████████████████████████████████████████████████████| 200/200 [00:02<00:00, 72.62it/s]\n"
     ]
    },
    {
     "name": "stdout",
     "output_type": "stream",
     "text": [
      "Reward mean: 29.28, std: 3.64\n",
      "Num steps mean: 29.28, std: 3.64\n"
     ]
    },
    {
     "name": "stderr",
     "output_type": "stream",
     "text": [
      "100%|██████████████████████████████████████████████████████████████████| 1000/1000 [00:05<00:00, 188.70it/s]\n",
      "\u001b[32m[I 2022-03-02 10:20:10,679]\u001b[0m Trial 29 finished with value: 28.972 and parameters: {'learning_rate': 0.0015180629263726237, 'discount_factor': 0.99, 'batch_size': 128, 'memory_size': 10000, 'freq_steps_train': 8, 'freq_steps_update_target': 1000, 'n_steps_warm_up_memory': 5000, 'n_gradient_steps': 4, 'nn_hidden_layers': [256, 256], 'max_grad_norm': 10, 'normalize_state': False, 'epsilon_start': 0.9, 'epsilon_end': 0.055844784477747524, 'steps_epsilon_decay': 1000, 'seed': 969171786}. Best is trial 14 with value: 500.0.\u001b[0m\n",
      "/Users/paulabartabajo/src/online-courses/hands-on-rl/03_cart_pole/.venv/lib/python3.7/site-packages/optuna/distributions.py:427: UserWarning: Choices for a categorical distribution should be a tuple of None, bool, int, float and str for persistent storage but contains [256, 256] which is of type list.\n",
      "  warnings.warn(message)\n"
     ]
    },
    {
     "name": "stdout",
     "output_type": "stream",
     "text": [
      "67,586 parameters\n"
     ]
    },
    {
     "name": "stderr",
     "output_type": "stream",
     "text": [
      "100%|████████████████████████████████████████████████████████████████████▋| 199/200 [02:23<00:01,  1.33s/it]\n",
      "  0%|                                                                               | 0/100 [00:00<?, ?it/s]\u001b[A\n",
      "  3%|██▏                                                                    | 3/100 [00:00<00:04, 20.88it/s]\u001b[A\n",
      "  6%|████▎                                                                  | 6/100 [00:00<00:04, 23.08it/s]\u001b[A\n",
      "  9%|██████▍                                                                | 9/100 [00:00<00:03, 24.51it/s]\u001b[A\n",
      " 12%|████████▍                                                             | 12/100 [00:00<00:03, 24.78it/s]\u001b[A\n",
      " 15%|██████████▌                                                           | 15/100 [00:00<00:03, 24.44it/s]\u001b[A\n",
      " 18%|████████████▌                                                         | 18/100 [00:00<00:03, 24.44it/s]\u001b[A\n",
      " 21%|██████████████▋                                                       | 21/100 [00:00<00:03, 21.80it/s]\u001b[A\n",
      " 24%|████████████████▊                                                     | 24/100 [00:01<00:03, 22.30it/s]\u001b[A\n",
      " 27%|██████████████████▉                                                   | 27/100 [00:01<00:03, 22.54it/s]\u001b[A\n",
      " 30%|█████████████████████                                                 | 30/100 [00:01<00:03, 23.03it/s]\u001b[A\n",
      " 33%|███████████████████████                                               | 33/100 [00:01<00:02, 23.14it/s]\u001b[A\n",
      " 36%|█████████████████████████▏                                            | 36/100 [00:01<00:02, 23.78it/s]\u001b[A\n",
      " 39%|███████████████████████████▎                                          | 39/100 [00:01<00:02, 23.79it/s]\u001b[A\n",
      " 42%|█████████████████████████████▍                                        | 42/100 [00:01<00:02, 23.65it/s]\u001b[A\n",
      " 45%|███████████████████████████████▌                                      | 45/100 [00:01<00:02, 24.01it/s]\u001b[A\n",
      " 48%|█████████████████████████████████▌                                    | 48/100 [00:02<00:02, 24.49it/s]\u001b[A\n",
      " 51%|███████████████████████████████████▋                                  | 51/100 [00:02<00:01, 24.52it/s]\u001b[A\n",
      " 54%|█████████████████████████████████████▊                                | 54/100 [00:02<00:01, 24.55it/s]\u001b[A\n",
      " 57%|███████████████████████████████████████▉                              | 57/100 [00:02<00:01, 24.85it/s]\u001b[A\n",
      " 60%|██████████████████████████████████████████                            | 60/100 [00:02<00:01, 24.70it/s]\u001b[A\n",
      " 63%|████████████████████████████████████████████                          | 63/100 [00:02<00:01, 24.55it/s]\u001b[A\n",
      " 66%|██████████████████████████████████████████████▏                       | 66/100 [00:02<00:01, 24.82it/s]\u001b[A\n",
      " 69%|████████████████████████████████████████████████▎                     | 69/100 [00:02<00:01, 24.97it/s]\u001b[A\n",
      " 72%|██████████████████████████████████████████████████▍                   | 72/100 [00:03<00:01, 18.90it/s]\u001b[A\n",
      " 75%|████████████████████████████████████████████████████▌                 | 75/100 [00:03<00:01, 18.37it/s]\u001b[A\n",
      " 78%|██████████████████████████████████████████████████████▌               | 78/100 [00:03<00:01, 19.48it/s]\u001b[A\n",
      " 81%|████████████████████████████████████████████████████████▋             | 81/100 [00:03<00:00, 20.90it/s]\u001b[A\n",
      " 84%|██████████████████████████████████████████████████████████▊           | 84/100 [00:03<00:00, 21.52it/s]\u001b[A\n",
      " 87%|████████████████████████████████████████████████████████████▉         | 87/100 [00:03<00:00, 21.85it/s]\u001b[A\n",
      " 90%|███████████████████████████████████████████████████████████████       | 90/100 [00:03<00:00, 22.45it/s]\u001b[A\n",
      " 93%|█████████████████████████████████████████████████████████████████     | 93/100 [00:04<00:00, 23.47it/s]\u001b[A\n",
      " 96%|███████████████████████████████████████████████████████████████████▏  | 96/100 [00:04<00:00, 23.84it/s]\u001b[A\n",
      "100%|█████████████████████████████████████████████████████████████████████| 100/100 [00:04<00:00, 23.04it/s]\u001b[A\n",
      "100%|█████████████████████████████████████████████████████████████████████| 200/200 [02:29<00:00,  1.34it/s]\n"
     ]
    },
    {
     "name": "stdout",
     "output_type": "stream",
     "text": [
      "Reward mean: 234.65, std: 28.50\n",
      "Num steps mean: 234.65, std: 28.50\n"
     ]
    },
    {
     "name": "stderr",
     "output_type": "stream",
     "text": [
      "100%|███████████████████████████████████████████████████████████████████| 1000/1000 [00:55<00:00, 17.94it/s]\n",
      "\u001b[32m[I 2022-03-02 10:23:35,735]\u001b[0m Trial 30 finished with value: 232.907 and parameters: {'learning_rate': 0.0009273729246061247, 'discount_factor': 0.99, 'batch_size': 128, 'memory_size': 10000, 'freq_steps_train': 8, 'freq_steps_update_target': 10, 'n_steps_warm_up_memory': 1000, 'n_gradient_steps': 4, 'nn_hidden_layers': [256, 256], 'max_grad_norm': 1, 'normalize_state': False, 'epsilon_start': 0.9, 'epsilon_end': 0.07964085583745498, 'steps_epsilon_decay': 10000, 'seed': 180215608}. Best is trial 14 with value: 500.0.\u001b[0m\n",
      "/Users/paulabartabajo/src/online-courses/hands-on-rl/03_cart_pole/.venv/lib/python3.7/site-packages/optuna/distributions.py:427: UserWarning: Choices for a categorical distribution should be a tuple of None, bool, int, float and str for persistent storage but contains [256, 256] which is of type list.\n",
      "  warnings.warn(message)\n"
     ]
    },
    {
     "name": "stdout",
     "output_type": "stream",
     "text": [
      "67,586 parameters\n"
     ]
    },
    {
     "name": "stderr",
     "output_type": "stream",
     "text": [
      "100%|████████████████████████████████████████████████████████████████████▋| 199/200 [03:10<00:00,  1.64it/s]\n",
      "  0%|                                                                               | 0/100 [00:00<?, ?it/s]\u001b[A\n",
      "  3%|██▏                                                                    | 3/100 [00:00<00:03, 27.59it/s]\u001b[A\n",
      "  6%|████▎                                                                  | 6/100 [00:00<00:04, 21.30it/s]\u001b[A\n",
      "  9%|██████▍                                                                | 9/100 [00:00<00:04, 22.29it/s]\u001b[A\n",
      " 12%|████████▍                                                             | 12/100 [00:00<00:03, 24.79it/s]\u001b[A\n",
      " 15%|██████████▌                                                           | 15/100 [00:00<00:05, 16.11it/s]\u001b[A\n",
      " 18%|████████████▌                                                         | 18/100 [00:00<00:04, 17.77it/s]\u001b[A\n",
      " 21%|██████████████▋                                                       | 21/100 [00:01<00:04, 18.76it/s]\u001b[A\n",
      " 24%|████████████████▊                                                     | 24/100 [00:01<00:03, 20.42it/s]\u001b[A\n",
      " 27%|██████████████████▉                                                   | 27/100 [00:01<00:03, 22.36it/s]\u001b[A\n",
      " 30%|█████████████████████                                                 | 30/100 [00:01<00:02, 23.55it/s]\u001b[A\n",
      " 33%|███████████████████████                                               | 33/100 [00:01<00:03, 21.98it/s]\u001b[A\n",
      " 36%|█████████████████████████▏                                            | 36/100 [00:01<00:02, 22.92it/s]\u001b[A\n",
      " 39%|███████████████████████████▎                                          | 39/100 [00:01<00:03, 19.74it/s]\u001b[A\n",
      " 42%|█████████████████████████████▍                                        | 42/100 [00:02<00:02, 20.52it/s]\u001b[A\n",
      " 45%|███████████████████████████████▌                                      | 45/100 [00:02<00:03, 17.82it/s]\u001b[A\n",
      " 48%|█████████████████████████████████▌                                    | 48/100 [00:02<00:02, 20.30it/s]\u001b[A\n",
      " 51%|███████████████████████████████████▋                                  | 51/100 [00:02<00:02, 20.93it/s]\u001b[A\n",
      " 54%|█████████████████████████████████████▊                                | 54/100 [00:02<00:02, 22.14it/s]\u001b[A\n",
      " 57%|███████████████████████████████████████▉                              | 57/100 [00:02<00:01, 22.95it/s]\u001b[A\n",
      " 61%|██████████████████████████████████████████▋                           | 61/100 [00:02<00:01, 25.86it/s]\u001b[A\n",
      " 64%|████████████████████████████████████████████▊                         | 64/100 [00:02<00:01, 24.83it/s]\u001b[A\n",
      " 68%|███████████████████████████████████████████████▌                      | 68/100 [00:03<00:01, 27.16it/s]\u001b[A\n",
      " 72%|██████████████████████████████████████████████████▍                   | 72/100 [00:03<00:00, 28.76it/s]\u001b[A\n",
      " 76%|█████████████████████████████████████████████████████▏                | 76/100 [00:03<00:00, 30.85it/s]\u001b[A\n",
      " 80%|████████████████████████████████████████████████████████              | 80/100 [00:03<00:00, 32.66it/s]\u001b[A\n",
      " 84%|██████████████████████████████████████████████████████████▊           | 84/100 [00:03<00:00, 34.26it/s]\u001b[A\n",
      " 88%|█████████████████████████████████████████████████████████████▌        | 88/100 [00:03<00:00, 35.09it/s]\u001b[A\n",
      " 92%|████████████████████████████████████████████████████████████████▍     | 92/100 [00:03<00:00, 35.18it/s]\u001b[A\n",
      " 96%|███████████████████████████████████████████████████████████████████▏  | 96/100 [00:03<00:00, 31.67it/s]\u001b[A\n",
      "100%|█████████████████████████████████████████████████████████████████████| 100/100 [00:04<00:00, 24.81it/s]\u001b[A\n",
      "100%|█████████████████████████████████████████████████████████████████████| 200/200 [03:15<00:00,  1.03it/s]\n"
     ]
    },
    {
     "name": "stdout",
     "output_type": "stream",
     "text": [
      "Reward mean: 107.75, std: 4.15\n",
      "Num steps mean: 107.75, std: 4.15\n"
     ]
    },
    {
     "name": "stderr",
     "output_type": "stream",
     "text": [
      "100%|███████████████████████████████████████████████████████████████████| 1000/1000 [00:32<00:00, 30.59it/s]\n",
      "\u001b[32m[I 2022-03-02 10:27:23,984]\u001b[0m Trial 31 finished with value: 108.151 and parameters: {'learning_rate': 0.000656417983426638, 'discount_factor': 0.99, 'batch_size': 128, 'memory_size': 10000, 'freq_steps_train': 8, 'freq_steps_update_target': 10, 'n_steps_warm_up_memory': 1000, 'n_gradient_steps': 4, 'nn_hidden_layers': [256, 256], 'max_grad_norm': 1, 'normalize_state': False, 'epsilon_start': 0.9, 'epsilon_end': 0.01364171682032208, 'steps_epsilon_decay': 10000, 'seed': 1057285542}. Best is trial 14 with value: 500.0.\u001b[0m\n",
      "/Users/paulabartabajo/src/online-courses/hands-on-rl/03_cart_pole/.venv/lib/python3.7/site-packages/optuna/distributions.py:427: UserWarning: Choices for a categorical distribution should be a tuple of None, bool, int, float and str for persistent storage but contains [256, 256] which is of type list.\n",
      "  warnings.warn(message)\n"
     ]
    },
    {
     "name": "stdout",
     "output_type": "stream",
     "text": [
      "67,586 parameters\n"
     ]
    },
    {
     "name": "stderr",
     "output_type": "stream",
     "text": [
      " 99%|████████████████████████████████████████████████████████████████████▎| 198/200 [00:06<00:00, 14.16it/s]\n",
      "  0%|                                                                               | 0/100 [00:00<?, ?it/s]\u001b[A\n",
      "  7%|████▉                                                                  | 7/100 [00:00<00:01, 68.80it/s]\u001b[A\n",
      " 14%|█████████▊                                                            | 14/100 [00:00<00:01, 57.13it/s]\u001b[A\n",
      " 20%|██████████████                                                        | 20/100 [00:00<00:01, 50.38it/s]\u001b[A\n",
      " 28%|███████████████████▌                                                  | 28/100 [00:00<00:01, 59.04it/s]\u001b[A\n",
      " 36%|█████████████████████████▏                                            | 36/100 [00:00<00:01, 63.95it/s]\u001b[A\n",
      " 45%|███████████████████████████████▌                                      | 45/100 [00:00<00:00, 69.56it/s]\u001b[A\n",
      " 53%|█████████████████████████████████████                                 | 53/100 [00:00<00:00, 68.01it/s]\u001b[A\n",
      " 60%|██████████████████████████████████████████                            | 60/100 [00:00<00:00, 60.53it/s]\u001b[A\n",
      " 69%|████████████████████████████████████████████████▎                     | 69/100 [00:01<00:00, 67.05it/s]\u001b[A\n",
      " 76%|█████████████████████████████████████████████████████▏                | 76/100 [00:01<00:00, 64.95it/s]\u001b[A\n",
      " 83%|██████████████████████████████████████████████████████████            | 83/100 [00:01<00:00, 60.88it/s]\u001b[A\n",
      " 90%|███████████████████████████████████████████████████████████████       | 90/100 [00:01<00:00, 53.28it/s]\u001b[A\n",
      "100%|█████████████████████████████████████████████████████████████████████| 100/100 [00:01<00:00, 61.50it/s]\u001b[A\n",
      "100%|█████████████████████████████████████████████████████████████████████| 200/200 [00:07<00:00, 25.02it/s]\n"
     ]
    },
    {
     "name": "stdout",
     "output_type": "stream",
     "text": [
      "Reward mean: 54.65, std: 21.26\n",
      "Num steps mean: 54.65, std: 21.26\n"
     ]
    },
    {
     "name": "stderr",
     "output_type": "stream",
     "text": [
      "100%|███████████████████████████████████████████████████████████████████| 1000/1000 [00:13<00:00, 75.35it/s]\n",
      "\u001b[32m[I 2022-03-02 10:27:45,598]\u001b[0m Trial 32 finished with value: 52.958 and parameters: {'learning_rate': 0.0002705336590681205, 'discount_factor': 0.99, 'batch_size': 128, 'memory_size': 10000, 'freq_steps_train': 8, 'freq_steps_update_target': 10, 'n_steps_warm_up_memory': 1000, 'n_gradient_steps': 1, 'nn_hidden_layers': [256, 256], 'max_grad_norm': 1, 'normalize_state': False, 'epsilon_start': 0.9, 'epsilon_end': 0.03356864523521505, 'steps_epsilon_decay': 10000, 'seed': 970139045}. Best is trial 14 with value: 500.0.\u001b[0m\n",
      "/Users/paulabartabajo/src/online-courses/hands-on-rl/03_cart_pole/.venv/lib/python3.7/site-packages/optuna/distributions.py:427: UserWarning: Choices for a categorical distribution should be a tuple of None, bool, int, float and str for persistent storage but contains [256, 256] which is of type list.\n",
      "  warnings.warn(message)\n"
     ]
    },
    {
     "name": "stdout",
     "output_type": "stream",
     "text": [
      "67,586 parameters\n"
     ]
    },
    {
     "name": "stderr",
     "output_type": "stream",
     "text": [
      "100%|███████████████████████████████████████████████████████████████████▋| 199/200 [00:01<00:00, 103.95it/s]\n",
      "  0%|                                                                               | 0/100 [00:00<?, ?it/s]\u001b[A\n",
      " 36%|████████████████████████▊                                            | 36/100 [00:00<00:00, 358.72it/s]\u001b[A\n",
      "100%|████████████████████████████████████████████████████████████████████| 100/100 [00:00<00:00, 363.96it/s]\u001b[A\n",
      "100%|████████████████████████████████████████████████████████████████████| 200/200 [00:01<00:00, 107.41it/s]\n"
     ]
    },
    {
     "name": "stdout",
     "output_type": "stream",
     "text": [
      "Reward mean: 9.51, std: 0.92\n",
      "Num steps mean: 9.51, std: 0.92\n"
     ]
    },
    {
     "name": "stderr",
     "output_type": "stream",
     "text": [
      "100%|██████████████████████████████████████████████████████████████████| 1000/1000 [00:02<00:00, 376.94it/s]\n",
      "\u001b[32m[I 2022-03-02 10:27:50,548]\u001b[0m Trial 33 finished with value: 9.339 and parameters: {'learning_rate': 0.001125457612516206, 'discount_factor': 0.99, 'batch_size': 128, 'memory_size': 100000, 'freq_steps_train': 128, 'freq_steps_update_target': 10, 'n_steps_warm_up_memory': 1000, 'n_gradient_steps': 4, 'nn_hidden_layers': [256, 256], 'max_grad_norm': 1, 'normalize_state': False, 'epsilon_start': 0.9, 'epsilon_end': 0.013773289462828577, 'steps_epsilon_decay': 10000, 'seed': 812752894}. Best is trial 14 with value: 500.0.\u001b[0m\n",
      "/Users/paulabartabajo/src/online-courses/hands-on-rl/03_cart_pole/.venv/lib/python3.7/site-packages/optuna/distributions.py:427: UserWarning: Choices for a categorical distribution should be a tuple of None, bool, int, float and str for persistent storage but contains [256, 256] which is of type list.\n",
      "  warnings.warn(message)\n"
     ]
    },
    {
     "name": "stdout",
     "output_type": "stream",
     "text": [
      "67,586 parameters\n"
     ]
    },
    {
     "name": "stderr",
     "output_type": "stream",
     "text": [
      "100%|████████████████████████████████████████████████████████████████████▋| 199/200 [00:52<00:01,  1.71s/it]\n",
      "  0%|                                                                               | 0/100 [00:00<?, ?it/s]\u001b[A\n",
      "  1%|▋                                                                      | 1/100 [00:00<00:11,  8.59it/s]\u001b[A\n",
      "  3%|██▏                                                                    | 3/100 [00:00<00:09,  9.77it/s]\u001b[A\n",
      "  5%|███▌                                                                   | 5/100 [00:00<00:08, 10.65it/s]\u001b[A\n",
      "  7%|████▉                                                                  | 7/100 [00:00<00:08, 11.12it/s]\u001b[A\n",
      "  9%|██████▍                                                                | 9/100 [00:00<00:08, 11.33it/s]\u001b[A\n",
      " 11%|███████▋                                                              | 11/100 [00:00<00:07, 12.36it/s]\u001b[A\n",
      " 13%|█████████                                                             | 13/100 [00:01<00:06, 13.44it/s]\u001b[A\n",
      " 15%|██████████▌                                                           | 15/100 [00:01<00:06, 13.75it/s]\u001b[A\n",
      " 17%|███████████▉                                                          | 17/100 [00:01<00:05, 13.90it/s]\u001b[A\n",
      " 19%|█████████████▎                                                        | 19/100 [00:01<00:05, 13.72it/s]\u001b[A\n",
      " 21%|██████████████▋                                                       | 21/100 [00:01<00:05, 14.27it/s]\u001b[A\n",
      " 23%|████████████████                                                      | 23/100 [00:01<00:05, 14.01it/s]\u001b[A\n",
      " 25%|█████████████████▌                                                    | 25/100 [00:02<00:06, 11.32it/s]\u001b[A\n",
      " 27%|██████████████████▉                                                   | 27/100 [00:02<00:06, 10.50it/s]\u001b[A\n",
      " 29%|████████████████████▎                                                 | 29/100 [00:02<00:06, 10.72it/s]\u001b[A\n",
      " 31%|█████████████████████▋                                                | 31/100 [00:02<00:06, 10.94it/s]\u001b[A\n",
      " 33%|███████████████████████                                               | 33/100 [00:02<00:05, 11.41it/s]\u001b[A\n",
      " 35%|████████████████████████▌                                             | 35/100 [00:02<00:05, 11.99it/s]\u001b[A\n",
      " 37%|█████████████████████████▉                                            | 37/100 [00:03<00:05, 12.01it/s]\u001b[A\n",
      " 39%|███████████████████████████▎                                          | 39/100 [00:03<00:05, 11.63it/s]\u001b[A\n",
      " 41%|████████████████████████████▋                                         | 41/100 [00:03<00:05, 10.51it/s]\u001b[A\n",
      " 43%|██████████████████████████████                                        | 43/100 [00:03<00:05, 10.42it/s]\u001b[A\n",
      " 45%|███████████████████████████████▌                                      | 45/100 [00:03<00:05, 10.42it/s]\u001b[A\n",
      " 47%|████████████████████████████████▉                                     | 47/100 [00:04<00:06,  8.03it/s]\u001b[A\n",
      " 48%|█████████████████████████████████▌                                    | 48/100 [00:04<00:06,  8.17it/s]\u001b[A\n",
      " 50%|███████████████████████████████████                                   | 50/100 [00:04<00:05,  9.36it/s]\u001b[A\n",
      " 52%|████████████████████████████████████▍                                 | 52/100 [00:04<00:05,  8.40it/s]\u001b[A\n",
      " 54%|█████████████████████████████████████▊                                | 54/100 [00:05<00:05,  9.17it/s]\u001b[A\n",
      " 56%|███████████████████████████████████████▏                              | 56/100 [00:05<00:04,  9.94it/s]\u001b[A\n",
      " 58%|████████████████████████████████████████▌                             | 58/100 [00:05<00:03, 10.62it/s]\u001b[A\n",
      " 60%|██████████████████████████████████████████                            | 60/100 [00:05<00:03, 10.45it/s]\u001b[A\n",
      " 62%|███████████████████████████████████████████▍                          | 62/100 [00:05<00:03, 10.47it/s]\u001b[A\n",
      " 64%|████████████████████████████████████████████▊                         | 64/100 [00:05<00:03, 10.69it/s]\u001b[A\n",
      " 66%|██████████████████████████████████████████████▏                       | 66/100 [00:06<00:03, 11.03it/s]\u001b[A\n",
      " 68%|███████████████████████████████████████████████▌                      | 68/100 [00:06<00:02, 10.91it/s]\u001b[A\n",
      " 70%|█████████████████████████████████████████████████                     | 70/100 [00:06<00:02, 10.19it/s]\u001b[A\n",
      " 72%|██████████████████████████████████████████████████▍                   | 72/100 [00:06<00:02, 11.02it/s]\u001b[A\n",
      " 74%|███████████████████████████████████████████████████▊                  | 74/100 [00:06<00:02, 11.10it/s]\u001b[A\n",
      " 76%|█████████████████████████████████████████████████████▏                | 76/100 [00:06<00:02, 11.55it/s]\u001b[A\n",
      " 78%|██████████████████████████████████████████████████████▌               | 78/100 [00:07<00:02, 10.42it/s]\u001b[A\n",
      " 80%|████████████████████████████████████████████████████████              | 80/100 [00:07<00:01, 10.53it/s]\u001b[A\n",
      " 82%|█████████████████████████████████████████████████████████▍            | 82/100 [00:07<00:01, 10.46it/s]\u001b[A\n",
      " 84%|██████████████████████████████████████████████████████████▊           | 84/100 [00:07<00:01, 10.87it/s]\u001b[A\n",
      " 86%|████████████████████████████████████████████████████████████▏         | 86/100 [00:07<00:01, 10.91it/s]\u001b[A\n",
      " 88%|█████████████████████████████████████████████████████████████▌        | 88/100 [00:08<00:01, 11.61it/s]\u001b[A\n",
      " 90%|███████████████████████████████████████████████████████████████       | 90/100 [00:08<00:01,  7.41it/s]\u001b[A\n",
      " 91%|███████████████████████████████████████████████████████████████▋      | 91/100 [00:08<00:01,  7.22it/s]\u001b[A\n",
      " 92%|████████████████████████████████████████████████████████████████▍     | 92/100 [00:08<00:01,  7.23it/s]\u001b[A\n",
      " 93%|█████████████████████████████████████████████████████████████████     | 93/100 [00:08<00:00,  7.23it/s]\u001b[A\n",
      " 94%|█████████████████████████████████████████████████████████████████▊    | 94/100 [00:09<00:00,  6.39it/s]\u001b[A\n",
      " 95%|██████████████████████████████████████████████████████████████████▌   | 95/100 [00:09<00:00,  5.43it/s]\u001b[A\n",
      " 96%|███████████████████████████████████████████████████████████████████▏  | 96/100 [00:09<00:00,  5.93it/s]\u001b[A\n",
      " 97%|███████████████████████████████████████████████████████████████████▉  | 97/100 [00:09<00:00,  6.35it/s]\u001b[A\n",
      " 98%|████████████████████████████████████████████████████████████████████▌ | 98/100 [00:09<00:00,  6.40it/s]\u001b[A\n",
      " 99%|█████████████████████████████████████████████████████████████████████▎| 99/100 [00:09<00:00,  6.99it/s]\u001b[A\n",
      "100%|█████████████████████████████████████████████████████████████████████| 100/100 [00:10<00:00,  9.79it/s]\u001b[A\n",
      "100%|█████████████████████████████████████████████████████████████████████| 200/200 [01:03<00:00,  3.14it/s]\n"
     ]
    },
    {
     "name": "stdout",
     "output_type": "stream",
     "text": [
      "Reward mean: 296.34, std: 64.97\n",
      "Num steps mean: 296.34, std: 64.97\n"
     ]
    },
    {
     "name": "stderr",
     "output_type": "stream",
     "text": [
      "100%|███████████████████████████████████████████████████████████████████| 1000/1000 [01:28<00:00, 11.25it/s]\n",
      "\u001b[32m[I 2022-03-02 10:30:23,964]\u001b[0m Trial 34 finished with value: 302.22 and parameters: {'learning_rate': 0.000131488588346545, 'discount_factor': 0.99, 'batch_size': 128, 'memory_size': 50000, 'freq_steps_train': 8, 'freq_steps_update_target': 10, 'n_steps_warm_up_memory': 1000, 'n_gradient_steps': 4, 'nn_hidden_layers': [256, 256], 'max_grad_norm': 1, 'normalize_state': True, 'epsilon_start': 0.9, 'epsilon_end': 0.007967120687450233, 'steps_epsilon_decay': 10000, 'seed': 883524931}. Best is trial 14 with value: 500.0.\u001b[0m\n",
      "/Users/paulabartabajo/src/online-courses/hands-on-rl/03_cart_pole/.venv/lib/python3.7/site-packages/optuna/distributions.py:427: UserWarning: Choices for a categorical distribution should be a tuple of None, bool, int, float and str for persistent storage but contains [256, 256] which is of type list.\n",
      "  warnings.warn(message)\n"
     ]
    },
    {
     "name": "stdout",
     "output_type": "stream",
     "text": [
      "67,586 parameters\n"
     ]
    },
    {
     "name": "stderr",
     "output_type": "stream",
     "text": [
      " 96%|██████████████████████████████████████████████████████████████████▌  | 193/200 [00:02<00:00, 80.96it/s]\n",
      "  0%|                                                                               | 0/100 [00:00<?, ?it/s]\u001b[A\n",
      " 29%|████████████████████                                                 | 29/100 [00:00<00:00, 283.00it/s]\u001b[A\n",
      " 58%|████████████████████████████████████████                             | 58/100 [00:00<00:00, 268.53it/s]\u001b[A\n",
      "100%|████████████████████████████████████████████████████████████████████| 100/100 [00:00<00:00, 255.48it/s]\u001b[A\n",
      "100%|█████████████████████████████████████████████████████████████████████| 200/200 [00:02<00:00, 75.25it/s]\n"
     ]
    },
    {
     "name": "stdout",
     "output_type": "stream",
     "text": [
      "Reward mean: 9.51, std: 0.92\n",
      "Num steps mean: 9.51, std: 0.92\n"
     ]
    },
    {
     "name": "stderr",
     "output_type": "stream",
     "text": [
      "100%|██████████████████████████████████████████████████████████████████| 1000/1000 [00:03<00:00, 318.54it/s]\n",
      "\u001b[32m[I 2022-03-02 10:30:30,364]\u001b[0m Trial 35 finished with value: 9.339 and parameters: {'learning_rate': 0.0007454062576639733, 'discount_factor': 0.99, 'batch_size': 32, 'memory_size': 100000, 'freq_steps_train': 16, 'freq_steps_update_target': 10, 'n_steps_warm_up_memory': 1000, 'n_gradient_steps': 1, 'nn_hidden_layers': [256, 256], 'max_grad_norm': 1, 'normalize_state': False, 'epsilon_start': 0.9, 'epsilon_end': 0.035428223603432375, 'steps_epsilon_decay': 10000, 'seed': 762124807}. Best is trial 14 with value: 500.0.\u001b[0m\n",
      "/Users/paulabartabajo/src/online-courses/hands-on-rl/03_cart_pole/.venv/lib/python3.7/site-packages/optuna/distributions.py:427: UserWarning: Choices for a categorical distribution should be a tuple of None, bool, int, float and str for persistent storage but contains [256, 256] which is of type list.\n",
      "  warnings.warn(message)\n"
     ]
    },
    {
     "name": "stdout",
     "output_type": "stream",
     "text": [
      "67,586 parameters\n"
     ]
    },
    {
     "name": "stderr",
     "output_type": "stream",
     "text": [
      "100%|████████████████████████████████████████████████████████████████████▋| 199/200 [00:50<00:00,  1.92it/s]\n",
      "  0%|                                                                               | 0/100 [00:00<?, ?it/s]\u001b[A\n",
      "  6%|████▎                                                                  | 6/100 [00:00<00:01, 58.48it/s]\u001b[A\n",
      " 12%|████████▍                                                             | 12/100 [00:00<00:01, 56.78it/s]\u001b[A\n",
      " 18%|████████████▌                                                         | 18/100 [00:00<00:01, 54.58it/s]\u001b[A\n",
      " 24%|████████████████▊                                                     | 24/100 [00:00<00:01, 52.08it/s]\u001b[A\n",
      " 30%|█████████████████████                                                 | 30/100 [00:00<00:01, 52.65it/s]\u001b[A\n",
      " 36%|█████████████████████████▏                                            | 36/100 [00:00<00:01, 52.68it/s]\u001b[A\n",
      " 42%|█████████████████████████████▍                                        | 42/100 [00:00<00:01, 52.03it/s]\u001b[A\n",
      " 48%|█████████████████████████████████▌                                    | 48/100 [00:00<00:00, 53.13it/s]\u001b[A\n",
      " 54%|█████████████████████████████████████▊                                | 54/100 [00:01<00:00, 53.47it/s]\u001b[A\n",
      " 60%|██████████████████████████████████████████                            | 60/100 [00:01<00:00, 50.78it/s]\u001b[A\n",
      " 66%|██████████████████████████████████████████████▏                       | 66/100 [00:01<00:00, 49.56it/s]\u001b[A\n",
      " 71%|█████████████████████████████████████████████████▋                    | 71/100 [00:01<00:00, 49.20it/s]\u001b[A\n",
      " 77%|█████████████████████████████████████████████████████▉                | 77/100 [00:01<00:00, 50.20it/s]\u001b[A\n",
      " 83%|██████████████████████████████████████████████████████████            | 83/100 [00:01<00:00, 48.93it/s]\u001b[A\n",
      " 89%|██████████████████████████████████████████████████████████████▎       | 89/100 [00:01<00:00, 49.56it/s]\u001b[A\n",
      " 94%|█████████████████████████████████████████████████████████████████▊    | 94/100 [00:01<00:00, 47.88it/s]\u001b[A\n",
      "100%|█████████████████████████████████████████████████████████████████████| 100/100 [00:01<00:00, 50.13it/s]\u001b[A\n",
      "100%|█████████████████████████████████████████████████████████████████████| 200/200 [00:52<00:00,  3.78it/s]\n"
     ]
    },
    {
     "name": "stdout",
     "output_type": "stream",
     "text": [
      "Reward mean: 86.41, std: 17.67\n",
      "Num steps mean: 86.41, std: 17.67\n"
     ]
    },
    {
     "name": "stderr",
     "output_type": "stream",
     "text": [
      "100%|███████████████████████████████████████████████████████████████████| 1000/1000 [00:20<00:00, 47.78it/s]\n",
      "\u001b[32m[I 2022-03-02 10:31:44,645]\u001b[0m Trial 36 finished with value: 91.917 and parameters: {'learning_rate': 0.003774299395807874, 'discount_factor': 0.9, 'batch_size': 64, 'memory_size': 10000, 'freq_steps_train': 8, 'freq_steps_update_target': 100, 'n_steps_warm_up_memory': 1000, 'n_gradient_steps': 4, 'nn_hidden_layers': [256, 256], 'max_grad_norm': 1, 'normalize_state': False, 'epsilon_start': 0.9, 'epsilon_end': 0.00016652156496514345, 'steps_epsilon_decay': 10000, 'seed': 1013832985}. Best is trial 14 with value: 500.0.\u001b[0m\n",
      "/Users/paulabartabajo/src/online-courses/hands-on-rl/03_cart_pole/.venv/lib/python3.7/site-packages/optuna/distributions.py:427: UserWarning: Choices for a categorical distribution should be a tuple of None, bool, int, float and str for persistent storage but contains [256, 256] which is of type list.\n",
      "  warnings.warn(message)\n"
     ]
    },
    {
     "name": "stdout",
     "output_type": "stream",
     "text": [
      "67,586 parameters\n"
     ]
    },
    {
     "name": "stderr",
     "output_type": "stream",
     "text": [
      " 96%|████████████████████████████████████████████████████████████████▉   | 191/200 [00:01<00:00, 120.70it/s]\n",
      "  0%|                                                                               | 0/100 [00:00<?, ?it/s]\u001b[A\n",
      " 36%|████████████████████████▊                                            | 36/100 [00:00<00:00, 357.04it/s]\u001b[A\n",
      "100%|████████████████████████████████████████████████████████████████████| 100/100 [00:00<00:00, 343.12it/s]\u001b[A\n",
      "100%|████████████████████████████████████████████████████████████████████| 200/200 [00:01<00:00, 102.66it/s]\n"
     ]
    },
    {
     "name": "stdout",
     "output_type": "stream",
     "text": [
      "Reward mean: 10.85, std: 3.59\n",
      "Num steps mean: 10.85, std: 3.59\n"
     ]
    },
    {
     "name": "stderr",
     "output_type": "stream",
     "text": [
      "100%|██████████████████████████████████████████████████████████████████| 1000/1000 [00:02<00:00, 353.09it/s]\n",
      "\u001b[32m[I 2022-03-02 10:31:50,065]\u001b[0m Trial 37 finished with value: 11.216 and parameters: {'learning_rate': 0.00041238291026775303, 'discount_factor': 0.95, 'batch_size': 16, 'memory_size': 50000, 'freq_steps_train': 256, 'freq_steps_update_target': 10, 'n_steps_warm_up_memory': 1000, 'n_gradient_steps': 16, 'nn_hidden_layers': [256, 256], 'max_grad_norm': 1, 'normalize_state': True, 'epsilon_start': 0.9, 'epsilon_end': 0.022455690973340374, 'steps_epsilon_decay': 1000, 'seed': 388421825}. Best is trial 14 with value: 500.0.\u001b[0m\n",
      "/Users/paulabartabajo/src/online-courses/hands-on-rl/03_cart_pole/.venv/lib/python3.7/site-packages/optuna/distributions.py:427: UserWarning: Choices for a categorical distribution should be a tuple of None, bool, int, float and str for persistent storage but contains [256, 256] which is of type list.\n",
      "  warnings.warn(message)\n"
     ]
    },
    {
     "name": "stdout",
     "output_type": "stream",
     "text": [
      "67,586 parameters\n"
     ]
    },
    {
     "name": "stderr",
     "output_type": "stream",
     "text": [
      "100%|████████████████████████████████████████████████████████████████████▋| 199/200 [00:20<00:00,  4.93it/s]\n",
      "  0%|                                                                               | 0/100 [00:00<?, ?it/s]\u001b[A\n",
      " 16%|███████████                                                          | 16/100 [00:00<00:00, 157.51it/s]\u001b[A\n",
      " 32%|██████████████████████                                               | 32/100 [00:00<00:00, 153.03it/s]\u001b[A\n",
      " 48%|█████████████████████████████████                                    | 48/100 [00:00<00:00, 145.27it/s]\u001b[A\n",
      " 63%|███████████████████████████████████████████▍                         | 63/100 [00:00<00:00, 146.19it/s]\u001b[A\n",
      " 78%|█████████████████████████████████████████████████████▊               | 78/100 [00:00<00:00, 140.84it/s]\u001b[A\n",
      "100%|████████████████████████████████████████████████████████████████████| 100/100 [00:00<00:00, 140.12it/s]\u001b[A\n",
      "100%|█████████████████████████████████████████████████████████████████████| 200/200 [00:21<00:00,  9.26it/s]\n"
     ]
    },
    {
     "name": "stdout",
     "output_type": "stream",
     "text": [
      "Reward mean: 28.08, std: 5.30\n",
      "Num steps mean: 28.08, std: 5.30\n"
     ]
    },
    {
     "name": "stderr",
     "output_type": "stream",
     "text": [
      "100%|██████████████████████████████████████████████████████████████████| 1000/1000 [00:07<00:00, 140.67it/s]\n",
      "\u001b[32m[I 2022-03-02 10:32:19,134]\u001b[0m Trial 38 finished with value: 27.672 and parameters: {'learning_rate': 0.00018254877453239066, 'discount_factor': 0.99, 'batch_size': 16, 'memory_size': 100000, 'freq_steps_train': 16, 'freq_steps_update_target': 1000, 'n_steps_warm_up_memory': 1000, 'n_gradient_steps': 16, 'nn_hidden_layers': [256, 256], 'max_grad_norm': 10, 'normalize_state': False, 'epsilon_start': 0.9, 'epsilon_end': 0.05203822156837007, 'steps_epsilon_decay': 10000, 'seed': 540045895}. Best is trial 14 with value: 500.0.\u001b[0m\n",
      "/Users/paulabartabajo/src/online-courses/hands-on-rl/03_cart_pole/.venv/lib/python3.7/site-packages/optuna/distributions.py:427: UserWarning: Choices for a categorical distribution should be a tuple of None, bool, int, float and str for persistent storage but contains [256, 256] which is of type list.\n",
      "  warnings.warn(message)\n"
     ]
    },
    {
     "name": "stdout",
     "output_type": "stream",
     "text": [
      "67,586 parameters\n"
     ]
    },
    {
     "name": "stderr",
     "output_type": "stream",
     "text": [
      " 94%|████████████████████████████████████████████████████████████████▎   | 189/200 [00:00<00:00, 229.89it/s]\n",
      "  0%|                                                                               | 0/100 [00:00<?, ?it/s]\u001b[A\n",
      " 35%|████████████████████████▏                                            | 35/100 [00:00<00:00, 344.81it/s]\u001b[A\n",
      "100%|████████████████████████████████████████████████████████████████████| 100/100 [00:00<00:00, 384.04it/s]\u001b[A\n",
      "100%|████████████████████████████████████████████████████████████████████| 200/200 [00:01<00:00, 180.51it/s]\n"
     ]
    },
    {
     "name": "stdout",
     "output_type": "stream",
     "text": [
      "Reward mean: 9.51, std: 0.92\n",
      "Num steps mean: 9.51, std: 0.92\n"
     ]
    },
    {
     "name": "stderr",
     "output_type": "stream",
     "text": [
      "100%|██████████████████████████████████████████████████████████████████| 1000/1000 [00:02<00:00, 432.53it/s]\n",
      "\u001b[32m[I 2022-03-02 10:32:22,904]\u001b[0m Trial 39 finished with value: 9.339 and parameters: {'learning_rate': 0.0014607561590377308, 'discount_factor': 0.95, 'batch_size': 128, 'memory_size': 100000, 'freq_steps_train': 8, 'freq_steps_update_target': 10, 'n_steps_warm_up_memory': 5000, 'n_gradient_steps': 4, 'nn_hidden_layers': [256, 256], 'max_grad_norm': 1, 'normalize_state': False, 'epsilon_start': 0.9, 'epsilon_end': 0.11559037360813038, 'steps_epsilon_decay': 1000, 'seed': 11463593}. Best is trial 14 with value: 500.0.\u001b[0m\n",
      "/Users/paulabartabajo/src/online-courses/hands-on-rl/03_cart_pole/.venv/lib/python3.7/site-packages/optuna/distributions.py:427: UserWarning: Choices for a categorical distribution should be a tuple of None, bool, int, float and str for persistent storage but contains [256, 256] which is of type list.\n",
      "  warnings.warn(message)\n"
     ]
    },
    {
     "name": "stdout",
     "output_type": "stream",
     "text": [
      "67,586 parameters\n"
     ]
    },
    {
     "name": "stderr",
     "output_type": "stream",
     "text": [
      " 90%|█████████████████████████████████████████████████████████████▏      | 180/200 [00:00<00:00, 319.94it/s]\n",
      "  0%|                                                                               | 0/100 [00:00<?, ?it/s]\u001b[A\n",
      " 50%|██████████████████████████████████▌                                  | 50/100 [00:00<00:00, 492.98it/s]\u001b[A\n",
      "100%|████████████████████████████████████████████████████████████████████| 100/100 [00:00<00:00, 463.14it/s]\u001b[A\n",
      "100%|████████████████████████████████████████████████████████████████████| 200/200 [00:00<00:00, 236.93it/s]\n"
     ]
    },
    {
     "name": "stdout",
     "output_type": "stream",
     "text": [
      "Reward mean: 9.41, std: 0.84\n",
      "Num steps mean: 9.41, std: 0.84\n"
     ]
    },
    {
     "name": "stderr",
     "output_type": "stream",
     "text": [
      "100%|██████████████████████████████████████████████████████████████████| 1000/1000 [00:02<00:00, 455.39it/s]\n",
      "\u001b[32m[I 2022-03-02 10:32:26,257]\u001b[0m Trial 40 finished with value: 9.374 and parameters: {'learning_rate': 0.0003141259548816809, 'discount_factor': 0.99, 'batch_size': 16, 'memory_size': 50000, 'freq_steps_train': 256, 'freq_steps_update_target': 100, 'n_steps_warm_up_memory': 1000, 'n_gradient_steps': 1, 'nn_hidden_layers': [256, 256], 'max_grad_norm': 1, 'normalize_state': False, 'epsilon_start': 0.9, 'epsilon_end': 0.07117225988736031, 'steps_epsilon_decay': 100000, 'seed': 931196248}. Best is trial 14 with value: 500.0.\u001b[0m\n",
      "/Users/paulabartabajo/src/online-courses/hands-on-rl/03_cart_pole/.venv/lib/python3.7/site-packages/optuna/distributions.py:427: UserWarning: Choices for a categorical distribution should be a tuple of None, bool, int, float and str for persistent storage but contains [256, 256] which is of type list.\n",
      "  warnings.warn(message)\n"
     ]
    },
    {
     "name": "stdout",
     "output_type": "stream",
     "text": [
      "67,586 parameters\n"
     ]
    },
    {
     "name": "stderr",
     "output_type": "stream",
     "text": [
      "100%|████████████████████████████████████████████████████████████████████▋| 199/200 [01:00<00:01,  1.12s/it]\n",
      "  0%|                                                                               | 0/100 [00:00<?, ?it/s]\u001b[A\n",
      "  2%|█▍                                                                     | 2/100 [00:00<00:06, 14.74it/s]\u001b[A\n",
      "  4%|██▊                                                                    | 4/100 [00:00<00:06, 15.05it/s]\u001b[A\n",
      "  6%|████▎                                                                  | 6/100 [00:00<00:06, 15.65it/s]\u001b[A\n",
      "  8%|█████▋                                                                 | 8/100 [00:00<00:05, 16.03it/s]\u001b[A\n",
      " 10%|███████                                                               | 10/100 [00:00<00:05, 16.36it/s]\u001b[A\n",
      " 12%|████████▍                                                             | 12/100 [00:00<00:05, 17.31it/s]\u001b[A\n",
      " 15%|██████████▌                                                           | 15/100 [00:00<00:04, 18.57it/s]\u001b[A\n",
      " 17%|███████████▉                                                          | 17/100 [00:00<00:04, 18.73it/s]\u001b[A\n",
      " 19%|█████████████▎                                                        | 19/100 [00:01<00:04, 18.76it/s]\u001b[A\n",
      " 21%|██████████████▋                                                       | 21/100 [00:01<00:04, 18.64it/s]\u001b[A\n",
      " 23%|████████████████                                                      | 23/100 [00:01<00:04, 18.60it/s]\u001b[A\n",
      " 25%|█████████████████▌                                                    | 25/100 [00:01<00:04, 18.33it/s]\u001b[A\n",
      " 27%|██████████████████▉                                                   | 27/100 [00:01<00:04, 18.14it/s]\u001b[A\n",
      " 29%|████████████████████▎                                                 | 29/100 [00:01<00:03, 18.57it/s]\u001b[A\n",
      " 31%|█████████████████████▋                                                | 31/100 [00:01<00:03, 18.24it/s]\u001b[A\n",
      " 33%|███████████████████████                                               | 33/100 [00:01<00:03, 18.53it/s]\u001b[A\n",
      " 36%|█████████████████████████▏                                            | 36/100 [00:01<00:03, 19.31it/s]\u001b[A\n",
      " 38%|██████████████████████████▌                                           | 38/100 [00:02<00:03, 19.40it/s]\u001b[A\n",
      " 41%|████████████████████████████▋                                         | 41/100 [00:02<00:03, 19.50it/s]\u001b[A\n",
      " 43%|██████████████████████████████                                        | 43/100 [00:02<00:02, 19.31it/s]\u001b[A\n",
      " 45%|███████████████████████████████▌                                      | 45/100 [00:02<00:02, 19.15it/s]\u001b[A\n",
      " 47%|████████████████████████████████▉                                     | 47/100 [00:02<00:02, 19.07it/s]\u001b[A\n",
      " 50%|███████████████████████████████████                                   | 50/100 [00:02<00:02, 19.25it/s]\u001b[A\n",
      " 52%|████████████████████████████████████▍                                 | 52/100 [00:02<00:02, 18.64it/s]\u001b[A\n",
      " 54%|█████████████████████████████████████▊                                | 54/100 [00:02<00:02, 18.37it/s]\u001b[A\n",
      " 57%|███████████████████████████████████████▉                              | 57/100 [00:03<00:02, 19.28it/s]\u001b[A\n",
      " 60%|██████████████████████████████████████████                            | 60/100 [00:03<00:01, 20.18it/s]\u001b[A\n",
      " 63%|████████████████████████████████████████████                          | 63/100 [00:03<00:01, 19.84it/s]\u001b[A\n",
      " 65%|█████████████████████████████████████████████▌                        | 65/100 [00:03<00:01, 19.48it/s]\u001b[A\n",
      " 67%|██████████████████████████████████████████████▉                       | 67/100 [00:03<00:01, 19.57it/s]\u001b[A\n",
      " 69%|████████████████████████████████████████████████▎                     | 69/100 [00:03<00:01, 18.99it/s]\u001b[A\n",
      " 71%|█████████████████████████████████████████████████▋                    | 71/100 [00:03<00:01, 19.20it/s]\u001b[A\n",
      " 74%|███████████████████████████████████████████████████▊                  | 74/100 [00:03<00:01, 19.91it/s]\u001b[A\n",
      " 76%|█████████████████████████████████████████████████████▏                | 76/100 [00:04<00:01, 19.59it/s]\u001b[A\n",
      " 78%|██████████████████████████████████████████████████████▌               | 78/100 [00:04<00:01, 18.99it/s]\u001b[A\n",
      " 80%|████████████████████████████████████████████████████████              | 80/100 [00:04<00:01, 19.16it/s]\u001b[A\n",
      " 82%|█████████████████████████████████████████████████████████▍            | 82/100 [00:04<00:01, 17.49it/s]\u001b[A\n",
      " 84%|██████████████████████████████████████████████████████████▊           | 84/100 [00:04<00:00, 17.98it/s]\u001b[A\n",
      " 86%|████████████████████████████████████████████████████████████▏         | 86/100 [00:04<00:00, 16.97it/s]\u001b[A\n",
      " 89%|██████████████████████████████████████████████████████████████▎       | 89/100 [00:04<00:00, 18.52it/s]\u001b[A\n",
      " 91%|███████████████████████████████████████████████████████████████▋      | 91/100 [00:04<00:00, 18.28it/s]\u001b[A\n",
      " 93%|█████████████████████████████████████████████████████████████████     | 93/100 [00:05<00:00, 17.87it/s]\u001b[A\n",
      " 95%|██████████████████████████████████████████████████████████████████▌   | 95/100 [00:05<00:00, 16.71it/s]\u001b[A\n",
      " 97%|███████████████████████████████████████████████████████████████████▉  | 97/100 [00:05<00:00, 16.26it/s]\u001b[A\n",
      "100%|█████████████████████████████████████████████████████████████████████| 100/100 [00:05<00:00, 18.23it/s]\u001b[A\n",
      "100%|█████████████████████████████████████████████████████████████████████| 200/200 [01:07<00:00,  2.98it/s]\n"
     ]
    },
    {
     "name": "stdout",
     "output_type": "stream",
     "text": [
      "Reward mean: 245.06, std: 27.66\n",
      "Num steps mean: 245.06, std: 27.66\n"
     ]
    },
    {
     "name": "stderr",
     "output_type": "stream",
     "text": [
      "100%|███████████████████████████████████████████████████████████████████| 1000/1000 [00:53<00:00, 18.54it/s]\n",
      "\u001b[32m[I 2022-03-02 10:34:28,147]\u001b[0m Trial 41 finished with value: 247.143 and parameters: {'learning_rate': 0.0001319375969688443, 'discount_factor': 0.99, 'batch_size': 128, 'memory_size': 50000, 'freq_steps_train': 8, 'freq_steps_update_target': 10, 'n_steps_warm_up_memory': 1000, 'n_gradient_steps': 4, 'nn_hidden_layers': [256, 256], 'max_grad_norm': 1, 'normalize_state': True, 'epsilon_start': 0.9, 'epsilon_end': 0.01064073422807613, 'steps_epsilon_decay': 10000, 'seed': 890506819}. Best is trial 14 with value: 500.0.\u001b[0m\n",
      "/Users/paulabartabajo/src/online-courses/hands-on-rl/03_cart_pole/.venv/lib/python3.7/site-packages/optuna/distributions.py:427: UserWarning: Choices for a categorical distribution should be a tuple of None, bool, int, float and str for persistent storage but contains [256, 256] which is of type list.\n",
      "  warnings.warn(message)\n"
     ]
    },
    {
     "name": "stdout",
     "output_type": "stream",
     "text": [
      "67,586 parameters\n"
     ]
    },
    {
     "name": "stderr",
     "output_type": "stream",
     "text": [
      "100%|████████████████████████████████████████████████████████████████████▋| 199/200 [00:52<00:02,  2.48s/it]\n",
      "  0%|                                                                               | 0/100 [00:00<?, ?it/s]\u001b[A\n",
      "  1%|▋                                                                      | 1/100 [00:00<00:10,  9.06it/s]\u001b[A\n",
      "  2%|█▍                                                                     | 2/100 [00:00<00:11,  8.67it/s]\u001b[A\n",
      "  3%|██▏                                                                    | 3/100 [00:00<00:11,  8.61it/s]\u001b[A\n",
      "  4%|██▊                                                                    | 4/100 [00:00<00:10,  8.85it/s]\u001b[A\n",
      "  5%|███▌                                                                   | 5/100 [00:00<00:11,  8.52it/s]\u001b[A\n",
      "  6%|████▎                                                                  | 6/100 [00:00<00:10,  8.81it/s]\u001b[A\n",
      "  7%|████▉                                                                  | 7/100 [00:00<00:10,  8.81it/s]\u001b[A\n",
      "  8%|█████▋                                                                 | 8/100 [00:00<00:10,  8.58it/s]\u001b[A\n",
      "  9%|██████▍                                                                | 9/100 [00:01<00:11,  8.22it/s]\u001b[A\n",
      " 10%|███████                                                               | 10/100 [00:01<00:10,  8.34it/s]\u001b[A\n",
      " 11%|███████▋                                                              | 11/100 [00:01<00:11,  7.52it/s]\u001b[A\n",
      " 12%|████████▍                                                             | 12/100 [00:01<00:10,  8.02it/s]\u001b[A\n",
      " 13%|█████████                                                             | 13/100 [00:01<00:11,  7.45it/s]\u001b[A\n",
      " 14%|█████████▊                                                            | 14/100 [00:01<00:13,  6.20it/s]\u001b[A\n",
      " 15%|██████████▌                                                           | 15/100 [00:02<00:18,  4.65it/s]\u001b[A\n",
      " 16%|███████████▏                                                          | 16/100 [00:02<00:17,  4.88it/s]\u001b[A\n",
      " 17%|███████████▉                                                          | 17/100 [00:02<00:16,  5.11it/s]\u001b[A\n",
      " 18%|████████████▌                                                         | 18/100 [00:02<00:16,  4.83it/s]\u001b[A\n",
      " 19%|█████████████▎                                                        | 19/100 [00:02<00:16,  4.92it/s]\u001b[A\n",
      " 20%|██████████████                                                        | 20/100 [00:03<00:14,  5.41it/s]\u001b[A\n",
      " 21%|██████████████▋                                                       | 21/100 [00:03<00:13,  5.67it/s]\u001b[A\n",
      " 22%|███████████████▍                                                      | 22/100 [00:03<00:13,  5.75it/s]\u001b[A\n",
      " 23%|████████████████                                                      | 23/100 [00:03<00:13,  5.78it/s]\u001b[A\n",
      " 24%|████████████████▊                                                     | 24/100 [00:03<00:13,  5.79it/s]\u001b[A\n",
      " 25%|█████████████████▌                                                    | 25/100 [00:03<00:13,  5.73it/s]\u001b[A\n",
      " 26%|██████████████████▏                                                   | 26/100 [00:04<00:13,  5.38it/s]\u001b[A\n",
      " 27%|██████████████████▉                                                   | 27/100 [00:04<00:13,  5.47it/s]\u001b[A\n",
      " 28%|███████████████████▌                                                  | 28/100 [00:04<00:13,  5.43it/s]\u001b[A\n",
      " 29%|████████████████████▎                                                 | 29/100 [00:04<00:12,  5.53it/s]\u001b[A\n",
      " 30%|█████████████████████                                                 | 30/100 [00:04<00:13,  5.36it/s]\u001b[A\n",
      " 31%|█████████████████████▋                                                | 31/100 [00:05<00:12,  5.58it/s]\u001b[A\n",
      " 32%|██████████████████████▍                                               | 32/100 [00:05<00:12,  5.38it/s]\u001b[A\n",
      " 33%|███████████████████████                                               | 33/100 [00:05<00:13,  5.09it/s]\u001b[A\n",
      " 34%|███████████████████████▊                                              | 34/100 [00:05<00:12,  5.11it/s]\u001b[A\n",
      " 35%|████████████████████████▌                                             | 35/100 [00:05<00:11,  5.45it/s]\u001b[A\n",
      " 36%|█████████████████████████▏                                            | 36/100 [00:05<00:11,  5.76it/s]\u001b[A\n",
      " 37%|█████████████████████████▉                                            | 37/100 [00:06<00:10,  5.75it/s]\u001b[A\n",
      " 38%|██████████████████████████▌                                           | 38/100 [00:06<00:10,  5.68it/s]\u001b[A\n",
      " 39%|███████████████████████████▎                                          | 39/100 [00:06<00:10,  5.65it/s]\u001b[A\n",
      " 40%|████████████████████████████                                          | 40/100 [00:06<00:10,  5.78it/s]\u001b[A\n",
      " 41%|████████████████████████████▋                                         | 41/100 [00:06<00:09,  6.20it/s]\u001b[A\n",
      " 42%|█████████████████████████████▍                                        | 42/100 [00:06<00:09,  6.24it/s]\u001b[A\n",
      " 43%|██████████████████████████████                                        | 43/100 [00:07<00:08,  6.43it/s]\u001b[A\n",
      " 44%|██████████████████████████████▊                                       | 44/100 [00:07<00:08,  6.81it/s]\u001b[A\n",
      " 45%|███████████████████████████████▌                                      | 45/100 [00:07<00:08,  6.66it/s]\u001b[A\n",
      " 46%|████████████████████████████████▏                                     | 46/100 [00:07<00:08,  6.69it/s]\u001b[A\n",
      " 47%|████████████████████████████████▉                                     | 47/100 [00:07<00:07,  6.67it/s]\u001b[A\n",
      " 48%|█████████████████████████████████▌                                    | 48/100 [00:07<00:08,  6.49it/s]\u001b[A\n",
      " 49%|██████████████████████████████████▎                                   | 49/100 [00:08<00:08,  6.36it/s]\u001b[A\n",
      " 50%|███████████████████████████████████                                   | 50/100 [00:08<00:07,  6.48it/s]\u001b[A\n",
      " 51%|███████████████████████████████████▋                                  | 51/100 [00:08<00:07,  6.58it/s]\u001b[A\n",
      " 52%|████████████████████████████████████▍                                 | 52/100 [00:08<00:06,  6.86it/s]\u001b[A\n",
      " 53%|█████████████████████████████████████                                 | 53/100 [00:08<00:07,  6.62it/s]\u001b[A\n",
      " 54%|█████████████████████████████████████▊                                | 54/100 [00:08<00:06,  6.83it/s]\u001b[A\n",
      " 55%|██████████████████████████████████████▌                               | 55/100 [00:08<00:06,  7.17it/s]\u001b[A\n",
      " 56%|███████████████████████████████████████▏                              | 56/100 [00:08<00:06,  7.26it/s]\u001b[A\n",
      " 57%|███████████████████████████████████████▉                              | 57/100 [00:09<00:05,  7.42it/s]\u001b[A\n",
      " 58%|████████████████████████████████████████▌                             | 58/100 [00:09<00:05,  7.89it/s]\u001b[A\n",
      " 59%|█████████████████████████████████████████▎                            | 59/100 [00:09<00:05,  7.64it/s]\u001b[A\n",
      " 60%|██████████████████████████████████████████                            | 60/100 [00:09<00:05,  7.74it/s]\u001b[A\n",
      " 61%|██████████████████████████████████████████▋                           | 61/100 [00:09<00:04,  7.89it/s]\u001b[A\n",
      " 62%|███████████████████████████████████████████▍                          | 62/100 [00:09<00:04,  7.78it/s]\u001b[A\n",
      " 63%|████████████████████████████████████████████                          | 63/100 [00:09<00:04,  7.41it/s]\u001b[A\n",
      " 64%|████████████████████████████████████████████▊                         | 64/100 [00:10<00:04,  7.42it/s]\u001b[A\n",
      " 65%|█████████████████████████████████████████████▌                        | 65/100 [00:10<00:04,  7.62it/s]\u001b[A\n",
      " 66%|██████████████████████████████████████████████▏                       | 66/100 [00:10<00:04,  7.68it/s]\u001b[A\n",
      " 67%|██████████████████████████████████████████████▉                       | 67/100 [00:10<00:04,  7.53it/s]\u001b[A\n",
      " 68%|███████████████████████████████████████████████▌                      | 68/100 [00:10<00:04,  7.81it/s]\u001b[A\n",
      " 69%|████████████████████████████████████████████████▎                     | 69/100 [00:10<00:03,  7.81it/s]\u001b[A\n",
      " 70%|█████████████████████████████████████████████████                     | 70/100 [00:10<00:03,  7.85it/s]\u001b[A\n",
      " 71%|█████████████████████████████████████████████████▋                    | 71/100 [00:10<00:03,  7.86it/s]\u001b[A\n",
      " 72%|██████████████████████████████████████████████████▍                   | 72/100 [00:11<00:03,  8.18it/s]\u001b[A\n",
      " 73%|███████████████████████████████████████████████████                   | 73/100 [00:11<00:03,  8.21it/s]\u001b[A\n",
      " 74%|███████████████████████████████████████████████████▊                  | 74/100 [00:11<00:03,  8.25it/s]\u001b[A\n",
      " 75%|████████████████████████████████████████████████████▌                 | 75/100 [00:11<00:03,  8.10it/s]\u001b[A\n",
      " 76%|█████████████████████████████████████████████████████▏                | 76/100 [00:11<00:02,  8.45it/s]\u001b[A\n",
      " 77%|█████████████████████████████████████████████████████▉                | 77/100 [00:11<00:02,  8.06it/s]\u001b[A\n",
      " 78%|██████████████████████████████████████████████████████▌               | 78/100 [00:11<00:02,  7.78it/s]\u001b[A\n",
      " 79%|███████████████████████████████████████████████████████▎              | 79/100 [00:11<00:02,  7.77it/s]\u001b[A\n",
      " 80%|████████████████████████████████████████████████████████              | 80/100 [00:12<00:03,  5.75it/s]\u001b[A\n",
      " 81%|████████████████████████████████████████████████████████▋             | 81/100 [00:12<00:03,  5.93it/s]\u001b[A\n",
      " 82%|█████████████████████████████████████████████████████████▍            | 82/100 [00:12<00:02,  6.40it/s]\u001b[A\n",
      " 83%|██████████████████████████████████████████████████████████            | 83/100 [00:12<00:02,  6.73it/s]\u001b[A\n",
      " 84%|██████████████████████████████████████████████████████████▊           | 84/100 [00:12<00:02,  6.99it/s]\u001b[A\n",
      " 85%|███████████████████████████████████████████████████████████▌          | 85/100 [00:12<00:02,  7.36it/s]\u001b[A\n",
      " 86%|████████████████████████████████████████████████████████████▏         | 86/100 [00:12<00:01,  7.64it/s]\u001b[A\n",
      " 87%|████████████████████████████████████████████████████████████▉         | 87/100 [00:13<00:01,  7.80it/s]\u001b[A\n",
      " 89%|██████████████████████████████████████████████████████████████▎       | 89/100 [00:13<00:01,  8.79it/s]\u001b[A\n",
      " 90%|███████████████████████████████████████████████████████████████       | 90/100 [00:13<00:01,  8.77it/s]\u001b[A\n",
      " 92%|████████████████████████████████████████████████████████████████▍     | 92/100 [00:13<00:00,  9.21it/s]\u001b[A\n",
      " 93%|█████████████████████████████████████████████████████████████████     | 93/100 [00:13<00:00,  9.12it/s]\u001b[A\n",
      " 94%|█████████████████████████████████████████████████████████████████▊    | 94/100 [00:13<00:00,  8.92it/s]\u001b[A\n",
      " 96%|███████████████████████████████████████████████████████████████████▏  | 96/100 [00:14<00:00,  9.29it/s]\u001b[A\n",
      " 97%|███████████████████████████████████████████████████████████████████▉  | 97/100 [00:14<00:00,  9.15it/s]\u001b[A\n",
      " 98%|████████████████████████████████████████████████████████████████████▌ | 98/100 [00:14<00:00,  8.97it/s]\u001b[A\n",
      " 99%|█████████████████████████████████████████████████████████████████████▎| 99/100 [00:14<00:00,  9.07it/s]\u001b[A\n",
      "100%|█████████████████████████████████████████████████████████████████████| 100/100 [00:14<00:00,  6.90it/s]\u001b[A\n",
      "100%|█████████████████████████████████████████████████████████████████████| 200/200 [01:08<00:00,  2.90it/s]\n"
     ]
    },
    {
     "name": "stdout",
     "output_type": "stream",
     "text": [
      "Reward mean: 480.68, std: 31.39\n",
      "Num steps mean: 480.68, std: 31.39\n"
     ]
    },
    {
     "name": "stderr",
     "output_type": "stream",
     "text": [
      "100%|███████████████████████████████████████████████████████████████████| 1000/1000 [03:00<00:00,  5.53it/s]\n",
      "\u001b[32m[I 2022-03-02 10:38:38,736]\u001b[0m Trial 42 finished with value: 482.164 and parameters: {'learning_rate': 0.00011489306610426707, 'discount_factor': 0.99, 'batch_size': 128, 'memory_size': 50000, 'freq_steps_train': 8, 'freq_steps_update_target': 10, 'n_steps_warm_up_memory': 1000, 'n_gradient_steps': 4, 'nn_hidden_layers': [256, 256], 'max_grad_norm': 1, 'normalize_state': True, 'epsilon_start': 0.9, 'epsilon_end': 0.020593338183693584, 'steps_epsilon_decay': 10000, 'seed': 810692493}. Best is trial 14 with value: 500.0.\u001b[0m\n",
      "/Users/paulabartabajo/src/online-courses/hands-on-rl/03_cart_pole/.venv/lib/python3.7/site-packages/optuna/distributions.py:427: UserWarning: Choices for a categorical distribution should be a tuple of None, bool, int, float and str for persistent storage but contains [256, 256] which is of type list.\n",
      "  warnings.warn(message)\n"
     ]
    },
    {
     "name": "stdout",
     "output_type": "stream",
     "text": [
      "67,586 parameters\n"
     ]
    },
    {
     "name": "stderr",
     "output_type": "stream",
     "text": [
      "100%|████████████████████████████████████████████████████████████████████▋| 199/200 [00:29<00:00,  1.35it/s]\n",
      "  0%|                                                                               | 0/100 [00:00<?, ?it/s]\u001b[A\n",
      "  2%|█▍                                                                     | 2/100 [00:00<00:07, 13.18it/s]\u001b[A\n",
      "  4%|██▊                                                                    | 4/100 [00:00<00:09,  9.96it/s]\u001b[A\n",
      "  6%|████▎                                                                  | 6/100 [00:00<00:13,  7.21it/s]\u001b[A\n",
      "  7%|████▉                                                                  | 7/100 [00:00<00:13,  6.86it/s]\u001b[A\n",
      "  8%|█████▋                                                                 | 8/100 [00:01<00:16,  5.54it/s]\u001b[A\n",
      "  9%|██████▍                                                                | 9/100 [00:01<00:14,  6.14it/s]\u001b[A\n",
      " 10%|███████                                                               | 10/100 [00:01<00:18,  4.93it/s]\u001b[A\n",
      " 12%|████████▍                                                             | 12/100 [00:01<00:12,  6.92it/s]\u001b[A\n",
      " 13%|█████████                                                             | 13/100 [00:01<00:12,  6.96it/s]\u001b[A\n",
      " 14%|█████████▊                                                            | 14/100 [00:02<00:13,  6.55it/s]\u001b[A\n",
      " 16%|███████████▏                                                          | 16/100 [00:02<00:11,  7.54it/s]\u001b[A\n",
      " 17%|███████████▉                                                          | 17/100 [00:02<00:12,  6.65it/s]\u001b[A\n",
      " 19%|█████████████▎                                                        | 19/100 [00:02<00:10,  8.01it/s]\u001b[A\n",
      " 21%|██████████████▋                                                       | 21/100 [00:02<00:08,  9.35it/s]\u001b[A\n",
      " 23%|████████████████                                                      | 23/100 [00:03<00:07,  9.73it/s]\u001b[A\n",
      " 25%|█████████████████▌                                                    | 25/100 [00:03<00:07, 10.51it/s]\u001b[A\n",
      " 27%|██████████████████▉                                                   | 27/100 [00:03<00:09,  8.10it/s]\u001b[A\n",
      " 29%|████████████████████▎                                                 | 29/100 [00:03<00:07,  9.20it/s]\u001b[A\n",
      " 31%|█████████████████████▋                                                | 31/100 [00:03<00:06, 10.17it/s]\u001b[A\n",
      " 33%|███████████████████████                                               | 33/100 [00:04<00:06, 10.62it/s]\u001b[A\n",
      " 35%|████████████████████████▌                                             | 35/100 [00:04<00:08,  7.85it/s]\u001b[A\n",
      " 36%|█████████████████████████▏                                            | 36/100 [00:04<00:07,  8.10it/s]\u001b[A\n",
      " 37%|█████████████████████████▉                                            | 37/100 [00:04<00:09,  6.40it/s]\u001b[A\n",
      " 38%|██████████████████████████▌                                           | 38/100 [00:04<00:09,  6.55it/s]\u001b[A\n",
      " 39%|███████████████████████████▎                                          | 39/100 [00:05<00:13,  4.51it/s]\u001b[A\n",
      " 40%|████████████████████████████                                          | 40/100 [00:05<00:12,  4.77it/s]\u001b[A\n",
      " 41%|████████████████████████████▋                                         | 41/100 [00:05<00:10,  5.52it/s]\u001b[A\n",
      " 42%|█████████████████████████████▍                                        | 42/100 [00:05<00:09,  5.93it/s]\u001b[A\n",
      " 43%|██████████████████████████████                                        | 43/100 [00:06<00:17,  3.24it/s]\u001b[A\n",
      " 44%|██████████████████████████████▊                                       | 44/100 [00:06<00:14,  3.93it/s]\u001b[A\n",
      " 45%|███████████████████████████████▌                                      | 45/100 [00:06<00:11,  4.61it/s]\u001b[A\n",
      " 46%|████████████████████████████████▏                                     | 46/100 [00:06<00:10,  5.31it/s]\u001b[A\n",
      " 47%|████████████████████████████████▉                                     | 47/100 [00:07<00:09,  5.37it/s]\u001b[A\n",
      " 49%|██████████████████████████████████▎                                   | 49/100 [00:07<00:07,  6.50it/s]\u001b[A\n",
      " 51%|███████████████████████████████████▋                                  | 51/100 [00:07<00:05,  8.64it/s]\u001b[A\n",
      " 53%|█████████████████████████████████████                                 | 53/100 [00:07<00:05,  9.26it/s]\u001b[A\n",
      " 55%|██████████████████████████████████████▌                               | 55/100 [00:07<00:03, 11.27it/s]\u001b[A\n",
      " 57%|███████████████████████████████████████▉                              | 57/100 [00:07<00:03, 11.21it/s]\u001b[A\n",
      " 59%|█████████████████████████████████████████▎                            | 59/100 [00:08<00:04,  9.66it/s]\u001b[A\n",
      " 61%|██████████████████████████████████████████▋                           | 61/100 [00:08<00:04,  9.04it/s]\u001b[A\n",
      " 63%|████████████████████████████████████████████                          | 63/100 [00:08<00:03,  9.88it/s]\u001b[A\n",
      " 65%|█████████████████████████████████████████████▌                        | 65/100 [00:08<00:03, 10.16it/s]\u001b[A\n",
      " 67%|██████████████████████████████████████████████▉                       | 67/100 [00:08<00:03,  9.80it/s]\u001b[A\n",
      " 69%|████████████████████████████████████████████████▎                     | 69/100 [00:09<00:02, 11.38it/s]\u001b[A\n",
      " 71%|█████████████████████████████████████████████████▋                    | 71/100 [00:09<00:02, 11.10it/s]\u001b[A\n",
      " 73%|███████████████████████████████████████████████████                   | 73/100 [00:09<00:02,  9.78it/s]\u001b[A\n",
      " 75%|████████████████████████████████████████████████████▌                 | 75/100 [00:09<00:02,  9.36it/s]\u001b[A\n",
      " 77%|█████████████████████████████████████████████████████▉                | 77/100 [00:09<00:02,  9.70it/s]\u001b[A\n",
      " 79%|███████████████████████████████████████████████████████▎              | 79/100 [00:10<00:01, 11.23it/s]\u001b[A\n",
      " 81%|████████████████████████████████████████████████████████▋             | 81/100 [00:10<00:01, 10.11it/s]\u001b[A\n",
      " 83%|██████████████████████████████████████████████████████████            | 83/100 [00:10<00:01,  9.72it/s]\u001b[A\n",
      " 85%|███████████████████████████████████████████████████████████▌          | 85/100 [00:10<00:01,  9.92it/s]\u001b[A\n",
      " 87%|████████████████████████████████████████████████████████████▉         | 87/100 [00:10<00:01,  8.76it/s]\u001b[A\n",
      " 89%|██████████████████████████████████████████████████████████████▎       | 89/100 [00:11<00:01, 10.06it/s]\u001b[A\n",
      " 91%|███████████████████████████████████████████████████████████████▋      | 91/100 [00:11<00:00, 11.04it/s]\u001b[A\n",
      " 94%|█████████████████████████████████████████████████████████████████▊    | 94/100 [00:11<00:00, 12.67it/s]\u001b[A\n",
      " 97%|███████████████████████████████████████████████████████████████████▉  | 97/100 [00:11<00:00, 15.17it/s]\u001b[A\n",
      "100%|█████████████████████████████████████████████████████████████████████| 100/100 [00:11<00:00,  8.51it/s]\u001b[A\n",
      "100%|█████████████████████████████████████████████████████████████████████| 200/200 [00:42<00:00,  4.75it/s]\n"
     ]
    },
    {
     "name": "stdout",
     "output_type": "stream",
     "text": [
      "Reward mean: 236.24, std: 112.26\n",
      "Num steps mean: 236.24, std: 112.26\n"
     ]
    },
    {
     "name": "stderr",
     "output_type": "stream",
     "text": [
      "100%|███████████████████████████████████████████████████████████████████| 1000/1000 [01:13<00:00, 13.68it/s]\n",
      "\u001b[32m[I 2022-03-02 10:40:34,941]\u001b[0m Trial 43 finished with value: 252.098 and parameters: {'learning_rate': 7.049781912886317e-05, 'discount_factor': 0.99, 'batch_size': 128, 'memory_size': 50000, 'freq_steps_train': 8, 'freq_steps_update_target': 10, 'n_steps_warm_up_memory': 1000, 'n_gradient_steps': 4, 'nn_hidden_layers': [256, 256], 'max_grad_norm': 1, 'normalize_state': True, 'epsilon_start': 0.9, 'epsilon_end': 0.01979656348960822, 'steps_epsilon_decay': 10000, 'seed': 810884825}. Best is trial 14 with value: 500.0.\u001b[0m\n",
      "/Users/paulabartabajo/src/online-courses/hands-on-rl/03_cart_pole/.venv/lib/python3.7/site-packages/optuna/distributions.py:427: UserWarning: Choices for a categorical distribution should be a tuple of None, bool, int, float and str for persistent storage but contains [256, 256] which is of type list.\n",
      "  warnings.warn(message)\n"
     ]
    },
    {
     "name": "stdout",
     "output_type": "stream",
     "text": [
      "67,586 parameters\n"
     ]
    },
    {
     "name": "stderr",
     "output_type": "stream",
     "text": [
      " 99%|████████████████████████████████████████████████████████████████████▎| 198/200 [00:15<00:00, 15.48it/s]\n",
      "  0%|                                                                               | 0/100 [00:00<?, ?it/s]\u001b[A\n",
      " 47%|████████████████████████████████▍                                    | 47/100 [00:00<00:00, 467.89it/s]\u001b[A\n",
      "100%|████████████████████████████████████████████████████████████████████| 100/100 [00:00<00:00, 461.41it/s]\u001b[A\n",
      "100%|█████████████████████████████████████████████████████████████████████| 200/200 [00:15<00:00, 12.68it/s]\n"
     ]
    },
    {
     "name": "stdout",
     "output_type": "stream",
     "text": [
      "Reward mean: 9.51, std: 0.92\n",
      "Num steps mean: 9.51, std: 0.92\n"
     ]
    },
    {
     "name": "stderr",
     "output_type": "stream",
     "text": [
      "100%|██████████████████████████████████████████████████████████████████| 1000/1000 [00:01<00:00, 503.93it/s]\n",
      "\u001b[32m[I 2022-03-02 10:40:53,192]\u001b[0m Trial 44 finished with value: 9.339 and parameters: {'learning_rate': 2.39468698222562e-05, 'discount_factor': 0.99, 'batch_size': 128, 'memory_size': 50000, 'freq_steps_train': 8, 'freq_steps_update_target': 10, 'n_steps_warm_up_memory': 1000, 'n_gradient_steps': 4, 'nn_hidden_layers': [256, 256], 'max_grad_norm': 1, 'normalize_state': True, 'epsilon_start': 0.9, 'epsilon_end': 0.15563418660796358, 'steps_epsilon_decay': 10000, 'seed': 661872794}. Best is trial 14 with value: 500.0.\u001b[0m\n",
      "/Users/paulabartabajo/src/online-courses/hands-on-rl/03_cart_pole/.venv/lib/python3.7/site-packages/optuna/distributions.py:427: UserWarning: Choices for a categorical distribution should be a tuple of None, bool, int, float and str for persistent storage but contains [256, 256] which is of type list.\n",
      "  warnings.warn(message)\n"
     ]
    },
    {
     "name": "stdout",
     "output_type": "stream",
     "text": [
      "67,586 parameters\n"
     ]
    },
    {
     "name": "stderr",
     "output_type": "stream",
     "text": [
      "100%|████████████████████████████████████████████████████████████████████▋| 199/200 [00:06<00:00,  7.63it/s]\n",
      "  0%|                                                                               | 0/100 [00:00<?, ?it/s]\u001b[A\n",
      "  2%|█▍                                                                     | 2/100 [00:00<00:09, 10.73it/s]\u001b[A\n",
      "  4%|██▊                                                                    | 4/100 [00:00<00:07, 12.41it/s]\u001b[A\n",
      "  6%|████▎                                                                  | 6/100 [00:00<00:08, 11.54it/s]\u001b[A\n",
      "  8%|█████▋                                                                 | 8/100 [00:00<00:08, 11.49it/s]\u001b[A\n",
      " 10%|███████                                                               | 10/100 [00:00<00:08, 11.19it/s]\u001b[A\n",
      " 12%|████████▍                                                             | 12/100 [00:01<00:07, 11.72it/s]\u001b[A\n",
      " 14%|█████████▊                                                            | 14/100 [00:01<00:07, 11.32it/s]\u001b[A\n",
      " 16%|███████████▏                                                          | 16/100 [00:01<00:06, 13.09it/s]\u001b[A\n",
      " 18%|████████████▌                                                         | 18/100 [00:01<00:06, 12.30it/s]\u001b[A\n",
      " 20%|██████████████                                                        | 20/100 [00:01<00:06, 12.21it/s]\u001b[A\n",
      " 22%|███████████████▍                                                      | 22/100 [00:01<00:06, 12.35it/s]\u001b[A\n",
      " 24%|████████████████▊                                                     | 24/100 [00:02<00:06, 11.80it/s]\u001b[A\n",
      " 26%|██████████████████▏                                                   | 26/100 [00:02<00:06, 11.41it/s]\u001b[A\n",
      " 28%|███████████████████▌                                                  | 28/100 [00:02<00:06, 11.55it/s]\u001b[A\n",
      " 30%|█████████████████████                                                 | 30/100 [00:02<00:05, 11.97it/s]\u001b[A\n",
      " 32%|██████████████████████▍                                               | 32/100 [00:02<00:05, 11.53it/s]\u001b[A\n",
      " 34%|███████████████████████▊                                              | 34/100 [00:02<00:05, 11.26it/s]\u001b[A\n",
      " 36%|█████████████████████████▏                                            | 36/100 [00:03<00:06, 10.53it/s]\u001b[A\n",
      " 38%|██████████████████████████▌                                           | 38/100 [00:03<00:05, 10.40it/s]\u001b[A\n",
      " 40%|████████████████████████████                                          | 40/100 [00:03<00:05, 10.42it/s]\u001b[A\n",
      " 42%|█████████████████████████████▍                                        | 42/100 [00:03<00:05, 10.39it/s]\u001b[A\n",
      " 44%|██████████████████████████████▊                                       | 44/100 [00:03<00:05, 10.68it/s]\u001b[A\n",
      " 46%|████████████████████████████████▏                                     | 46/100 [00:04<00:05, 10.56it/s]\u001b[A\n",
      " 48%|█████████████████████████████████▌                                    | 48/100 [00:04<00:04, 10.76it/s]\u001b[A\n",
      " 50%|███████████████████████████████████                                   | 50/100 [00:04<00:05,  9.73it/s]\u001b[A\n",
      " 51%|███████████████████████████████████▋                                  | 51/100 [00:04<00:05,  9.70it/s]\u001b[A\n",
      " 53%|█████████████████████████████████████                                 | 53/100 [00:04<00:04, 10.62it/s]\u001b[A\n",
      " 55%|██████████████████████████████████████▌                               | 55/100 [00:04<00:03, 11.77it/s]\u001b[A\n",
      " 57%|███████████████████████████████████████▉                              | 57/100 [00:05<00:03, 11.02it/s]\u001b[A\n",
      " 59%|█████████████████████████████████████████▎                            | 59/100 [00:05<00:03, 11.68it/s]\u001b[A\n",
      " 61%|██████████████████████████████████████████▋                           | 61/100 [00:05<00:03, 11.18it/s]\u001b[A\n",
      " 63%|████████████████████████████████████████████                          | 63/100 [00:05<00:03, 10.89it/s]\u001b[A\n",
      " 65%|█████████████████████████████████████████████▌                        | 65/100 [00:05<00:03, 11.50it/s]\u001b[A\n",
      " 67%|██████████████████████████████████████████████▉                       | 67/100 [00:05<00:02, 11.08it/s]\u001b[A\n",
      " 69%|████████████████████████████████████████████████▎                     | 69/100 [00:06<00:02, 12.13it/s]\u001b[A\n",
      " 71%|█████████████████████████████████████████████████▋                    | 71/100 [00:06<00:02, 13.55it/s]\u001b[A\n",
      " 73%|███████████████████████████████████████████████████                   | 73/100 [00:06<00:02, 13.28it/s]\u001b[A\n",
      " 75%|████████████████████████████████████████████████████▌                 | 75/100 [00:06<00:01, 12.87it/s]\u001b[A\n",
      " 77%|█████████████████████████████████████████████████████▉                | 77/100 [00:06<00:01, 11.95it/s]\u001b[A\n",
      " 79%|███████████████████████████████████████████████████████▎              | 79/100 [00:06<00:01, 12.10it/s]\u001b[A\n",
      " 81%|████████████████████████████████████████████████████████▋             | 81/100 [00:07<00:01, 11.46it/s]\u001b[A\n",
      " 83%|██████████████████████████████████████████████████████████            | 83/100 [00:07<00:01, 11.15it/s]\u001b[A\n",
      " 85%|███████████████████████████████████████████████████████████▌          | 85/100 [00:07<00:01, 11.59it/s]\u001b[A\n",
      " 87%|████████████████████████████████████████████████████████████▉         | 87/100 [00:07<00:01, 11.29it/s]\u001b[A\n",
      " 89%|██████████████████████████████████████████████████████████████▎       | 89/100 [00:07<00:00, 12.96it/s]\u001b[A\n",
      " 91%|███████████████████████████████████████████████████████████████▋      | 91/100 [00:07<00:00, 13.07it/s]\u001b[A\n",
      " 93%|█████████████████████████████████████████████████████████████████     | 93/100 [00:08<00:00, 12.28it/s]\u001b[A\n",
      " 95%|██████████████████████████████████████████████████████████████████▌   | 95/100 [00:08<00:00, 12.46it/s]\u001b[A\n",
      " 97%|███████████████████████████████████████████████████████████████████▉  | 97/100 [00:08<00:00, 12.72it/s]\u001b[A\n",
      "100%|█████████████████████████████████████████████████████████████████████| 100/100 [00:08<00:00, 11.58it/s]\u001b[A\n",
      "100%|█████████████████████████████████████████████████████████████████████| 200/200 [00:15<00:00, 12.92it/s]\n"
     ]
    },
    {
     "name": "stdout",
     "output_type": "stream",
     "text": [
      "Reward mean: 439.97, std: 93.70\n",
      "Num steps mean: 439.97, std: 93.70\n"
     ]
    },
    {
     "name": "stderr",
     "output_type": "stream",
     "text": [
      "100%|███████████████████████████████████████████████████████████████████| 1000/1000 [01:27<00:00, 11.42it/s]\n",
      "\u001b[32m[I 2022-03-02 10:42:36,789]\u001b[0m Trial 45 finished with value: 445.083 and parameters: {'learning_rate': 0.0002254625392998033, 'discount_factor': 0.95, 'batch_size': 64, 'memory_size': 50000, 'freq_steps_train': 16, 'freq_steps_update_target': 10, 'n_steps_warm_up_memory': 1000, 'n_gradient_steps': 4, 'nn_hidden_layers': [256, 256], 'max_grad_norm': 1, 'normalize_state': True, 'epsilon_start': 0.9, 'epsilon_end': 0.03925432963256639, 'steps_epsilon_decay': 10000, 'seed': 839214081}. Best is trial 14 with value: 500.0.\u001b[0m\n",
      "/Users/paulabartabajo/src/online-courses/hands-on-rl/03_cart_pole/.venv/lib/python3.7/site-packages/optuna/distributions.py:427: UserWarning: Choices for a categorical distribution should be a tuple of None, bool, int, float and str for persistent storage but contains [256, 256] which is of type list.\n",
      "  warnings.warn(message)\n"
     ]
    },
    {
     "name": "stdout",
     "output_type": "stream",
     "text": [
      "67,586 parameters\n"
     ]
    },
    {
     "name": "stderr",
     "output_type": "stream",
     "text": [
      "100%|████████████████████████████████████████████████████████████████████▋| 199/200 [02:19<00:01,  1.02s/it]\n",
      "  0%|                                                                               | 0/100 [00:00<?, ?it/s]\u001b[A\n",
      "  2%|█▍                                                                     | 2/100 [00:00<00:06, 15.40it/s]\u001b[A\n",
      "  4%|██▊                                                                    | 4/100 [00:00<00:06, 15.01it/s]\u001b[A\n",
      "  6%|████▎                                                                  | 6/100 [00:00<00:07, 12.55it/s]\u001b[A\n",
      "  8%|█████▋                                                                 | 8/100 [00:00<00:06, 14.30it/s]\u001b[A\n",
      " 10%|███████                                                               | 10/100 [00:00<00:06, 14.47it/s]\u001b[A\n",
      " 12%|████████▍                                                             | 12/100 [00:00<00:06, 14.48it/s]\u001b[A\n",
      " 14%|█████████▊                                                            | 14/100 [00:01<00:07, 11.99it/s]\u001b[A\n",
      " 16%|███████████▏                                                          | 16/100 [00:01<00:06, 13.51it/s]\u001b[A\n",
      " 18%|████████████▌                                                         | 18/100 [00:01<00:05, 13.75it/s]\u001b[A\n",
      " 21%|██████████████▋                                                       | 21/100 [00:01<00:05, 14.27it/s]\u001b[A\n",
      " 23%|████████████████                                                      | 23/100 [00:01<00:06, 12.67it/s]\u001b[A\n",
      " 25%|█████████████████▌                                                    | 25/100 [00:01<00:05, 12.83it/s]\u001b[A\n",
      " 28%|███████████████████▌                                                  | 28/100 [00:02<00:05, 14.07it/s]\u001b[A\n",
      " 30%|█████████████████████                                                 | 30/100 [00:02<00:05, 13.84it/s]\u001b[A\n",
      " 32%|██████████████████████▍                                               | 32/100 [00:02<00:04, 13.67it/s]\u001b[A\n",
      " 34%|███████████████████████▊                                              | 34/100 [00:02<00:05, 13.05it/s]\u001b[A\n",
      " 36%|█████████████████████████▏                                            | 36/100 [00:02<00:04, 12.86it/s]\u001b[A\n",
      " 39%|███████████████████████████▎                                          | 39/100 [00:02<00:04, 13.75it/s]\u001b[A\n",
      " 42%|█████████████████████████████▍                                        | 42/100 [00:02<00:03, 16.71it/s]\u001b[A\n",
      " 44%|██████████████████████████████▊                                       | 44/100 [00:03<00:03, 16.11it/s]\u001b[A\n",
      " 46%|████████████████████████████████▏                                     | 46/100 [00:03<00:04, 12.94it/s]\u001b[A\n",
      " 48%|█████████████████████████████████▌                                    | 48/100 [00:03<00:03, 13.50it/s]\u001b[A\n",
      " 50%|███████████████████████████████████                                   | 50/100 [00:03<00:03, 12.87it/s]\u001b[A\n",
      " 53%|█████████████████████████████████████                                 | 53/100 [00:03<00:03, 13.44it/s]\u001b[A\n",
      " 56%|███████████████████████████████████████▏                              | 56/100 [00:03<00:02, 16.32it/s]\u001b[A\n",
      " 58%|████████████████████████████████████████▌                             | 58/100 [00:04<00:03, 13.24it/s]\u001b[A\n",
      " 60%|██████████████████████████████████████████                            | 60/100 [00:04<00:03, 12.38it/s]\u001b[A\n",
      " 62%|███████████████████████████████████████████▍                          | 62/100 [00:04<00:03, 12.66it/s]\u001b[A\n",
      " 64%|████████████████████████████████████████████▊                         | 64/100 [00:04<00:03,  9.93it/s]\u001b[A\n",
      " 66%|██████████████████████████████████████████████▏                       | 66/100 [00:05<00:03, 10.67it/s]\u001b[A\n",
      " 69%|████████████████████████████████████████████████▎                     | 69/100 [00:05<00:02, 13.39it/s]\u001b[A\n",
      " 71%|█████████████████████████████████████████████████▋                    | 71/100 [00:05<00:02, 12.28it/s]\u001b[A\n",
      " 73%|███████████████████████████████████████████████████                   | 73/100 [00:05<00:02, 11.39it/s]\u001b[A\n",
      " 75%|████████████████████████████████████████████████████▌                 | 75/100 [00:05<00:01, 12.96it/s]\u001b[A\n",
      " 77%|█████████████████████████████████████████████████████▉                | 77/100 [00:06<00:03,  7.58it/s]\u001b[A\n",
      " 79%|███████████████████████████████████████████████████████▎              | 79/100 [00:06<00:02,  7.03it/s]\u001b[A\n",
      " 80%|████████████████████████████████████████████████████████              | 80/100 [00:06<00:02,  6.68it/s]\u001b[A\n",
      " 81%|████████████████████████████████████████████████████████▋             | 81/100 [00:06<00:02,  7.02it/s]\u001b[A\n",
      " 83%|██████████████████████████████████████████████████████████            | 83/100 [00:07<00:02,  7.59it/s]\u001b[A\n",
      " 84%|██████████████████████████████████████████████████████████▊           | 84/100 [00:07<00:02,  6.56it/s]\u001b[A\n",
      " 85%|███████████████████████████████████████████████████████████▌          | 85/100 [00:07<00:02,  6.41it/s]\u001b[A\n",
      " 87%|████████████████████████████████████████████████████████████▉         | 87/100 [00:07<00:01,  6.61it/s]\u001b[A\n",
      " 88%|█████████████████████████████████████████████████████████████▌        | 88/100 [00:07<00:01,  6.89it/s]\u001b[A\n",
      " 91%|███████████████████████████████████████████████████████████████▋      | 91/100 [00:08<00:00, 10.04it/s]\u001b[A\n",
      " 93%|█████████████████████████████████████████████████████████████████     | 93/100 [00:08<00:00,  9.06it/s]\u001b[A\n",
      " 95%|██████████████████████████████████████████████████████████████████▌   | 95/100 [00:08<00:00,  9.97it/s]\u001b[A\n",
      " 97%|███████████████████████████████████████████████████████████████████▉  | 97/100 [00:08<00:00,  8.75it/s]\u001b[A\n",
      "100%|█████████████████████████████████████████████████████████████████████| 100/100 [00:08<00:00, 11.19it/s]\u001b[A\n",
      "100%|█████████████████████████████████████████████████████████████████████| 200/200 [02:30<00:00,  1.33it/s]\n"
     ]
    },
    {
     "name": "stdout",
     "output_type": "stream",
     "text": [
      "Reward mean: 285.07, std: 171.71\n",
      "Num steps mean: 285.07, std: 171.71\n"
     ]
    },
    {
     "name": "stderr",
     "output_type": "stream",
     "text": [
      "100%|███████████████████████████████████████████████████████████████████| 1000/1000 [01:53<00:00,  8.81it/s]\n",
      "\u001b[32m[I 2022-03-02 10:47:01,437]\u001b[0m Trial 46 finished with value: 270.729 and parameters: {'learning_rate': 0.00020704983721040973, 'discount_factor': 0.95, 'batch_size': 64, 'memory_size': 50000, 'freq_steps_train': 8, 'freq_steps_update_target': 100, 'n_steps_warm_up_memory': 1000, 'n_gradient_steps': 4, 'nn_hidden_layers': [256, 256], 'max_grad_norm': 1, 'normalize_state': True, 'epsilon_start': 0.9, 'epsilon_end': 0.03654539632149404, 'steps_epsilon_decay': 10000, 'seed': 1002010038}. Best is trial 14 with value: 500.0.\u001b[0m\n",
      "/Users/paulabartabajo/src/online-courses/hands-on-rl/03_cart_pole/.venv/lib/python3.7/site-packages/optuna/distributions.py:427: UserWarning: Choices for a categorical distribution should be a tuple of None, bool, int, float and str for persistent storage but contains [256, 256] which is of type list.\n",
      "  warnings.warn(message)\n"
     ]
    },
    {
     "name": "stdout",
     "output_type": "stream",
     "text": [
      "67,586 parameters\n"
     ]
    },
    {
     "name": "stderr",
     "output_type": "stream",
     "text": [
      " 94%|███████████████████████████████████████████████████████████████▉    | 188/200 [00:01<00:00, 131.50it/s]\n",
      "  0%|                                                                               | 0/100 [00:00<?, ?it/s]\u001b[A\n",
      "  7%|████▉                                                                  | 7/100 [00:00<00:01, 67.70it/s]\u001b[A\n",
      " 14%|█████████▊                                                            | 14/100 [00:00<00:01, 56.64it/s]\u001b[A\n",
      " 20%|██████████████                                                        | 20/100 [00:00<00:01, 53.77it/s]\u001b[A\n",
      " 26%|██████████████████▏                                                   | 26/100 [00:00<00:01, 44.10it/s]\u001b[A\n",
      " 31%|█████████████████████▋                                                | 31/100 [00:00<00:01, 45.19it/s]\u001b[A\n",
      " 36%|█████████████████████████▏                                            | 36/100 [00:00<00:01, 37.86it/s]\u001b[A\n",
      " 42%|█████████████████████████████▍                                        | 42/100 [00:01<00:01, 33.60it/s]\u001b[A\n",
      " 46%|████████████████████████████████▏                                     | 46/100 [00:01<00:01, 34.84it/s]\u001b[A\n",
      " 50%|███████████████████████████████████                                   | 50/100 [00:01<00:01, 35.54it/s]\u001b[A\n",
      " 54%|█████████████████████████████████████▊                                | 54/100 [00:01<00:01, 35.70it/s]\u001b[A\n",
      " 58%|████████████████████████████████████████▌                             | 58/100 [00:01<00:01, 36.43it/s]\u001b[A\n",
      " 64%|████████████████████████████████████████████▊                         | 64/100 [00:01<00:00, 40.66it/s]\u001b[A\n",
      " 69%|████████████████████████████████████████████████▎                     | 69/100 [00:01<00:00, 37.77it/s]\u001b[A\n",
      " 73%|███████████████████████████████████████████████████                   | 73/100 [00:01<00:00, 37.13it/s]\u001b[A\n",
      " 77%|█████████████████████████████████████████████████████▉                | 77/100 [00:02<00:00, 33.01it/s]\u001b[A\n",
      " 81%|████████████████████████████████████████████████████████▋             | 81/100 [00:02<00:00, 32.46it/s]\u001b[A\n",
      " 85%|███████████████████████████████████████████████████████████▌          | 85/100 [00:02<00:00, 33.95it/s]\u001b[A\n",
      " 89%|██████████████████████████████████████████████████████████████▎       | 89/100 [00:02<00:00, 32.07it/s]\u001b[A\n",
      " 94%|█████████████████████████████████████████████████████████████████▊    | 94/100 [00:02<00:00, 36.47it/s]\u001b[A\n",
      "100%|█████████████████████████████████████████████████████████████████████| 100/100 [00:02<00:00, 37.90it/s]\u001b[A\n",
      "100%|█████████████████████████████████████████████████████████████████████| 200/200 [00:04<00:00, 48.58it/s]\n"
     ]
    },
    {
     "name": "stdout",
     "output_type": "stream",
     "text": [
      "Reward mean: 28.09, std: 25.46\n",
      "Num steps mean: 28.09, std: 25.46\n"
     ]
    },
    {
     "name": "stderr",
     "output_type": "stream",
     "text": [
      "100%|███████████████████████████████████████████████████████████████████| 1000/1000 [00:18<00:00, 52.76it/s]\n",
      "\u001b[32m[I 2022-03-02 10:47:25,594]\u001b[0m Trial 47 finished with value: 27.505 and parameters: {'learning_rate': 0.000550055669498527, 'discount_factor': 0.95, 'batch_size': 64, 'memory_size': 50000, 'freq_steps_train': 256, 'freq_steps_update_target': 10, 'n_steps_warm_up_memory': 5000, 'n_gradient_steps': 4, 'nn_hidden_layers': [256, 256], 'max_grad_norm': 10, 'normalize_state': True, 'epsilon_start': 0.9, 'epsilon_end': 0.06277694208185883, 'steps_epsilon_decay': 100000, 'seed': 1073230746}. Best is trial 14 with value: 500.0.\u001b[0m\n",
      "/Users/paulabartabajo/src/online-courses/hands-on-rl/03_cart_pole/.venv/lib/python3.7/site-packages/optuna/distributions.py:427: UserWarning: Choices for a categorical distribution should be a tuple of None, bool, int, float and str for persistent storage but contains [256, 256] which is of type list.\n",
      "  warnings.warn(message)\n"
     ]
    },
    {
     "name": "stdout",
     "output_type": "stream",
     "text": [
      "67,586 parameters\n"
     ]
    },
    {
     "name": "stderr",
     "output_type": "stream",
     "text": [
      " 99%|████████████████████████████████████████████████████████████████████▎| 198/200 [00:07<00:00, 26.69it/s]\n",
      "  0%|                                                                               | 0/100 [00:00<?, ?it/s]\u001b[A\n",
      " 32%|██████████████████████                                               | 32/100 [00:00<00:00, 314.27it/s]\u001b[A\n",
      " 64%|████████████████████████████████████████████▏                        | 64/100 [00:00<00:00, 307.79it/s]\u001b[A\n",
      "100%|████████████████████████████████████████████████████████████████████| 100/100 [00:00<00:00, 299.04it/s]\u001b[A\n",
      "100%|█████████████████████████████████████████████████████████████████████| 200/200 [00:08<00:00, 24.14it/s]\n"
     ]
    },
    {
     "name": "stdout",
     "output_type": "stream",
     "text": [
      "Reward mean: 9.41, std: 0.84\n",
      "Num steps mean: 9.41, std: 0.84\n"
     ]
    },
    {
     "name": "stderr",
     "output_type": "stream",
     "text": [
      "100%|██████████████████████████████████████████████████████████████████| 1000/1000 [00:03<00:00, 293.84it/s]\n",
      "\u001b[32m[I 2022-03-02 10:47:38,783]\u001b[0m Trial 48 finished with value: 9.374 and parameters: {'learning_rate': 7.005564689957478e-05, 'discount_factor': 0.95, 'batch_size': 64, 'memory_size': 50000, 'freq_steps_train': 16, 'freq_steps_update_target': 10, 'n_steps_warm_up_memory': 1000, 'n_gradient_steps': 4, 'nn_hidden_layers': [256, 256], 'max_grad_norm': 1, 'normalize_state': True, 'epsilon_start': 0.9, 'epsilon_end': 0.09068755599469536, 'steps_epsilon_decay': 10000, 'seed': 852934938}. Best is trial 14 with value: 500.0.\u001b[0m\n",
      "/Users/paulabartabajo/src/online-courses/hands-on-rl/03_cart_pole/.venv/lib/python3.7/site-packages/optuna/distributions.py:427: UserWarning: Choices for a categorical distribution should be a tuple of None, bool, int, float and str for persistent storage but contains [256, 256] which is of type list.\n",
      "  warnings.warn(message)\n"
     ]
    },
    {
     "name": "stdout",
     "output_type": "stream",
     "text": [
      "67,586 parameters\n"
     ]
    },
    {
     "name": "stderr",
     "output_type": "stream",
     "text": [
      "100%|████████████████████████████████████████████████████████████████████▋| 199/200 [01:28<00:01,  1.08s/it]\n",
      "  0%|                                                                               | 0/100 [00:00<?, ?it/s]\u001b[A\n",
      "  3%|██▏                                                                    | 3/100 [00:00<00:04, 22.25it/s]\u001b[A\n",
      "  6%|████▎                                                                  | 6/100 [00:00<00:03, 23.78it/s]\u001b[A\n",
      "  9%|██████▍                                                                | 9/100 [00:00<00:03, 24.33it/s]\u001b[A\n",
      " 12%|████████▍                                                             | 12/100 [00:00<00:03, 24.75it/s]\u001b[A\n",
      " 15%|██████████▌                                                           | 15/100 [00:00<00:03, 24.59it/s]\u001b[A\n",
      " 18%|████████████▌                                                         | 18/100 [00:00<00:03, 24.45it/s]\u001b[A\n",
      " 21%|██████████████▋                                                       | 21/100 [00:00<00:03, 24.25it/s]\u001b[A\n",
      " 24%|████████████████▊                                                     | 24/100 [00:00<00:03, 24.80it/s]\u001b[A\n",
      " 27%|██████████████████▉                                                   | 27/100 [00:01<00:02, 25.17it/s]\u001b[A\n",
      " 30%|█████████████████████                                                 | 30/100 [00:01<00:02, 25.08it/s]\u001b[A\n",
      " 33%|███████████████████████                                               | 33/100 [00:01<00:02, 25.36it/s]\u001b[A\n",
      " 36%|█████████████████████████▏                                            | 36/100 [00:01<00:02, 25.73it/s]\u001b[A\n",
      " 39%|███████████████████████████▎                                          | 39/100 [00:01<00:02, 25.68it/s]\u001b[A\n",
      " 42%|█████████████████████████████▍                                        | 42/100 [00:01<00:02, 25.75it/s]\u001b[A\n",
      " 45%|███████████████████████████████▌                                      | 45/100 [00:01<00:02, 25.87it/s]\u001b[A\n",
      " 48%|█████████████████████████████████▌                                    | 48/100 [00:01<00:01, 26.37it/s]\u001b[A\n",
      " 51%|███████████████████████████████████▋                                  | 51/100 [00:02<00:01, 26.84it/s]\u001b[A\n",
      " 54%|█████████████████████████████████████▊                                | 54/100 [00:02<00:01, 26.90it/s]\u001b[A\n",
      " 57%|███████████████████████████████████████▉                              | 57/100 [00:02<00:01, 27.22it/s]\u001b[A\n",
      " 60%|██████████████████████████████████████████                            | 60/100 [00:02<00:01, 26.85it/s]\u001b[A\n",
      " 63%|████████████████████████████████████████████                          | 63/100 [00:02<00:01, 23.14it/s]\u001b[A\n",
      " 66%|██████████████████████████████████████████████▏                       | 66/100 [00:02<00:01, 23.54it/s]\u001b[A\n",
      " 69%|████████████████████████████████████████████████▎                     | 69/100 [00:02<00:01, 23.47it/s]\u001b[A\n",
      " 72%|██████████████████████████████████████████████████▍                   | 72/100 [00:02<00:01, 23.20it/s]\u001b[A\n",
      " 75%|████████████████████████████████████████████████████▌                 | 75/100 [00:03<00:01, 24.12it/s]\u001b[A\n",
      " 78%|██████████████████████████████████████████████████████▌               | 78/100 [00:03<00:00, 25.19it/s]\u001b[A\n",
      " 81%|████████████████████████████████████████████████████████▋             | 81/100 [00:03<00:00, 25.88it/s]\u001b[A\n",
      " 84%|██████████████████████████████████████████████████████████▊           | 84/100 [00:03<00:00, 26.19it/s]\u001b[A\n",
      " 87%|████████████████████████████████████████████████████████████▉         | 87/100 [00:03<00:00, 25.94it/s]\u001b[A\n",
      " 90%|███████████████████████████████████████████████████████████████       | 90/100 [00:03<00:00, 25.24it/s]\u001b[A\n",
      " 93%|█████████████████████████████████████████████████████████████████     | 93/100 [00:03<00:00, 25.81it/s]\u001b[A\n",
      " 96%|███████████████████████████████████████████████████████████████████▏  | 96/100 [00:03<00:00, 25.79it/s]\u001b[A\n",
      "100%|█████████████████████████████████████████████████████████████████████| 100/100 [00:03<00:00, 25.24it/s]\u001b[A\n",
      "100%|█████████████████████████████████████████████████████████████████████| 200/200 [01:33<00:00,  2.14it/s]\n"
     ]
    },
    {
     "name": "stdout",
     "output_type": "stream",
     "text": [
      "Reward mean: 118.11, std: 2.42\n",
      "Num steps mean: 118.11, std: 2.42\n"
     ]
    },
    {
     "name": "stderr",
     "output_type": "stream",
     "text": [
      "100%|███████████████████████████████████████████████████████████████████| 1000/1000 [00:58<00:00, 17.22it/s]\n",
      "\u001b[32m[I 2022-03-02 10:50:11,534]\u001b[0m Trial 49 finished with value: 118.085 and parameters: {'learning_rate': 0.0008847424619934476, 'discount_factor': 0.95, 'batch_size': 64, 'memory_size': 50000, 'freq_steps_train': 8, 'freq_steps_update_target': 10, 'n_steps_warm_up_memory': 1000, 'n_gradient_steps': 4, 'nn_hidden_layers': [256, 256], 'max_grad_norm': 1, 'normalize_state': True, 'epsilon_start': 0.9, 'epsilon_end': 0.027167912245689395, 'steps_epsilon_decay': 10000, 'seed': 928188238}. Best is trial 14 with value: 500.0.\u001b[0m\n",
      "/Users/paulabartabajo/src/online-courses/hands-on-rl/03_cart_pole/.venv/lib/python3.7/site-packages/optuna/distributions.py:427: UserWarning: Choices for a categorical distribution should be a tuple of None, bool, int, float and str for persistent storage but contains [256, 256] which is of type list.\n",
      "  warnings.warn(message)\n"
     ]
    },
    {
     "name": "stdout",
     "output_type": "stream",
     "text": [
      "67,586 parameters\n"
     ]
    },
    {
     "name": "stderr",
     "output_type": "stream",
     "text": [
      "100%|████████████████████████████████████████████████████████████████████▋| 199/200 [00:04<00:00, 47.52it/s]\n",
      "  0%|                                                                               | 0/100 [00:00<?, ?it/s]\u001b[A\n",
      " 13%|████████▉                                                            | 13/100 [00:00<00:00, 125.22it/s]\u001b[A\n",
      " 26%|█████████████████▉                                                   | 26/100 [00:00<00:00, 127.38it/s]\u001b[A\n",
      " 43%|█████████████████████████████▋                                       | 43/100 [00:00<00:00, 145.57it/s]\u001b[A\n",
      " 60%|█████████████████████████████████████████▍                           | 60/100 [00:00<00:00, 154.20it/s]\u001b[A\n",
      " 81%|███████████████████████████████████████████████████████▉             | 81/100 [00:00<00:00, 171.90it/s]\u001b[A\n",
      "100%|████████████████████████████████████████████████████████████████████| 100/100 [00:00<00:00, 161.70it/s]\u001b[A\n",
      "100%|█████████████████████████████████████████████████████████████████████| 200/200 [00:05<00:00, 37.53it/s]\n"
     ]
    },
    {
     "name": "stdout",
     "output_type": "stream",
     "text": [
      "Reward mean: 9.58, std: 1.31\n",
      "Num steps mean: 9.58, std: 1.31\n"
     ]
    },
    {
     "name": "stderr",
     "output_type": "stream",
     "text": [
      "100%|██████████████████████████████████████████████████████████████████| 1000/1000 [00:05<00:00, 176.70it/s]\n",
      "\u001b[32m[I 2022-03-02 10:50:23,833]\u001b[0m Trial 50 finished with value: 9.572 and parameters: {'learning_rate': 0.00027017831501392563, 'discount_factor': 0.95, 'batch_size': 128, 'memory_size': 50000, 'freq_steps_train': 128, 'freq_steps_update_target': 1000, 'n_steps_warm_up_memory': 1000, 'n_gradient_steps': 4, 'nn_hidden_layers': [256, 256], 'max_grad_norm': 1, 'normalize_state': True, 'epsilon_start': 0.9, 'epsilon_end': 0.0526106127445451, 'steps_epsilon_decay': 10000, 'seed': 615410351}. Best is trial 14 with value: 500.0.\u001b[0m\n",
      "/Users/paulabartabajo/src/online-courses/hands-on-rl/03_cart_pole/.venv/lib/python3.7/site-packages/optuna/distributions.py:427: UserWarning: Choices for a categorical distribution should be a tuple of None, bool, int, float and str for persistent storage but contains [256, 256] which is of type list.\n",
      "  warnings.warn(message)\n"
     ]
    },
    {
     "name": "stdout",
     "output_type": "stream",
     "text": [
      "67,586 parameters\n"
     ]
    },
    {
     "name": "stderr",
     "output_type": "stream",
     "text": [
      "100%|████████████████████████████████████████████████████████████████████▋| 199/200 [01:15<00:01,  1.27s/it]\n",
      "  0%|                                                                               | 0/100 [00:00<?, ?it/s]\u001b[A\n",
      "  1%|▋                                                                      | 1/100 [00:00<00:13,  7.55it/s]\u001b[A\n",
      "  2%|█▍                                                                     | 2/100 [00:00<00:12,  7.68it/s]\u001b[A\n",
      "  3%|██▏                                                                    | 3/100 [00:00<00:12,  7.77it/s]\u001b[A\n",
      "  4%|██▊                                                                    | 4/100 [00:00<00:12,  7.73it/s]\u001b[A\n",
      "  5%|███▌                                                                   | 5/100 [00:00<00:11,  8.11it/s]\u001b[A\n",
      "  6%|████▎                                                                  | 6/100 [00:00<00:11,  7.95it/s]\u001b[A\n",
      "  7%|████▉                                                                  | 7/100 [00:00<00:11,  7.94it/s]\u001b[A\n",
      "  8%|█████▋                                                                 | 8/100 [00:01<00:11,  7.83it/s]\u001b[A\n",
      "  9%|██████▍                                                                | 9/100 [00:01<00:11,  7.79it/s]\u001b[A\n",
      " 10%|███████                                                               | 10/100 [00:01<00:11,  7.70it/s]\u001b[A\n",
      " 11%|███████▋                                                              | 11/100 [00:01<00:11,  7.73it/s]\u001b[A\n",
      " 12%|████████▍                                                             | 12/100 [00:01<00:11,  7.74it/s]\u001b[A\n",
      " 13%|█████████                                                             | 13/100 [00:01<00:11,  7.79it/s]\u001b[A\n",
      " 14%|█████████▊                                                            | 14/100 [00:01<00:11,  7.69it/s]\u001b[A\n",
      " 15%|██████████▌                                                           | 15/100 [00:01<00:10,  7.74it/s]\u001b[A\n",
      " 16%|███████████▏                                                          | 16/100 [00:02<00:10,  7.98it/s]\u001b[A\n",
      " 17%|███████████▉                                                          | 17/100 [00:02<00:10,  7.95it/s]\u001b[A\n",
      " 18%|████████████▌                                                         | 18/100 [00:02<00:10,  8.06it/s]\u001b[A\n",
      " 19%|█████████████▎                                                        | 19/100 [00:02<00:10,  8.04it/s]\u001b[A\n",
      " 20%|██████████████                                                        | 20/100 [00:02<00:09,  8.08it/s]\u001b[A\n",
      " 21%|██████████████▋                                                       | 21/100 [00:02<00:09,  8.10it/s]\u001b[A\n",
      " 22%|███████████████▍                                                      | 22/100 [00:02<00:09,  8.09it/s]\u001b[A\n",
      " 23%|████████████████                                                      | 23/100 [00:02<00:09,  8.19it/s]\u001b[A\n",
      " 24%|████████████████▊                                                     | 24/100 [00:03<00:09,  8.07it/s]\u001b[A\n",
      " 25%|█████████████████▌                                                    | 25/100 [00:03<00:09,  7.86it/s]\u001b[A\n",
      " 26%|██████████████████▏                                                   | 26/100 [00:03<00:10,  6.99it/s]\u001b[A\n",
      " 27%|██████████████████▉                                                   | 27/100 [00:03<00:09,  7.34it/s]\u001b[A\n",
      " 28%|███████████████████▌                                                  | 28/100 [00:03<00:10,  6.87it/s]\u001b[A\n",
      " 29%|████████████████████▎                                                 | 29/100 [00:03<00:10,  7.08it/s]\u001b[A\n",
      " 30%|█████████████████████                                                 | 30/100 [00:04<00:13,  5.29it/s]\u001b[A\n",
      " 31%|█████████████████████▋                                                | 31/100 [00:04<00:12,  5.58it/s]\u001b[A\n",
      " 32%|██████████████████████▍                                               | 32/100 [00:04<00:11,  5.94it/s]\u001b[A\n",
      " 33%|███████████████████████                                               | 33/100 [00:04<00:10,  6.33it/s]\u001b[A\n",
      " 34%|███████████████████████▊                                              | 34/100 [00:04<00:09,  6.90it/s]\u001b[A\n",
      " 35%|████████████████████████▌                                             | 35/100 [00:04<00:08,  7.31it/s]\u001b[A\n",
      " 36%|█████████████████████████▏                                            | 36/100 [00:04<00:08,  7.38it/s]\u001b[A\n",
      " 37%|█████████████████████████▉                                            | 37/100 [00:04<00:08,  7.47it/s]\u001b[A\n",
      " 38%|██████████████████████████▌                                           | 38/100 [00:05<00:08,  7.44it/s]\u001b[A\n",
      " 39%|███████████████████████████▎                                          | 39/100 [00:05<00:08,  7.38it/s]\u001b[A\n",
      " 40%|████████████████████████████                                          | 40/100 [00:05<00:09,  6.66it/s]\u001b[A\n",
      " 41%|████████████████████████████▋                                         | 41/100 [00:05<00:08,  6.63it/s]\u001b[A\n",
      " 42%|█████████████████████████████▍                                        | 42/100 [00:05<00:09,  6.44it/s]\u001b[A\n",
      " 43%|██████████████████████████████                                        | 43/100 [00:05<00:08,  6.45it/s]\u001b[A\n",
      " 44%|██████████████████████████████▊                                       | 44/100 [00:06<00:08,  6.38it/s]\u001b[A\n",
      " 45%|███████████████████████████████▌                                      | 45/100 [00:06<00:09,  6.10it/s]\u001b[A\n",
      " 46%|████████████████████████████████▏                                     | 46/100 [00:06<00:08,  6.21it/s]\u001b[A\n",
      " 47%|████████████████████████████████▉                                     | 47/100 [00:06<00:08,  6.06it/s]\u001b[A\n",
      " 48%|█████████████████████████████████▌                                    | 48/100 [00:06<00:08,  6.19it/s]\u001b[A\n",
      " 49%|██████████████████████████████████▎                                   | 49/100 [00:06<00:08,  6.29it/s]\u001b[A\n",
      " 50%|███████████████████████████████████                                   | 50/100 [00:07<00:08,  6.13it/s]\u001b[A\n",
      " 51%|███████████████████████████████████▋                                  | 51/100 [00:07<00:08,  5.76it/s]\u001b[A\n",
      " 52%|████████████████████████████████████▍                                 | 52/100 [00:07<00:08,  5.97it/s]\u001b[A\n",
      " 53%|█████████████████████████████████████                                 | 53/100 [00:07<00:07,  6.01it/s]\u001b[A\n",
      " 54%|█████████████████████████████████████▊                                | 54/100 [00:07<00:07,  5.98it/s]\u001b[A\n",
      " 55%|██████████████████████████████████████▌                               | 55/100 [00:07<00:07,  6.05it/s]\u001b[A\n",
      " 56%|███████████████████████████████████████▏                              | 56/100 [00:08<00:07,  6.21it/s]\u001b[A\n",
      " 57%|███████████████████████████████████████▉                              | 57/100 [00:08<00:06,  6.37it/s]\u001b[A\n",
      " 58%|████████████████████████████████████████▌                             | 58/100 [00:08<00:06,  6.56it/s]\u001b[A\n",
      " 59%|█████████████████████████████████████████▎                            | 59/100 [00:08<00:06,  6.56it/s]\u001b[A\n",
      " 60%|██████████████████████████████████████████                            | 60/100 [00:08<00:06,  6.49it/s]\u001b[A\n",
      " 61%|██████████████████████████████████████████▋                           | 61/100 [00:08<00:05,  6.69it/s]\u001b[A\n",
      " 62%|███████████████████████████████████████████▍                          | 62/100 [00:08<00:05,  6.71it/s]\u001b[A\n",
      " 63%|████████████████████████████████████████████                          | 63/100 [00:09<00:05,  6.77it/s]\u001b[A\n",
      " 64%|████████████████████████████████████████████▊                         | 64/100 [00:09<00:05,  6.69it/s]\u001b[A\n",
      " 65%|█████████████████████████████████████████████▌                        | 65/100 [00:09<00:05,  6.62it/s]\u001b[A\n",
      " 66%|██████████████████████████████████████████████▏                       | 66/100 [00:09<00:05,  6.63it/s]\u001b[A\n",
      " 67%|██████████████████████████████████████████████▉                       | 67/100 [00:09<00:05,  6.59it/s]\u001b[A\n",
      " 68%|███████████████████████████████████████████████▌                      | 68/100 [00:09<00:04,  6.54it/s]\u001b[A\n",
      " 69%|████████████████████████████████████████████████▎                     | 69/100 [00:10<00:05,  6.14it/s]\u001b[A\n",
      " 70%|█████████████████████████████████████████████████                     | 70/100 [00:10<00:04,  6.28it/s]\u001b[A\n",
      " 71%|█████████████████████████████████████████████████▋                    | 71/100 [00:10<00:04,  6.41it/s]\u001b[A\n",
      " 72%|██████████████████████████████████████████████████▍                   | 72/100 [00:10<00:04,  6.64it/s]\u001b[A\n",
      " 73%|███████████████████████████████████████████████████                   | 73/100 [00:10<00:04,  6.58it/s]\u001b[A\n",
      " 74%|███████████████████████████████████████████████████▊                  | 74/100 [00:10<00:04,  6.35it/s]\u001b[A\n",
      " 75%|████████████████████████████████████████████████████▌                 | 75/100 [00:10<00:03,  6.31it/s]\u001b[A\n",
      " 76%|█████████████████████████████████████████████████████▏                | 76/100 [00:11<00:03,  6.29it/s]\u001b[A\n",
      " 77%|█████████████████████████████████████████████████████▉                | 77/100 [00:11<00:03,  6.16it/s]\u001b[A\n",
      " 78%|██████████████████████████████████████████████████████▌               | 78/100 [00:11<00:03,  5.80it/s]\u001b[A\n",
      " 79%|███████████████████████████████████████████████████████▎              | 79/100 [00:11<00:03,  5.97it/s]\u001b[A\n",
      " 80%|████████████████████████████████████████████████████████              | 80/100 [00:11<00:03,  6.12it/s]\u001b[A\n",
      " 81%|████████████████████████████████████████████████████████▋             | 81/100 [00:11<00:03,  6.07it/s]\u001b[A\n",
      " 82%|█████████████████████████████████████████████████████████▍            | 82/100 [00:12<00:03,  5.64it/s]\u001b[A\n",
      " 83%|██████████████████████████████████████████████████████████            | 83/100 [00:12<00:03,  4.76it/s]\u001b[A\n",
      " 84%|██████████████████████████████████████████████████████████▊           | 84/100 [00:12<00:03,  5.23it/s]\u001b[A\n",
      " 85%|███████████████████████████████████████████████████████████▌          | 85/100 [00:12<00:02,  5.90it/s]\u001b[A\n",
      " 86%|████████████████████████████████████████████████████████████▏         | 86/100 [00:12<00:02,  5.69it/s]\u001b[A\n",
      " 87%|████████████████████████████████████████████████████████████▉         | 87/100 [00:13<00:02,  5.61it/s]\u001b[A\n",
      " 88%|█████████████████████████████████████████████████████████████▌        | 88/100 [00:13<00:02,  5.59it/s]\u001b[A\n",
      " 89%|██████████████████████████████████████████████████████████████▎       | 89/100 [00:13<00:02,  5.31it/s]\u001b[A\n",
      " 90%|███████████████████████████████████████████████████████████████       | 90/100 [00:13<00:01,  5.44it/s]\u001b[A\n",
      " 91%|███████████████████████████████████████████████████████████████▋      | 91/100 [00:13<00:01,  5.61it/s]\u001b[A\n",
      " 92%|████████████████████████████████████████████████████████████████▍     | 92/100 [00:14<00:01,  5.56it/s]\u001b[A\n",
      " 93%|█████████████████████████████████████████████████████████████████     | 93/100 [00:14<00:01,  5.48it/s]\u001b[A\n",
      " 94%|█████████████████████████████████████████████████████████████████▊    | 94/100 [00:14<00:01,  5.24it/s]\u001b[A\n",
      " 95%|██████████████████████████████████████████████████████████████████▌   | 95/100 [00:14<00:00,  5.16it/s]\u001b[A\n",
      " 96%|███████████████████████████████████████████████████████████████████▏  | 96/100 [00:14<00:00,  5.02it/s]\u001b[A\n",
      " 97%|███████████████████████████████████████████████████████████████████▉  | 97/100 [00:15<00:00,  5.15it/s]\u001b[A\n",
      " 98%|████████████████████████████████████████████████████████████████████▌ | 98/100 [00:15<00:00,  4.98it/s]\u001b[A\n",
      " 99%|█████████████████████████████████████████████████████████████████████▎| 99/100 [00:15<00:00,  4.85it/s]\u001b[A\n",
      "100%|█████████████████████████████████████████████████████████████████████| 100/100 [00:15<00:00,  6.38it/s]\u001b[A\n",
      "100%|█████████████████████████████████████████████████████████████████████| 200/200 [01:33<00:00,  2.14it/s]\n"
     ]
    },
    {
     "name": "stdout",
     "output_type": "stream",
     "text": [
      "Reward mean: 491.95, std: 21.87\n",
      "Num steps mean: 491.95, std: 21.87\n"
     ]
    },
    {
     "name": "stderr",
     "output_type": "stream",
     "text": [
      "100%|███████████████████████████████████████████████████████████████████| 1000/1000 [02:18<00:00,  7.20it/s]\n",
      "\u001b[32m[I 2022-03-02 10:54:17,930]\u001b[0m Trial 51 finished with value: 494.154 and parameters: {'learning_rate': 0.0001114266793516042, 'discount_factor': 0.9, 'batch_size': 16, 'memory_size': 100000, 'freq_steps_train': 16, 'freq_steps_update_target': 10, 'n_steps_warm_up_memory': 1000, 'n_gradient_steps': 16, 'nn_hidden_layers': [256, 256], 'max_grad_norm': 1, 'normalize_state': True, 'epsilon_start': 0.9, 'epsilon_end': 0.01811968057602956, 'steps_epsilon_decay': 10000, 'seed': 784391538}. Best is trial 14 with value: 500.0.\u001b[0m\n",
      "/Users/paulabartabajo/src/online-courses/hands-on-rl/03_cart_pole/.venv/lib/python3.7/site-packages/optuna/distributions.py:427: UserWarning: Choices for a categorical distribution should be a tuple of None, bool, int, float and str for persistent storage but contains [256, 256] which is of type list.\n",
      "  warnings.warn(message)\n"
     ]
    },
    {
     "name": "stdout",
     "output_type": "stream",
     "text": [
      "67,586 parameters\n"
     ]
    },
    {
     "name": "stderr",
     "output_type": "stream",
     "text": [
      "100%|████████████████████████████████████████████████████████████████████▋| 199/200 [01:37<00:01,  1.04s/it]\n",
      "  0%|                                                                               | 0/100 [00:00<?, ?it/s]\u001b[A\n",
      "  3%|██▏                                                                    | 3/100 [00:00<00:03, 24.65it/s]\u001b[A\n",
      "  6%|████▎                                                                  | 6/100 [00:00<00:04, 19.73it/s]\u001b[A\n",
      "  9%|██████▍                                                                | 9/100 [00:00<00:06, 15.07it/s]\u001b[A\n",
      " 11%|███████▋                                                              | 11/100 [00:00<00:06, 13.93it/s]\u001b[A\n",
      " 13%|█████████                                                             | 13/100 [00:00<00:07, 11.41it/s]\u001b[A\n",
      " 15%|██████████▌                                                           | 15/100 [00:01<00:08, 10.22it/s]\u001b[A\n",
      " 17%|███████████▉                                                          | 17/100 [00:01<00:08, 10.35it/s]\u001b[A\n",
      " 19%|█████████████▎                                                        | 19/100 [00:01<00:09,  8.33it/s]\u001b[A\n",
      " 20%|██████████████                                                        | 20/100 [00:01<00:09,  8.11it/s]\u001b[A\n",
      " 22%|███████████████▍                                                      | 22/100 [00:02<00:07,  9.85it/s]\u001b[A\n",
      " 24%|████████████████▊                                                     | 24/100 [00:02<00:06, 11.36it/s]\u001b[A\n",
      " 26%|██████████████████▏                                                   | 26/100 [00:02<00:06, 12.21it/s]\u001b[A\n",
      " 28%|███████████████████▌                                                  | 28/100 [00:02<00:05, 13.01it/s]\u001b[A\n",
      " 30%|█████████████████████                                                 | 30/100 [00:02<00:05, 13.49it/s]\u001b[A\n",
      " 32%|██████████████████████▍                                               | 32/100 [00:02<00:04, 13.68it/s]\u001b[A\n",
      " 35%|████████████████████████▌                                             | 35/100 [00:02<00:03, 17.17it/s]\u001b[A\n",
      " 38%|██████████████████████████▌                                           | 38/100 [00:02<00:03, 18.18it/s]\u001b[A\n",
      " 41%|████████████████████████████▋                                         | 41/100 [00:03<00:02, 20.11it/s]\u001b[A\n",
      " 44%|██████████████████████████████▊                                       | 44/100 [00:03<00:03, 17.47it/s]\u001b[A\n",
      " 47%|████████████████████████████████▉                                     | 47/100 [00:03<00:02, 20.02it/s]\u001b[A\n",
      " 50%|███████████████████████████████████                                   | 50/100 [00:03<00:03, 15.72it/s]\u001b[A\n",
      " 52%|████████████████████████████████████▍                                 | 52/100 [00:03<00:03, 14.95it/s]\u001b[A\n",
      " 54%|█████████████████████████████████████▊                                | 54/100 [00:03<00:02, 15.76it/s]\u001b[A\n",
      " 56%|███████████████████████████████████████▏                              | 56/100 [00:04<00:03, 13.80it/s]\u001b[A\n",
      " 59%|█████████████████████████████████████████▎                            | 59/100 [00:04<00:02, 15.60it/s]\u001b[A\n",
      " 62%|███████████████████████████████████████████▍                          | 62/100 [00:04<00:02, 16.72it/s]\u001b[A\n",
      " 65%|█████████████████████████████████████████████▌                        | 65/100 [00:04<00:01, 18.45it/s]\u001b[A\n",
      " 67%|██████████████████████████████████████████████▉                       | 67/100 [00:04<00:02, 16.45it/s]\u001b[A\n",
      " 69%|████████████████████████████████████████████████▎                     | 69/100 [00:04<00:02, 12.23it/s]\u001b[A\n",
      " 71%|█████████████████████████████████████████████████▋                    | 71/100 [00:05<00:02, 12.76it/s]\u001b[A\n",
      " 73%|███████████████████████████████████████████████████                   | 73/100 [00:05<00:01, 13.53it/s]\u001b[A\n",
      " 75%|████████████████████████████████████████████████████▌                 | 75/100 [00:05<00:02, 10.07it/s]\u001b[A\n",
      " 77%|█████████████████████████████████████████████████████▉                | 77/100 [00:05<00:02,  9.42it/s]\u001b[A\n",
      " 79%|███████████████████████████████████████████████████████▎              | 79/100 [00:06<00:02,  9.59it/s]\u001b[A\n",
      " 81%|████████████████████████████████████████████████████████▋             | 81/100 [00:06<00:02,  8.75it/s]\u001b[A\n",
      " 82%|█████████████████████████████████████████████████████████▍            | 82/100 [00:06<00:02,  8.60it/s]\u001b[A\n",
      " 84%|██████████████████████████████████████████████████████████▊           | 84/100 [00:06<00:01, 10.32it/s]\u001b[A\n",
      " 86%|████████████████████████████████████████████████████████████▏         | 86/100 [00:06<00:01, 12.04it/s]\u001b[A\n",
      " 89%|██████████████████████████████████████████████████████████████▎       | 89/100 [00:06<00:00, 15.11it/s]\u001b[A\n",
      " 91%|███████████████████████████████████████████████████████████████▋      | 91/100 [00:06<00:00, 15.36it/s]\u001b[A\n",
      " 93%|█████████████████████████████████████████████████████████████████     | 93/100 [00:07<00:00, 15.93it/s]\u001b[A\n",
      " 96%|███████████████████████████████████████████████████████████████████▏  | 96/100 [00:07<00:00, 17.91it/s]\u001b[A\n",
      " 98%|████████████████████████████████████████████████████████████████████▌ | 98/100 [00:07<00:00, 17.87it/s]\u001b[A\n",
      "100%|█████████████████████████████████████████████████████████████████████| 100/100 [00:07<00:00, 13.53it/s]\u001b[A\n",
      "100%|█████████████████████████████████████████████████████████████████████| 200/200 [01:46<00:00,  1.88it/s]\n"
     ]
    },
    {
     "name": "stdout",
     "output_type": "stream",
     "text": [
      "Reward mean: 138.56, std: 81.91\n",
      "Num steps mean: 138.56, std: 81.91\n"
     ]
    },
    {
     "name": "stderr",
     "output_type": "stream",
     "text": [
      "100%|███████████████████████████████████████████████████████████████████| 1000/1000 [01:10<00:00, 14.11it/s]\n",
      "\u001b[32m[I 2022-03-02 10:57:15,673]\u001b[0m Trial 52 finished with value: 135.905 and parameters: {'learning_rate': 0.0001294070616472532, 'discount_factor': 0.9, 'batch_size': 16, 'memory_size': 10000, 'freq_steps_train': 16, 'freq_steps_update_target': 10, 'n_steps_warm_up_memory': 1000, 'n_gradient_steps': 16, 'nn_hidden_layers': [256, 256], 'max_grad_norm': 1, 'normalize_state': True, 'epsilon_start': 0.9, 'epsilon_end': 0.019381627932727494, 'steps_epsilon_decay': 10000, 'seed': 767117047}. Best is trial 14 with value: 500.0.\u001b[0m\n",
      "/Users/paulabartabajo/src/online-courses/hands-on-rl/03_cart_pole/.venv/lib/python3.7/site-packages/optuna/distributions.py:427: UserWarning: Choices for a categorical distribution should be a tuple of None, bool, int, float and str for persistent storage but contains [256, 256] which is of type list.\n",
      "  warnings.warn(message)\n"
     ]
    },
    {
     "name": "stdout",
     "output_type": "stream",
     "text": [
      "67,586 parameters\n"
     ]
    },
    {
     "name": "stderr",
     "output_type": "stream",
     "text": [
      " 95%|█████████████████████████████████████████████████████████████████▌   | 190/200 [01:23<00:16,  1.62s/it]"
     ]
    }
   ],
   "source": [
    "study.optimize(func, n_trials=1000, callbacks=[hyperparam_search_stop_callback])"
   ]
  },
  {
   "cell_type": "markdown",
   "id": "aa50508e",
   "metadata": {},
   "source": [
    "## These are the best hyper-parameters"
   ]
  },
  {
   "cell_type": "code",
   "execution_count": 8,
   "id": "52977fd2",
   "metadata": {},
   "outputs": [
    {
     "name": "stdout",
     "output_type": "stream",
     "text": [
      "{'batch_size': 64, 'discount_factor': 0.99, 'epsilon_end': 0.04236008167088738, 'epsilon_start': 0.9, 'freq_steps_train': 16, 'freq_steps_update_target': 100, 'learning_rate': 0.00042271527475284823, 'max_grad_norm': 10, 'memory_size': 50000, 'n_gradient_steps': 4, 'n_steps_warm_up_memory': 1000, 'nn_hidden_layers': [256, 256], 'normalize_state': False, 'steps_epsilon_decay': 100000}\n",
      "Seed:  186056349\n"
     ]
    }
   ],
   "source": [
    "best_trial = study.best_trial\n",
    "\n",
    "hparams = {k: best_trial.params[k] for k in best_trial.params if k != 'seed'}\n",
    "#hparams['nn_hidden_layers'] = eval(hparams['nn_hidden_layers']) \n",
    "print(hparams)\n",
    "\n",
    "SEED = best_trial.params['seed']\n",
    "print('Seed: ', SEED)"
   ]
  },
  {
   "cell_type": "markdown",
   "id": "74718f97",
   "metadata": {},
   "source": [
    "## We can re-run the training to get the perfect agent"
   ]
  },
  {
   "cell_type": "code",
   "execution_count": 11,
   "id": "4c44af12",
   "metadata": {
    "scrolled": true
   },
   "outputs": [
    {
     "name": "stdout",
     "output_type": "stream",
     "text": [
      "67,586 parameters\n"
     ]
    },
    {
     "name": "stderr",
     "output_type": "stream",
     "text": [
      "100%|████████████████████████████████████████████████████████████████████▋| 199/200 [00:04<00:00, 27.61it/s]\n",
      "  0%|                                                                               | 0/100 [00:00<?, ?it/s]\u001b[A\n",
      "  2%|█▍                                                                     | 2/100 [00:00<00:07, 12.88it/s]\u001b[A\n",
      "  4%|██▊                                                                    | 4/100 [00:00<00:07, 12.38it/s]\u001b[A\n",
      "  6%|████▎                                                                  | 6/100 [00:00<00:07, 11.93it/s]\u001b[A\n",
      "  8%|█████▋                                                                 | 8/100 [00:00<00:07, 12.19it/s]\u001b[A\n",
      " 10%|███████                                                               | 10/100 [00:00<00:07, 11.82it/s]\u001b[A\n",
      " 12%|████████▍                                                             | 12/100 [00:01<00:07, 11.88it/s]\u001b[A\n",
      " 14%|█████████▊                                                            | 14/100 [00:01<00:07, 12.08it/s]\u001b[A\n",
      " 16%|███████████▏                                                          | 16/100 [00:01<00:06, 12.55it/s]\u001b[A\n",
      " 18%|████████████▌                                                         | 18/100 [00:01<00:06, 12.81it/s]\u001b[A\n",
      " 20%|██████████████                                                        | 20/100 [00:01<00:06, 12.30it/s]\u001b[A\n",
      " 22%|███████████████▍                                                      | 22/100 [00:01<00:06, 12.24it/s]\u001b[A\n",
      " 24%|████████████████▊                                                     | 24/100 [00:01<00:06, 12.14it/s]\u001b[A\n",
      " 26%|██████████████████▏                                                   | 26/100 [00:02<00:05, 12.42it/s]\u001b[A\n",
      " 28%|███████████████████▌                                                  | 28/100 [00:02<00:05, 12.36it/s]\u001b[A\n",
      " 30%|█████████████████████                                                 | 30/100 [00:02<00:05, 12.62it/s]\u001b[A\n",
      " 32%|██████████████████████▍                                               | 32/100 [00:02<00:05, 12.67it/s]\u001b[A\n",
      " 34%|███████████████████████▊                                              | 34/100 [00:02<00:05, 11.32it/s]\u001b[A\n",
      " 36%|█████████████████████████▏                                            | 36/100 [00:02<00:05, 11.61it/s]\u001b[A\n",
      " 38%|██████████████████████████▌                                           | 38/100 [00:03<00:05, 11.42it/s]\u001b[A\n",
      " 40%|████████████████████████████                                          | 40/100 [00:03<00:05, 11.42it/s]\u001b[A\n",
      " 42%|█████████████████████████████▍                                        | 42/100 [00:03<00:05, 11.58it/s]\u001b[A\n",
      " 44%|██████████████████████████████▊                                       | 44/100 [00:03<00:04, 12.00it/s]\u001b[A\n",
      " 46%|████████████████████████████████▏                                     | 46/100 [00:03<00:04, 12.07it/s]\u001b[A\n",
      " 48%|█████████████████████████████████▌                                    | 48/100 [00:03<00:04, 11.62it/s]\u001b[A\n",
      " 50%|███████████████████████████████████                                   | 50/100 [00:04<00:04, 11.80it/s]\u001b[A\n",
      " 52%|████████████████████████████████████▍                                 | 52/100 [00:04<00:03, 12.12it/s]\u001b[A\n",
      " 54%|█████████████████████████████████████▊                                | 54/100 [00:04<00:04, 11.43it/s]\u001b[A\n",
      " 56%|███████████████████████████████████████▏                              | 56/100 [00:04<00:03, 12.04it/s]\u001b[A\n",
      " 58%|████████████████████████████████████████▌                             | 58/100 [00:04<00:03, 11.66it/s]\u001b[A\n",
      " 60%|██████████████████████████████████████████                            | 60/100 [00:04<00:03, 12.03it/s]\u001b[A\n",
      " 62%|███████████████████████████████████████████▍                          | 62/100 [00:05<00:03, 11.89it/s]\u001b[A\n",
      " 64%|████████████████████████████████████████████▊                         | 64/100 [00:05<00:03, 11.66it/s]\u001b[A\n",
      " 66%|██████████████████████████████████████████████▏                       | 66/100 [00:05<00:02, 11.74it/s]\u001b[A\n",
      " 68%|███████████████████████████████████████████████▌                      | 68/100 [00:05<00:02, 12.19it/s]\u001b[A\n",
      " 70%|█████████████████████████████████████████████████                     | 70/100 [00:05<00:02, 12.07it/s]\u001b[A\n",
      " 72%|██████████████████████████████████████████████████▍                   | 72/100 [00:06<00:02, 11.68it/s]\u001b[A\n",
      " 74%|███████████████████████████████████████████████████▊                  | 74/100 [00:06<00:02, 12.11it/s]\u001b[A\n",
      " 76%|█████████████████████████████████████████████████████▏                | 76/100 [00:06<00:01, 12.61it/s]\u001b[A\n",
      " 78%|██████████████████████████████████████████████████████▌               | 78/100 [00:06<00:01, 12.16it/s]\u001b[A\n",
      " 80%|████████████████████████████████████████████████████████              | 80/100 [00:06<00:01, 12.30it/s]\u001b[A\n",
      " 82%|█████████████████████████████████████████████████████████▍            | 82/100 [00:06<00:01, 12.23it/s]\u001b[A\n",
      " 84%|██████████████████████████████████████████████████████████▊           | 84/100 [00:06<00:01, 12.13it/s]\u001b[A\n",
      " 86%|████████████████████████████████████████████████████████████▏         | 86/100 [00:07<00:01, 12.23it/s]\u001b[A\n",
      " 88%|█████████████████████████████████████████████████████████████▌        | 88/100 [00:07<00:00, 12.01it/s]\u001b[A\n",
      " 90%|███████████████████████████████████████████████████████████████       | 90/100 [00:07<00:00, 12.35it/s]\u001b[A\n",
      " 92%|████████████████████████████████████████████████████████████████▍     | 92/100 [00:07<00:00, 11.89it/s]\u001b[A\n",
      " 94%|█████████████████████████████████████████████████████████████████▊    | 94/100 [00:07<00:00, 12.22it/s]\u001b[A\n",
      " 96%|███████████████████████████████████████████████████████████████████▏  | 96/100 [00:07<00:00, 12.18it/s]\u001b[A\n",
      " 98%|████████████████████████████████████████████████████████████████████▌ | 98/100 [00:08<00:00, 11.97it/s]\u001b[A\n",
      "100%|█████████████████████████████████████████████████████████████████████| 100/100 [00:08<00:00, 12.05it/s]\u001b[A\n",
      "100%|█████████████████████████████████████████████████████████████████████| 200/200 [00:13<00:00, 15.12it/s]"
     ]
    },
    {
     "name": "stdout",
     "output_type": "stream",
     "text": [
      "Reward mean: 337.64, std: 29.49\n",
      "Num steps mean: 337.64, std: 29.49\n"
     ]
    },
    {
     "name": "stderr",
     "output_type": "stream",
     "text": [
      "\n"
     ]
    }
   ],
   "source": [
    "from src.utils import set_seed\n",
    "set_seed(env, SEED)\n",
    "\n",
    "from src.q_agent import QAgent\n",
    "agent = QAgent(env, **hparams)\n",
    "\n",
    "from src.loops import train\n",
    "train(agent, env, n_episodes=200)"
   ]
  },
  {
   "cell_type": "markdown",
   "id": "a0daa70b",
   "metadata": {},
   "source": [
    "## or simply load the `agent_id` from the best run"
   ]
  },
  {
   "cell_type": "code",
   "execution_count": 3,
   "id": "9352b32a",
   "metadata": {},
   "outputs": [
    {
     "name": "stdout",
     "output_type": "stream",
     "text": [
      "67,586 parameters\n"
     ]
    }
   ],
   "source": [
    "from src.q_agent import QAgent\n",
    "from src.config import SAVED_AGENTS_DIR\n",
    "\n",
    "# you can find the agent_id for the best run in the MLflow\n",
    "# dashboard.\n",
    "# 298 is the value in my case, but you need to check what is your\n",
    "agent_id = 298\n",
    "\n",
    "path_to_saved_model = SAVED_AGENTS_DIR / 'CartPole-v1' / str(agent_id)\n",
    "agent = QAgent.load_from_disk(env, path_to_saved_model)"
   ]
  },
  {
   "cell_type": "markdown",
   "id": "d0c9f72a",
   "metadata": {},
   "source": [
    "## Evaluate the agent ⏱️"
   ]
  },
  {
   "cell_type": "code",
   "execution_count": 4,
   "id": "ec4d363b",
   "metadata": {},
   "outputs": [
    {
     "name": "stderr",
     "output_type": "stream",
     "text": [
      "100%|███████████████████████████████████████████████████████████████████| 1000/1000 [03:00<00:00,  5.54it/s]\n"
     ]
    }
   ],
   "source": [
    "from src.loops import evaluate\n",
    "rewards, steps = evaluate(\n",
    "    agent, env,\n",
    "    n_episodes=1000,\n",
    "    epsilon=0.00\n",
    ")"
   ]
  },
  {
   "cell_type": "code",
   "execution_count": 5,
   "id": "8dedf1ee",
   "metadata": {},
   "outputs": [
    {
     "name": "stdout",
     "output_type": "stream",
     "text": [
      "Reward average 500.00, std 0.00\n"
     ]
    }
   ],
   "source": [
    "import numpy as np\n",
    "reward_avg = np.array(rewards).mean()\n",
    "reward_std = np.array(rewards).std()\n",
    "print(f'Reward average {reward_avg:.2f}, std {reward_std:.2f}')"
   ]
  },
  {
   "cell_type": "markdown",
   "id": "f76f648d",
   "metadata": {},
   "source": [
    "## Let's see how far we got in each attempt"
   ]
  },
  {
   "cell_type": "code",
   "execution_count": 6,
   "id": "f349b9a6",
   "metadata": {},
   "outputs": [
    {
     "data": {
      "image/svg+xml": [
       "<?xml version=\"1.0\" encoding=\"utf-8\" standalone=\"no\"?>\n",
       "<!DOCTYPE svg PUBLIC \"-//W3C//DTD SVG 1.1//EN\"\n",
       "  \"http://www.w3.org/Graphics/SVG/1.1/DTD/svg11.dtd\">\n",
       "<svg xmlns:xlink=\"http://www.w3.org/1999/xlink\" width=\"618.528125pt\" height=\"263.63625pt\" viewBox=\"0 0 618.528125 263.63625\" xmlns=\"http://www.w3.org/2000/svg\" version=\"1.1\">\n",
       " <metadata>\n",
       "  <rdf:RDF xmlns:dc=\"http://purl.org/dc/elements/1.1/\" xmlns:cc=\"http://creativecommons.org/ns#\" xmlns:rdf=\"http://www.w3.org/1999/02/22-rdf-syntax-ns#\">\n",
       "   <cc:Work>\n",
       "    <dc:type rdf:resource=\"http://purl.org/dc/dcmitype/StillImage\"/>\n",
       "    <dc:date>2022-03-02T12:11:15.541161</dc:date>\n",
       "    <dc:format>image/svg+xml</dc:format>\n",
       "    <dc:creator>\n",
       "     <cc:Agent>\n",
       "      <dc:title>Matplotlib v3.5.1, https://matplotlib.org/</dc:title>\n",
       "     </cc:Agent>\n",
       "    </dc:creator>\n",
       "   </cc:Work>\n",
       "  </rdf:RDF>\n",
       " </metadata>\n",
       " <defs>\n",
       "  <style type=\"text/css\">*{stroke-linejoin: round; stroke-linecap: butt}</style>\n",
       " </defs>\n",
       " <g id=\"figure_1\">\n",
       "  <g id=\"patch_1\">\n",
       "   <path d=\"M 0 263.63625 \n",
       "L 618.528125 263.63625 \n",
       "L 618.528125 0 \n",
       "L 0 0 \n",
       "L 0 263.63625 \n",
       "z\n",
       "\" style=\"fill: none\"/>\n",
       "  </g>\n",
       "  <g id=\"axes_1\">\n",
       "   <g id=\"patch_2\">\n",
       "    <path d=\"M 53.328125 239.758125 \n",
       "L 611.328125 239.758125 \n",
       "L 611.328125 22.318125 \n",
       "L 53.328125 22.318125 \n",
       "z\n",
       "\" style=\"fill: #ffffff\"/>\n",
       "   </g>\n",
       "   <g id=\"patch_3\">\n",
       "    <path d=\"M 78.691761 239.758125 \n",
       "L 83.764489 239.758125 \n",
       "L 83.764489 239.758125 \n",
       "L 78.691761 239.758125 \n",
       "z\n",
       "\" clip-path=\"url(#p11ac93f5bd)\" style=\"fill: #1f77b4\"/>\n",
       "   </g>\n",
       "   <g id=\"patch_4\">\n",
       "    <path d=\"M 83.764489 239.758125 \n",
       "L 88.837216 239.758125 \n",
       "L 88.837216 239.758125 \n",
       "L 83.764489 239.758125 \n",
       "z\n",
       "\" clip-path=\"url(#p11ac93f5bd)\" style=\"fill: #1f77b4\"/>\n",
       "   </g>\n",
       "   <g id=\"patch_5\">\n",
       "    <path d=\"M 88.837216 239.758125 \n",
       "L 93.909943 239.758125 \n",
       "L 93.909943 239.758125 \n",
       "L 88.837216 239.758125 \n",
       "z\n",
       "\" clip-path=\"url(#p11ac93f5bd)\" style=\"fill: #1f77b4\"/>\n",
       "   </g>\n",
       "   <g id=\"patch_6\">\n",
       "    <path d=\"M 93.909943 239.758125 \n",
       "L 98.98267 239.758125 \n",
       "L 98.98267 239.758125 \n",
       "L 93.909943 239.758125 \n",
       "z\n",
       "\" clip-path=\"url(#p11ac93f5bd)\" style=\"fill: #1f77b4\"/>\n",
       "   </g>\n",
       "   <g id=\"patch_7\">\n",
       "    <path d=\"M 98.98267 239.758125 \n",
       "L 104.055398 239.758125 \n",
       "L 104.055398 239.758125 \n",
       "L 98.98267 239.758125 \n",
       "z\n",
       "\" clip-path=\"url(#p11ac93f5bd)\" style=\"fill: #1f77b4\"/>\n",
       "   </g>\n",
       "   <g id=\"patch_8\">\n",
       "    <path d=\"M 104.055398 239.758125 \n",
       "L 109.128125 239.758125 \n",
       "L 109.128125 239.758125 \n",
       "L 104.055398 239.758125 \n",
       "z\n",
       "\" clip-path=\"url(#p11ac93f5bd)\" style=\"fill: #1f77b4\"/>\n",
       "   </g>\n",
       "   <g id=\"patch_9\">\n",
       "    <path d=\"M 109.128125 239.758125 \n",
       "L 114.200852 239.758125 \n",
       "L 114.200852 239.758125 \n",
       "L 109.128125 239.758125 \n",
       "z\n",
       "\" clip-path=\"url(#p11ac93f5bd)\" style=\"fill: #1f77b4\"/>\n",
       "   </g>\n",
       "   <g id=\"patch_10\">\n",
       "    <path d=\"M 114.200852 239.758125 \n",
       "L 119.27358 239.758125 \n",
       "L 119.27358 239.758125 \n",
       "L 114.200852 239.758125 \n",
       "z\n",
       "\" clip-path=\"url(#p11ac93f5bd)\" style=\"fill: #1f77b4\"/>\n",
       "   </g>\n",
       "   <g id=\"patch_11\">\n",
       "    <path d=\"M 119.27358 239.758125 \n",
       "L 124.346307 239.758125 \n",
       "L 124.346307 239.758125 \n",
       "L 119.27358 239.758125 \n",
       "z\n",
       "\" clip-path=\"url(#p11ac93f5bd)\" style=\"fill: #1f77b4\"/>\n",
       "   </g>\n",
       "   <g id=\"patch_12\">\n",
       "    <path d=\"M 124.346307 239.758125 \n",
       "L 129.419034 239.758125 \n",
       "L 129.419034 239.758125 \n",
       "L 124.346307 239.758125 \n",
       "z\n",
       "\" clip-path=\"url(#p11ac93f5bd)\" style=\"fill: #1f77b4\"/>\n",
       "   </g>\n",
       "   <g id=\"patch_13\">\n",
       "    <path d=\"M 129.419034 239.758125 \n",
       "L 134.491761 239.758125 \n",
       "L 134.491761 239.758125 \n",
       "L 129.419034 239.758125 \n",
       "z\n",
       "\" clip-path=\"url(#p11ac93f5bd)\" style=\"fill: #1f77b4\"/>\n",
       "   </g>\n",
       "   <g id=\"patch_14\">\n",
       "    <path d=\"M 134.491761 239.758125 \n",
       "L 139.564489 239.758125 \n",
       "L 139.564489 239.758125 \n",
       "L 134.491761 239.758125 \n",
       "z\n",
       "\" clip-path=\"url(#p11ac93f5bd)\" style=\"fill: #1f77b4\"/>\n",
       "   </g>\n",
       "   <g id=\"patch_15\">\n",
       "    <path d=\"M 139.564489 239.758125 \n",
       "L 144.637216 239.758125 \n",
       "L 144.637216 239.758125 \n",
       "L 139.564489 239.758125 \n",
       "z\n",
       "\" clip-path=\"url(#p11ac93f5bd)\" style=\"fill: #1f77b4\"/>\n",
       "   </g>\n",
       "   <g id=\"patch_16\">\n",
       "    <path d=\"M 144.637216 239.758125 \n",
       "L 149.709943 239.758125 \n",
       "L 149.709943 239.758125 \n",
       "L 144.637216 239.758125 \n",
       "z\n",
       "\" clip-path=\"url(#p11ac93f5bd)\" style=\"fill: #1f77b4\"/>\n",
       "   </g>\n",
       "   <g id=\"patch_17\">\n",
       "    <path d=\"M 149.709943 239.758125 \n",
       "L 154.78267 239.758125 \n",
       "L 154.78267 239.758125 \n",
       "L 149.709943 239.758125 \n",
       "z\n",
       "\" clip-path=\"url(#p11ac93f5bd)\" style=\"fill: #1f77b4\"/>\n",
       "   </g>\n",
       "   <g id=\"patch_18\">\n",
       "    <path d=\"M 154.78267 239.758125 \n",
       "L 159.855398 239.758125 \n",
       "L 159.855398 239.758125 \n",
       "L 154.78267 239.758125 \n",
       "z\n",
       "\" clip-path=\"url(#p11ac93f5bd)\" style=\"fill: #1f77b4\"/>\n",
       "   </g>\n",
       "   <g id=\"patch_19\">\n",
       "    <path d=\"M 159.855398 239.758125 \n",
       "L 164.928125 239.758125 \n",
       "L 164.928125 239.758125 \n",
       "L 159.855398 239.758125 \n",
       "z\n",
       "\" clip-path=\"url(#p11ac93f5bd)\" style=\"fill: #1f77b4\"/>\n",
       "   </g>\n",
       "   <g id=\"patch_20\">\n",
       "    <path d=\"M 164.928125 239.758125 \n",
       "L 170.000852 239.758125 \n",
       "L 170.000852 239.758125 \n",
       "L 164.928125 239.758125 \n",
       "z\n",
       "\" clip-path=\"url(#p11ac93f5bd)\" style=\"fill: #1f77b4\"/>\n",
       "   </g>\n",
       "   <g id=\"patch_21\">\n",
       "    <path d=\"M 170.000852 239.758125 \n",
       "L 175.07358 239.758125 \n",
       "L 175.07358 239.758125 \n",
       "L 170.000852 239.758125 \n",
       "z\n",
       "\" clip-path=\"url(#p11ac93f5bd)\" style=\"fill: #1f77b4\"/>\n",
       "   </g>\n",
       "   <g id=\"patch_22\">\n",
       "    <path d=\"M 175.07358 239.758125 \n",
       "L 180.146307 239.758125 \n",
       "L 180.146307 239.758125 \n",
       "L 175.07358 239.758125 \n",
       "z\n",
       "\" clip-path=\"url(#p11ac93f5bd)\" style=\"fill: #1f77b4\"/>\n",
       "   </g>\n",
       "   <g id=\"patch_23\">\n",
       "    <path d=\"M 180.146307 239.758125 \n",
       "L 185.219034 239.758125 \n",
       "L 185.219034 239.758125 \n",
       "L 180.146307 239.758125 \n",
       "z\n",
       "\" clip-path=\"url(#p11ac93f5bd)\" style=\"fill: #1f77b4\"/>\n",
       "   </g>\n",
       "   <g id=\"patch_24\">\n",
       "    <path d=\"M 185.219034 239.758125 \n",
       "L 190.291761 239.758125 \n",
       "L 190.291761 239.758125 \n",
       "L 185.219034 239.758125 \n",
       "z\n",
       "\" clip-path=\"url(#p11ac93f5bd)\" style=\"fill: #1f77b4\"/>\n",
       "   </g>\n",
       "   <g id=\"patch_25\">\n",
       "    <path d=\"M 190.291761 239.758125 \n",
       "L 195.364489 239.758125 \n",
       "L 195.364489 239.758125 \n",
       "L 190.291761 239.758125 \n",
       "z\n",
       "\" clip-path=\"url(#p11ac93f5bd)\" style=\"fill: #1f77b4\"/>\n",
       "   </g>\n",
       "   <g id=\"patch_26\">\n",
       "    <path d=\"M 195.364489 239.758125 \n",
       "L 200.437216 239.758125 \n",
       "L 200.437216 239.758125 \n",
       "L 195.364489 239.758125 \n",
       "z\n",
       "\" clip-path=\"url(#p11ac93f5bd)\" style=\"fill: #1f77b4\"/>\n",
       "   </g>\n",
       "   <g id=\"patch_27\">\n",
       "    <path d=\"M 200.437216 239.758125 \n",
       "L 205.509943 239.758125 \n",
       "L 205.509943 239.758125 \n",
       "L 200.437216 239.758125 \n",
       "z\n",
       "\" clip-path=\"url(#p11ac93f5bd)\" style=\"fill: #1f77b4\"/>\n",
       "   </g>\n",
       "   <g id=\"patch_28\">\n",
       "    <path d=\"M 205.509943 239.758125 \n",
       "L 210.58267 239.758125 \n",
       "L 210.58267 239.758125 \n",
       "L 205.509943 239.758125 \n",
       "z\n",
       "\" clip-path=\"url(#p11ac93f5bd)\" style=\"fill: #1f77b4\"/>\n",
       "   </g>\n",
       "   <g id=\"patch_29\">\n",
       "    <path d=\"M 210.58267 239.758125 \n",
       "L 215.655398 239.758125 \n",
       "L 215.655398 239.758125 \n",
       "L 210.58267 239.758125 \n",
       "z\n",
       "\" clip-path=\"url(#p11ac93f5bd)\" style=\"fill: #1f77b4\"/>\n",
       "   </g>\n",
       "   <g id=\"patch_30\">\n",
       "    <path d=\"M 215.655398 239.758125 \n",
       "L 220.728125 239.758125 \n",
       "L 220.728125 239.758125 \n",
       "L 215.655398 239.758125 \n",
       "z\n",
       "\" clip-path=\"url(#p11ac93f5bd)\" style=\"fill: #1f77b4\"/>\n",
       "   </g>\n",
       "   <g id=\"patch_31\">\n",
       "    <path d=\"M 220.728125 239.758125 \n",
       "L 225.800852 239.758125 \n",
       "L 225.800852 239.758125 \n",
       "L 220.728125 239.758125 \n",
       "z\n",
       "\" clip-path=\"url(#p11ac93f5bd)\" style=\"fill: #1f77b4\"/>\n",
       "   </g>\n",
       "   <g id=\"patch_32\">\n",
       "    <path d=\"M 225.800852 239.758125 \n",
       "L 230.87358 239.758125 \n",
       "L 230.87358 239.758125 \n",
       "L 225.800852 239.758125 \n",
       "z\n",
       "\" clip-path=\"url(#p11ac93f5bd)\" style=\"fill: #1f77b4\"/>\n",
       "   </g>\n",
       "   <g id=\"patch_33\">\n",
       "    <path d=\"M 230.87358 239.758125 \n",
       "L 235.946307 239.758125 \n",
       "L 235.946307 239.758125 \n",
       "L 230.87358 239.758125 \n",
       "z\n",
       "\" clip-path=\"url(#p11ac93f5bd)\" style=\"fill: #1f77b4\"/>\n",
       "   </g>\n",
       "   <g id=\"patch_34\">\n",
       "    <path d=\"M 235.946307 239.758125 \n",
       "L 241.019034 239.758125 \n",
       "L 241.019034 239.758125 \n",
       "L 235.946307 239.758125 \n",
       "z\n",
       "\" clip-path=\"url(#p11ac93f5bd)\" style=\"fill: #1f77b4\"/>\n",
       "   </g>\n",
       "   <g id=\"patch_35\">\n",
       "    <path d=\"M 241.019034 239.758125 \n",
       "L 246.091761 239.758125 \n",
       "L 246.091761 239.758125 \n",
       "L 241.019034 239.758125 \n",
       "z\n",
       "\" clip-path=\"url(#p11ac93f5bd)\" style=\"fill: #1f77b4\"/>\n",
       "   </g>\n",
       "   <g id=\"patch_36\">\n",
       "    <path d=\"M 246.091761 239.758125 \n",
       "L 251.164489 239.758125 \n",
       "L 251.164489 239.758125 \n",
       "L 246.091761 239.758125 \n",
       "z\n",
       "\" clip-path=\"url(#p11ac93f5bd)\" style=\"fill: #1f77b4\"/>\n",
       "   </g>\n",
       "   <g id=\"patch_37\">\n",
       "    <path d=\"M 251.164489 239.758125 \n",
       "L 256.237216 239.758125 \n",
       "L 256.237216 239.758125 \n",
       "L 251.164489 239.758125 \n",
       "z\n",
       "\" clip-path=\"url(#p11ac93f5bd)\" style=\"fill: #1f77b4\"/>\n",
       "   </g>\n",
       "   <g id=\"patch_38\">\n",
       "    <path d=\"M 256.237216 239.758125 \n",
       "L 261.309943 239.758125 \n",
       "L 261.309943 239.758125 \n",
       "L 256.237216 239.758125 \n",
       "z\n",
       "\" clip-path=\"url(#p11ac93f5bd)\" style=\"fill: #1f77b4\"/>\n",
       "   </g>\n",
       "   <g id=\"patch_39\">\n",
       "    <path d=\"M 261.309943 239.758125 \n",
       "L 266.38267 239.758125 \n",
       "L 266.38267 239.758125 \n",
       "L 261.309943 239.758125 \n",
       "z\n",
       "\" clip-path=\"url(#p11ac93f5bd)\" style=\"fill: #1f77b4\"/>\n",
       "   </g>\n",
       "   <g id=\"patch_40\">\n",
       "    <path d=\"M 266.38267 239.758125 \n",
       "L 271.455398 239.758125 \n",
       "L 271.455398 239.758125 \n",
       "L 266.38267 239.758125 \n",
       "z\n",
       "\" clip-path=\"url(#p11ac93f5bd)\" style=\"fill: #1f77b4\"/>\n",
       "   </g>\n",
       "   <g id=\"patch_41\">\n",
       "    <path d=\"M 271.455398 239.758125 \n",
       "L 276.528125 239.758125 \n",
       "L 276.528125 239.758125 \n",
       "L 271.455398 239.758125 \n",
       "z\n",
       "\" clip-path=\"url(#p11ac93f5bd)\" style=\"fill: #1f77b4\"/>\n",
       "   </g>\n",
       "   <g id=\"patch_42\">\n",
       "    <path d=\"M 276.528125 239.758125 \n",
       "L 281.600852 239.758125 \n",
       "L 281.600852 239.758125 \n",
       "L 276.528125 239.758125 \n",
       "z\n",
       "\" clip-path=\"url(#p11ac93f5bd)\" style=\"fill: #1f77b4\"/>\n",
       "   </g>\n",
       "   <g id=\"patch_43\">\n",
       "    <path d=\"M 281.600852 239.758125 \n",
       "L 286.67358 239.758125 \n",
       "L 286.67358 239.758125 \n",
       "L 281.600852 239.758125 \n",
       "z\n",
       "\" clip-path=\"url(#p11ac93f5bd)\" style=\"fill: #1f77b4\"/>\n",
       "   </g>\n",
       "   <g id=\"patch_44\">\n",
       "    <path d=\"M 286.67358 239.758125 \n",
       "L 291.746307 239.758125 \n",
       "L 291.746307 239.758125 \n",
       "L 286.67358 239.758125 \n",
       "z\n",
       "\" clip-path=\"url(#p11ac93f5bd)\" style=\"fill: #1f77b4\"/>\n",
       "   </g>\n",
       "   <g id=\"patch_45\">\n",
       "    <path d=\"M 291.746307 239.758125 \n",
       "L 296.819034 239.758125 \n",
       "L 296.819034 239.758125 \n",
       "L 291.746307 239.758125 \n",
       "z\n",
       "\" clip-path=\"url(#p11ac93f5bd)\" style=\"fill: #1f77b4\"/>\n",
       "   </g>\n",
       "   <g id=\"patch_46\">\n",
       "    <path d=\"M 296.819034 239.758125 \n",
       "L 301.891761 239.758125 \n",
       "L 301.891761 239.758125 \n",
       "L 296.819034 239.758125 \n",
       "z\n",
       "\" clip-path=\"url(#p11ac93f5bd)\" style=\"fill: #1f77b4\"/>\n",
       "   </g>\n",
       "   <g id=\"patch_47\">\n",
       "    <path d=\"M 301.891761 239.758125 \n",
       "L 306.964489 239.758125 \n",
       "L 306.964489 239.758125 \n",
       "L 301.891761 239.758125 \n",
       "z\n",
       "\" clip-path=\"url(#p11ac93f5bd)\" style=\"fill: #1f77b4\"/>\n",
       "   </g>\n",
       "   <g id=\"patch_48\">\n",
       "    <path d=\"M 306.964489 239.758125 \n",
       "L 312.037216 239.758125 \n",
       "L 312.037216 239.758125 \n",
       "L 306.964489 239.758125 \n",
       "z\n",
       "\" clip-path=\"url(#p11ac93f5bd)\" style=\"fill: #1f77b4\"/>\n",
       "   </g>\n",
       "   <g id=\"patch_49\">\n",
       "    <path d=\"M 312.037216 239.758125 \n",
       "L 317.109943 239.758125 \n",
       "L 317.109943 239.758125 \n",
       "L 312.037216 239.758125 \n",
       "z\n",
       "\" clip-path=\"url(#p11ac93f5bd)\" style=\"fill: #1f77b4\"/>\n",
       "   </g>\n",
       "   <g id=\"patch_50\">\n",
       "    <path d=\"M 317.109943 239.758125 \n",
       "L 322.18267 239.758125 \n",
       "L 322.18267 239.758125 \n",
       "L 317.109943 239.758125 \n",
       "z\n",
       "\" clip-path=\"url(#p11ac93f5bd)\" style=\"fill: #1f77b4\"/>\n",
       "   </g>\n",
       "   <g id=\"patch_51\">\n",
       "    <path d=\"M 322.18267 239.758125 \n",
       "L 327.255398 239.758125 \n",
       "L 327.255398 239.758125 \n",
       "L 322.18267 239.758125 \n",
       "z\n",
       "\" clip-path=\"url(#p11ac93f5bd)\" style=\"fill: #1f77b4\"/>\n",
       "   </g>\n",
       "   <g id=\"patch_52\">\n",
       "    <path d=\"M 327.255398 239.758125 \n",
       "L 332.328125 239.758125 \n",
       "L 332.328125 239.758125 \n",
       "L 327.255398 239.758125 \n",
       "z\n",
       "\" clip-path=\"url(#p11ac93f5bd)\" style=\"fill: #1f77b4\"/>\n",
       "   </g>\n",
       "   <g id=\"patch_53\">\n",
       "    <path d=\"M 332.328125 239.758125 \n",
       "L 337.400852 239.758125 \n",
       "L 337.400852 32.672411 \n",
       "L 332.328125 32.672411 \n",
       "z\n",
       "\" clip-path=\"url(#p11ac93f5bd)\" style=\"fill: #1f77b4\"/>\n",
       "   </g>\n",
       "   <g id=\"patch_54\">\n",
       "    <path d=\"M 337.400852 239.758125 \n",
       "L 342.47358 239.758125 \n",
       "L 342.47358 239.758125 \n",
       "L 337.400852 239.758125 \n",
       "z\n",
       "\" clip-path=\"url(#p11ac93f5bd)\" style=\"fill: #1f77b4\"/>\n",
       "   </g>\n",
       "   <g id=\"patch_55\">\n",
       "    <path d=\"M 342.47358 239.758125 \n",
       "L 347.546307 239.758125 \n",
       "L 347.546307 239.758125 \n",
       "L 342.47358 239.758125 \n",
       "z\n",
       "\" clip-path=\"url(#p11ac93f5bd)\" style=\"fill: #1f77b4\"/>\n",
       "   </g>\n",
       "   <g id=\"patch_56\">\n",
       "    <path d=\"M 347.546307 239.758125 \n",
       "L 352.619034 239.758125 \n",
       "L 352.619034 239.758125 \n",
       "L 347.546307 239.758125 \n",
       "z\n",
       "\" clip-path=\"url(#p11ac93f5bd)\" style=\"fill: #1f77b4\"/>\n",
       "   </g>\n",
       "   <g id=\"patch_57\">\n",
       "    <path d=\"M 352.619034 239.758125 \n",
       "L 357.691761 239.758125 \n",
       "L 357.691761 239.758125 \n",
       "L 352.619034 239.758125 \n",
       "z\n",
       "\" clip-path=\"url(#p11ac93f5bd)\" style=\"fill: #1f77b4\"/>\n",
       "   </g>\n",
       "   <g id=\"patch_58\">\n",
       "    <path d=\"M 357.691761 239.758125 \n",
       "L 362.764489 239.758125 \n",
       "L 362.764489 239.758125 \n",
       "L 357.691761 239.758125 \n",
       "z\n",
       "\" clip-path=\"url(#p11ac93f5bd)\" style=\"fill: #1f77b4\"/>\n",
       "   </g>\n",
       "   <g id=\"patch_59\">\n",
       "    <path d=\"M 362.764489 239.758125 \n",
       "L 367.837216 239.758125 \n",
       "L 367.837216 239.758125 \n",
       "L 362.764489 239.758125 \n",
       "z\n",
       "\" clip-path=\"url(#p11ac93f5bd)\" style=\"fill: #1f77b4\"/>\n",
       "   </g>\n",
       "   <g id=\"patch_60\">\n",
       "    <path d=\"M 367.837216 239.758125 \n",
       "L 372.909943 239.758125 \n",
       "L 372.909943 239.758125 \n",
       "L 367.837216 239.758125 \n",
       "z\n",
       "\" clip-path=\"url(#p11ac93f5bd)\" style=\"fill: #1f77b4\"/>\n",
       "   </g>\n",
       "   <g id=\"patch_61\">\n",
       "    <path d=\"M 372.909943 239.758125 \n",
       "L 377.98267 239.758125 \n",
       "L 377.98267 239.758125 \n",
       "L 372.909943 239.758125 \n",
       "z\n",
       "\" clip-path=\"url(#p11ac93f5bd)\" style=\"fill: #1f77b4\"/>\n",
       "   </g>\n",
       "   <g id=\"patch_62\">\n",
       "    <path d=\"M 377.98267 239.758125 \n",
       "L 383.055398 239.758125 \n",
       "L 383.055398 239.758125 \n",
       "L 377.98267 239.758125 \n",
       "z\n",
       "\" clip-path=\"url(#p11ac93f5bd)\" style=\"fill: #1f77b4\"/>\n",
       "   </g>\n",
       "   <g id=\"patch_63\">\n",
       "    <path d=\"M 383.055398 239.758125 \n",
       "L 388.128125 239.758125 \n",
       "L 388.128125 239.758125 \n",
       "L 383.055398 239.758125 \n",
       "z\n",
       "\" clip-path=\"url(#p11ac93f5bd)\" style=\"fill: #1f77b4\"/>\n",
       "   </g>\n",
       "   <g id=\"patch_64\">\n",
       "    <path d=\"M 388.128125 239.758125 \n",
       "L 393.200852 239.758125 \n",
       "L 393.200852 239.758125 \n",
       "L 388.128125 239.758125 \n",
       "z\n",
       "\" clip-path=\"url(#p11ac93f5bd)\" style=\"fill: #1f77b4\"/>\n",
       "   </g>\n",
       "   <g id=\"patch_65\">\n",
       "    <path d=\"M 393.200852 239.758125 \n",
       "L 398.27358 239.758125 \n",
       "L 398.27358 239.758125 \n",
       "L 393.200852 239.758125 \n",
       "z\n",
       "\" clip-path=\"url(#p11ac93f5bd)\" style=\"fill: #1f77b4\"/>\n",
       "   </g>\n",
       "   <g id=\"patch_66\">\n",
       "    <path d=\"M 398.27358 239.758125 \n",
       "L 403.346307 239.758125 \n",
       "L 403.346307 239.758125 \n",
       "L 398.27358 239.758125 \n",
       "z\n",
       "\" clip-path=\"url(#p11ac93f5bd)\" style=\"fill: #1f77b4\"/>\n",
       "   </g>\n",
       "   <g id=\"patch_67\">\n",
       "    <path d=\"M 403.346307 239.758125 \n",
       "L 408.419034 239.758125 \n",
       "L 408.419034 239.758125 \n",
       "L 403.346307 239.758125 \n",
       "z\n",
       "\" clip-path=\"url(#p11ac93f5bd)\" style=\"fill: #1f77b4\"/>\n",
       "   </g>\n",
       "   <g id=\"patch_68\">\n",
       "    <path d=\"M 408.419034 239.758125 \n",
       "L 413.491761 239.758125 \n",
       "L 413.491761 239.758125 \n",
       "L 408.419034 239.758125 \n",
       "z\n",
       "\" clip-path=\"url(#p11ac93f5bd)\" style=\"fill: #1f77b4\"/>\n",
       "   </g>\n",
       "   <g id=\"patch_69\">\n",
       "    <path d=\"M 413.491761 239.758125 \n",
       "L 418.564489 239.758125 \n",
       "L 418.564489 239.758125 \n",
       "L 413.491761 239.758125 \n",
       "z\n",
       "\" clip-path=\"url(#p11ac93f5bd)\" style=\"fill: #1f77b4\"/>\n",
       "   </g>\n",
       "   <g id=\"patch_70\">\n",
       "    <path d=\"M 418.564489 239.758125 \n",
       "L 423.637216 239.758125 \n",
       "L 423.637216 239.758125 \n",
       "L 418.564489 239.758125 \n",
       "z\n",
       "\" clip-path=\"url(#p11ac93f5bd)\" style=\"fill: #1f77b4\"/>\n",
       "   </g>\n",
       "   <g id=\"patch_71\">\n",
       "    <path d=\"M 423.637216 239.758125 \n",
       "L 428.709943 239.758125 \n",
       "L 428.709943 239.758125 \n",
       "L 423.637216 239.758125 \n",
       "z\n",
       "\" clip-path=\"url(#p11ac93f5bd)\" style=\"fill: #1f77b4\"/>\n",
       "   </g>\n",
       "   <g id=\"patch_72\">\n",
       "    <path d=\"M 428.709943 239.758125 \n",
       "L 433.78267 239.758125 \n",
       "L 433.78267 239.758125 \n",
       "L 428.709943 239.758125 \n",
       "z\n",
       "\" clip-path=\"url(#p11ac93f5bd)\" style=\"fill: #1f77b4\"/>\n",
       "   </g>\n",
       "   <g id=\"patch_73\">\n",
       "    <path d=\"M 433.78267 239.758125 \n",
       "L 438.855398 239.758125 \n",
       "L 438.855398 239.758125 \n",
       "L 433.78267 239.758125 \n",
       "z\n",
       "\" clip-path=\"url(#p11ac93f5bd)\" style=\"fill: #1f77b4\"/>\n",
       "   </g>\n",
       "   <g id=\"patch_74\">\n",
       "    <path d=\"M 438.855398 239.758125 \n",
       "L 443.928125 239.758125 \n",
       "L 443.928125 239.758125 \n",
       "L 438.855398 239.758125 \n",
       "z\n",
       "\" clip-path=\"url(#p11ac93f5bd)\" style=\"fill: #1f77b4\"/>\n",
       "   </g>\n",
       "   <g id=\"patch_75\">\n",
       "    <path d=\"M 443.928125 239.758125 \n",
       "L 449.000852 239.758125 \n",
       "L 449.000852 239.758125 \n",
       "L 443.928125 239.758125 \n",
       "z\n",
       "\" clip-path=\"url(#p11ac93f5bd)\" style=\"fill: #1f77b4\"/>\n",
       "   </g>\n",
       "   <g id=\"patch_76\">\n",
       "    <path d=\"M 449.000852 239.758125 \n",
       "L 454.07358 239.758125 \n",
       "L 454.07358 239.758125 \n",
       "L 449.000852 239.758125 \n",
       "z\n",
       "\" clip-path=\"url(#p11ac93f5bd)\" style=\"fill: #1f77b4\"/>\n",
       "   </g>\n",
       "   <g id=\"patch_77\">\n",
       "    <path d=\"M 454.07358 239.758125 \n",
       "L 459.146307 239.758125 \n",
       "L 459.146307 239.758125 \n",
       "L 454.07358 239.758125 \n",
       "z\n",
       "\" clip-path=\"url(#p11ac93f5bd)\" style=\"fill: #1f77b4\"/>\n",
       "   </g>\n",
       "   <g id=\"patch_78\">\n",
       "    <path d=\"M 459.146307 239.758125 \n",
       "L 464.219034 239.758125 \n",
       "L 464.219034 239.758125 \n",
       "L 459.146307 239.758125 \n",
       "z\n",
       "\" clip-path=\"url(#p11ac93f5bd)\" style=\"fill: #1f77b4\"/>\n",
       "   </g>\n",
       "   <g id=\"patch_79\">\n",
       "    <path d=\"M 464.219034 239.758125 \n",
       "L 469.291761 239.758125 \n",
       "L 469.291761 239.758125 \n",
       "L 464.219034 239.758125 \n",
       "z\n",
       "\" clip-path=\"url(#p11ac93f5bd)\" style=\"fill: #1f77b4\"/>\n",
       "   </g>\n",
       "   <g id=\"patch_80\">\n",
       "    <path d=\"M 469.291761 239.758125 \n",
       "L 474.364489 239.758125 \n",
       "L 474.364489 239.758125 \n",
       "L 469.291761 239.758125 \n",
       "z\n",
       "\" clip-path=\"url(#p11ac93f5bd)\" style=\"fill: #1f77b4\"/>\n",
       "   </g>\n",
       "   <g id=\"patch_81\">\n",
       "    <path d=\"M 474.364489 239.758125 \n",
       "L 479.437216 239.758125 \n",
       "L 479.437216 239.758125 \n",
       "L 474.364489 239.758125 \n",
       "z\n",
       "\" clip-path=\"url(#p11ac93f5bd)\" style=\"fill: #1f77b4\"/>\n",
       "   </g>\n",
       "   <g id=\"patch_82\">\n",
       "    <path d=\"M 479.437216 239.758125 \n",
       "L 484.509943 239.758125 \n",
       "L 484.509943 239.758125 \n",
       "L 479.437216 239.758125 \n",
       "z\n",
       "\" clip-path=\"url(#p11ac93f5bd)\" style=\"fill: #1f77b4\"/>\n",
       "   </g>\n",
       "   <g id=\"patch_83\">\n",
       "    <path d=\"M 484.509943 239.758125 \n",
       "L 489.58267 239.758125 \n",
       "L 489.58267 239.758125 \n",
       "L 484.509943 239.758125 \n",
       "z\n",
       "\" clip-path=\"url(#p11ac93f5bd)\" style=\"fill: #1f77b4\"/>\n",
       "   </g>\n",
       "   <g id=\"patch_84\">\n",
       "    <path d=\"M 489.58267 239.758125 \n",
       "L 494.655398 239.758125 \n",
       "L 494.655398 239.758125 \n",
       "L 489.58267 239.758125 \n",
       "z\n",
       "\" clip-path=\"url(#p11ac93f5bd)\" style=\"fill: #1f77b4\"/>\n",
       "   </g>\n",
       "   <g id=\"patch_85\">\n",
       "    <path d=\"M 494.655398 239.758125 \n",
       "L 499.728125 239.758125 \n",
       "L 499.728125 239.758125 \n",
       "L 494.655398 239.758125 \n",
       "z\n",
       "\" clip-path=\"url(#p11ac93f5bd)\" style=\"fill: #1f77b4\"/>\n",
       "   </g>\n",
       "   <g id=\"patch_86\">\n",
       "    <path d=\"M 499.728125 239.758125 \n",
       "L 504.800852 239.758125 \n",
       "L 504.800852 239.758125 \n",
       "L 499.728125 239.758125 \n",
       "z\n",
       "\" clip-path=\"url(#p11ac93f5bd)\" style=\"fill: #1f77b4\"/>\n",
       "   </g>\n",
       "   <g id=\"patch_87\">\n",
       "    <path d=\"M 504.800852 239.758125 \n",
       "L 509.87358 239.758125 \n",
       "L 509.87358 239.758125 \n",
       "L 504.800852 239.758125 \n",
       "z\n",
       "\" clip-path=\"url(#p11ac93f5bd)\" style=\"fill: #1f77b4\"/>\n",
       "   </g>\n",
       "   <g id=\"patch_88\">\n",
       "    <path d=\"M 509.87358 239.758125 \n",
       "L 514.946307 239.758125 \n",
       "L 514.946307 239.758125 \n",
       "L 509.87358 239.758125 \n",
       "z\n",
       "\" clip-path=\"url(#p11ac93f5bd)\" style=\"fill: #1f77b4\"/>\n",
       "   </g>\n",
       "   <g id=\"patch_89\">\n",
       "    <path d=\"M 514.946307 239.758125 \n",
       "L 520.019034 239.758125 \n",
       "L 520.019034 239.758125 \n",
       "L 514.946307 239.758125 \n",
       "z\n",
       "\" clip-path=\"url(#p11ac93f5bd)\" style=\"fill: #1f77b4\"/>\n",
       "   </g>\n",
       "   <g id=\"patch_90\">\n",
       "    <path d=\"M 520.019034 239.758125 \n",
       "L 525.091761 239.758125 \n",
       "L 525.091761 239.758125 \n",
       "L 520.019034 239.758125 \n",
       "z\n",
       "\" clip-path=\"url(#p11ac93f5bd)\" style=\"fill: #1f77b4\"/>\n",
       "   </g>\n",
       "   <g id=\"patch_91\">\n",
       "    <path d=\"M 525.091761 239.758125 \n",
       "L 530.164489 239.758125 \n",
       "L 530.164489 239.758125 \n",
       "L 525.091761 239.758125 \n",
       "z\n",
       "\" clip-path=\"url(#p11ac93f5bd)\" style=\"fill: #1f77b4\"/>\n",
       "   </g>\n",
       "   <g id=\"patch_92\">\n",
       "    <path d=\"M 530.164489 239.758125 \n",
       "L 535.237216 239.758125 \n",
       "L 535.237216 239.758125 \n",
       "L 530.164489 239.758125 \n",
       "z\n",
       "\" clip-path=\"url(#p11ac93f5bd)\" style=\"fill: #1f77b4\"/>\n",
       "   </g>\n",
       "   <g id=\"patch_93\">\n",
       "    <path d=\"M 535.237216 239.758125 \n",
       "L 540.309943 239.758125 \n",
       "L 540.309943 239.758125 \n",
       "L 535.237216 239.758125 \n",
       "z\n",
       "\" clip-path=\"url(#p11ac93f5bd)\" style=\"fill: #1f77b4\"/>\n",
       "   </g>\n",
       "   <g id=\"patch_94\">\n",
       "    <path d=\"M 540.309943 239.758125 \n",
       "L 545.38267 239.758125 \n",
       "L 545.38267 239.758125 \n",
       "L 540.309943 239.758125 \n",
       "z\n",
       "\" clip-path=\"url(#p11ac93f5bd)\" style=\"fill: #1f77b4\"/>\n",
       "   </g>\n",
       "   <g id=\"patch_95\">\n",
       "    <path d=\"M 545.38267 239.758125 \n",
       "L 550.455398 239.758125 \n",
       "L 550.455398 239.758125 \n",
       "L 545.38267 239.758125 \n",
       "z\n",
       "\" clip-path=\"url(#p11ac93f5bd)\" style=\"fill: #1f77b4\"/>\n",
       "   </g>\n",
       "   <g id=\"patch_96\">\n",
       "    <path d=\"M 550.455398 239.758125 \n",
       "L 555.528125 239.758125 \n",
       "L 555.528125 239.758125 \n",
       "L 550.455398 239.758125 \n",
       "z\n",
       "\" clip-path=\"url(#p11ac93f5bd)\" style=\"fill: #1f77b4\"/>\n",
       "   </g>\n",
       "   <g id=\"patch_97\">\n",
       "    <path d=\"M 555.528125 239.758125 \n",
       "L 560.600852 239.758125 \n",
       "L 560.600852 239.758125 \n",
       "L 555.528125 239.758125 \n",
       "z\n",
       "\" clip-path=\"url(#p11ac93f5bd)\" style=\"fill: #1f77b4\"/>\n",
       "   </g>\n",
       "   <g id=\"patch_98\">\n",
       "    <path d=\"M 560.600852 239.758125 \n",
       "L 565.67358 239.758125 \n",
       "L 565.67358 239.758125 \n",
       "L 560.600852 239.758125 \n",
       "z\n",
       "\" clip-path=\"url(#p11ac93f5bd)\" style=\"fill: #1f77b4\"/>\n",
       "   </g>\n",
       "   <g id=\"patch_99\">\n",
       "    <path d=\"M 565.67358 239.758125 \n",
       "L 570.746307 239.758125 \n",
       "L 570.746307 239.758125 \n",
       "L 565.67358 239.758125 \n",
       "z\n",
       "\" clip-path=\"url(#p11ac93f5bd)\" style=\"fill: #1f77b4\"/>\n",
       "   </g>\n",
       "   <g id=\"patch_100\">\n",
       "    <path d=\"M 570.746307 239.758125 \n",
       "L 575.819034 239.758125 \n",
       "L 575.819034 239.758125 \n",
       "L 570.746307 239.758125 \n",
       "z\n",
       "\" clip-path=\"url(#p11ac93f5bd)\" style=\"fill: #1f77b4\"/>\n",
       "   </g>\n",
       "   <g id=\"patch_101\">\n",
       "    <path d=\"M 575.819034 239.758125 \n",
       "L 580.891761 239.758125 \n",
       "L 580.891761 239.758125 \n",
       "L 575.819034 239.758125 \n",
       "z\n",
       "\" clip-path=\"url(#p11ac93f5bd)\" style=\"fill: #1f77b4\"/>\n",
       "   </g>\n",
       "   <g id=\"patch_102\">\n",
       "    <path d=\"M 580.891761 239.758125 \n",
       "L 585.964489 239.758125 \n",
       "L 585.964489 239.758125 \n",
       "L 580.891761 239.758125 \n",
       "z\n",
       "\" clip-path=\"url(#p11ac93f5bd)\" style=\"fill: #1f77b4\"/>\n",
       "   </g>\n",
       "   <g id=\"matplotlib.axis_1\">\n",
       "    <g id=\"xtick_1\">\n",
       "     <g id=\"line2d_1\">\n",
       "      <defs>\n",
       "       <path id=\"ma2e24db0c3\" d=\"M 0 0 \n",
       "L 0 3.5 \n",
       "\" style=\"stroke: #000000; stroke-width: 0.8\"/>\n",
       "      </defs>\n",
       "      <g>\n",
       "       <use xlink:href=\"#ma2e24db0c3\" x=\"129.419034\" y=\"239.758125\" style=\"stroke: #000000; stroke-width: 0.8\"/>\n",
       "      </g>\n",
       "     </g>\n",
       "     <g id=\"text_1\">\n",
       "      <!-- 499.6 -->\n",
       "      <g transform=\"translate(115.104972 254.356563)scale(0.1 -0.1)\">\n",
       "       <defs>\n",
       "        <path id=\"DejaVuSans-34\" d=\"M 2419 4116 \n",
       "L 825 1625 \n",
       "L 2419 1625 \n",
       "L 2419 4116 \n",
       "z\n",
       "M 2253 4666 \n",
       "L 3047 4666 \n",
       "L 3047 1625 \n",
       "L 3713 1625 \n",
       "L 3713 1100 \n",
       "L 3047 1100 \n",
       "L 3047 0 \n",
       "L 2419 0 \n",
       "L 2419 1100 \n",
       "L 313 1100 \n",
       "L 313 1709 \n",
       "L 2253 4666 \n",
       "z\n",
       "\" transform=\"scale(0.015625)\"/>\n",
       "        <path id=\"DejaVuSans-39\" d=\"M 703 97 \n",
       "L 703 672 \n",
       "Q 941 559 1184 500 \n",
       "Q 1428 441 1663 441 \n",
       "Q 2288 441 2617 861 \n",
       "Q 2947 1281 2994 2138 \n",
       "Q 2813 1869 2534 1725 \n",
       "Q 2256 1581 1919 1581 \n",
       "Q 1219 1581 811 2004 \n",
       "Q 403 2428 403 3163 \n",
       "Q 403 3881 828 4315 \n",
       "Q 1253 4750 1959 4750 \n",
       "Q 2769 4750 3195 4129 \n",
       "Q 3622 3509 3622 2328 \n",
       "Q 3622 1225 3098 567 \n",
       "Q 2575 -91 1691 -91 \n",
       "Q 1453 -91 1209 -44 \n",
       "Q 966 3 703 97 \n",
       "z\n",
       "M 1959 2075 \n",
       "Q 2384 2075 2632 2365 \n",
       "Q 2881 2656 2881 3163 \n",
       "Q 2881 3666 2632 3958 \n",
       "Q 2384 4250 1959 4250 \n",
       "Q 1534 4250 1286 3958 \n",
       "Q 1038 3666 1038 3163 \n",
       "Q 1038 2656 1286 2365 \n",
       "Q 1534 2075 1959 2075 \n",
       "z\n",
       "\" transform=\"scale(0.015625)\"/>\n",
       "        <path id=\"DejaVuSans-2e\" d=\"M 684 794 \n",
       "L 1344 794 \n",
       "L 1344 0 \n",
       "L 684 0 \n",
       "L 684 794 \n",
       "z\n",
       "\" transform=\"scale(0.015625)\"/>\n",
       "        <path id=\"DejaVuSans-36\" d=\"M 2113 2584 \n",
       "Q 1688 2584 1439 2293 \n",
       "Q 1191 2003 1191 1497 \n",
       "Q 1191 994 1439 701 \n",
       "Q 1688 409 2113 409 \n",
       "Q 2538 409 2786 701 \n",
       "Q 3034 994 3034 1497 \n",
       "Q 3034 2003 2786 2293 \n",
       "Q 2538 2584 2113 2584 \n",
       "z\n",
       "M 3366 4563 \n",
       "L 3366 3988 \n",
       "Q 3128 4100 2886 4159 \n",
       "Q 2644 4219 2406 4219 \n",
       "Q 1781 4219 1451 3797 \n",
       "Q 1122 3375 1075 2522 \n",
       "Q 1259 2794 1537 2939 \n",
       "Q 1816 3084 2150 3084 \n",
       "Q 2853 3084 3261 2657 \n",
       "Q 3669 2231 3669 1497 \n",
       "Q 3669 778 3244 343 \n",
       "Q 2819 -91 2113 -91 \n",
       "Q 1303 -91 875 529 \n",
       "Q 447 1150 447 2328 \n",
       "Q 447 3434 972 4092 \n",
       "Q 1497 4750 2381 4750 \n",
       "Q 2619 4750 2861 4703 \n",
       "Q 3103 4656 3366 4563 \n",
       "z\n",
       "\" transform=\"scale(0.015625)\"/>\n",
       "       </defs>\n",
       "       <use xlink:href=\"#DejaVuSans-34\"/>\n",
       "       <use xlink:href=\"#DejaVuSans-39\" x=\"63.623047\"/>\n",
       "       <use xlink:href=\"#DejaVuSans-39\" x=\"127.246094\"/>\n",
       "       <use xlink:href=\"#DejaVuSans-2e\" x=\"190.869141\"/>\n",
       "       <use xlink:href=\"#DejaVuSans-36\" x=\"222.65625\"/>\n",
       "      </g>\n",
       "     </g>\n",
       "    </g>\n",
       "    <g id=\"xtick_2\">\n",
       "     <g id=\"line2d_2\">\n",
       "      <g>\n",
       "       <use xlink:href=\"#ma2e24db0c3\" x=\"230.87358\" y=\"239.758125\" style=\"stroke: #000000; stroke-width: 0.8\"/>\n",
       "      </g>\n",
       "     </g>\n",
       "     <g id=\"text_2\">\n",
       "      <!-- 499.8 -->\n",
       "      <g transform=\"translate(216.559517 254.356563)scale(0.1 -0.1)\">\n",
       "       <defs>\n",
       "        <path id=\"DejaVuSans-38\" d=\"M 2034 2216 \n",
       "Q 1584 2216 1326 1975 \n",
       "Q 1069 1734 1069 1313 \n",
       "Q 1069 891 1326 650 \n",
       "Q 1584 409 2034 409 \n",
       "Q 2484 409 2743 651 \n",
       "Q 3003 894 3003 1313 \n",
       "Q 3003 1734 2745 1975 \n",
       "Q 2488 2216 2034 2216 \n",
       "z\n",
       "M 1403 2484 \n",
       "Q 997 2584 770 2862 \n",
       "Q 544 3141 544 3541 \n",
       "Q 544 4100 942 4425 \n",
       "Q 1341 4750 2034 4750 \n",
       "Q 2731 4750 3128 4425 \n",
       "Q 3525 4100 3525 3541 \n",
       "Q 3525 3141 3298 2862 \n",
       "Q 3072 2584 2669 2484 \n",
       "Q 3125 2378 3379 2068 \n",
       "Q 3634 1759 3634 1313 \n",
       "Q 3634 634 3220 271 \n",
       "Q 2806 -91 2034 -91 \n",
       "Q 1263 -91 848 271 \n",
       "Q 434 634 434 1313 \n",
       "Q 434 1759 690 2068 \n",
       "Q 947 2378 1403 2484 \n",
       "z\n",
       "M 1172 3481 \n",
       "Q 1172 3119 1398 2916 \n",
       "Q 1625 2713 2034 2713 \n",
       "Q 2441 2713 2670 2916 \n",
       "Q 2900 3119 2900 3481 \n",
       "Q 2900 3844 2670 4047 \n",
       "Q 2441 4250 2034 4250 \n",
       "Q 1625 4250 1398 4047 \n",
       "Q 1172 3844 1172 3481 \n",
       "z\n",
       "\" transform=\"scale(0.015625)\"/>\n",
       "       </defs>\n",
       "       <use xlink:href=\"#DejaVuSans-34\"/>\n",
       "       <use xlink:href=\"#DejaVuSans-39\" x=\"63.623047\"/>\n",
       "       <use xlink:href=\"#DejaVuSans-39\" x=\"127.246094\"/>\n",
       "       <use xlink:href=\"#DejaVuSans-2e\" x=\"190.869141\"/>\n",
       "       <use xlink:href=\"#DejaVuSans-38\" x=\"222.65625\"/>\n",
       "      </g>\n",
       "     </g>\n",
       "    </g>\n",
       "    <g id=\"xtick_3\">\n",
       "     <g id=\"line2d_3\">\n",
       "      <g>\n",
       "       <use xlink:href=\"#ma2e24db0c3\" x=\"332.328125\" y=\"239.758125\" style=\"stroke: #000000; stroke-width: 0.8\"/>\n",
       "      </g>\n",
       "     </g>\n",
       "     <g id=\"text_3\">\n",
       "      <!-- 500.0 -->\n",
       "      <g transform=\"translate(318.014063 254.356563)scale(0.1 -0.1)\">\n",
       "       <defs>\n",
       "        <path id=\"DejaVuSans-35\" d=\"M 691 4666 \n",
       "L 3169 4666 \n",
       "L 3169 4134 \n",
       "L 1269 4134 \n",
       "L 1269 2991 \n",
       "Q 1406 3038 1543 3061 \n",
       "Q 1681 3084 1819 3084 \n",
       "Q 2600 3084 3056 2656 \n",
       "Q 3513 2228 3513 1497 \n",
       "Q 3513 744 3044 326 \n",
       "Q 2575 -91 1722 -91 \n",
       "Q 1428 -91 1123 -41 \n",
       "Q 819 9 494 109 \n",
       "L 494 744 \n",
       "Q 775 591 1075 516 \n",
       "Q 1375 441 1709 441 \n",
       "Q 2250 441 2565 725 \n",
       "Q 2881 1009 2881 1497 \n",
       "Q 2881 1984 2565 2268 \n",
       "Q 2250 2553 1709 2553 \n",
       "Q 1456 2553 1204 2497 \n",
       "Q 953 2441 691 2322 \n",
       "L 691 4666 \n",
       "z\n",
       "\" transform=\"scale(0.015625)\"/>\n",
       "        <path id=\"DejaVuSans-30\" d=\"M 2034 4250 \n",
       "Q 1547 4250 1301 3770 \n",
       "Q 1056 3291 1056 2328 \n",
       "Q 1056 1369 1301 889 \n",
       "Q 1547 409 2034 409 \n",
       "Q 2525 409 2770 889 \n",
       "Q 3016 1369 3016 2328 \n",
       "Q 3016 3291 2770 3770 \n",
       "Q 2525 4250 2034 4250 \n",
       "z\n",
       "M 2034 4750 \n",
       "Q 2819 4750 3233 4129 \n",
       "Q 3647 3509 3647 2328 \n",
       "Q 3647 1150 3233 529 \n",
       "Q 2819 -91 2034 -91 \n",
       "Q 1250 -91 836 529 \n",
       "Q 422 1150 422 2328 \n",
       "Q 422 3509 836 4129 \n",
       "Q 1250 4750 2034 4750 \n",
       "z\n",
       "\" transform=\"scale(0.015625)\"/>\n",
       "       </defs>\n",
       "       <use xlink:href=\"#DejaVuSans-35\"/>\n",
       "       <use xlink:href=\"#DejaVuSans-30\" x=\"63.623047\"/>\n",
       "       <use xlink:href=\"#DejaVuSans-30\" x=\"127.246094\"/>\n",
       "       <use xlink:href=\"#DejaVuSans-2e\" x=\"190.869141\"/>\n",
       "       <use xlink:href=\"#DejaVuSans-30\" x=\"222.65625\"/>\n",
       "      </g>\n",
       "     </g>\n",
       "    </g>\n",
       "    <g id=\"xtick_4\">\n",
       "     <g id=\"line2d_4\">\n",
       "      <g>\n",
       "       <use xlink:href=\"#ma2e24db0c3\" x=\"433.78267\" y=\"239.758125\" style=\"stroke: #000000; stroke-width: 0.8\"/>\n",
       "      </g>\n",
       "     </g>\n",
       "     <g id=\"text_4\">\n",
       "      <!-- 500.2 -->\n",
       "      <g transform=\"translate(419.468608 254.356563)scale(0.1 -0.1)\">\n",
       "       <defs>\n",
       "        <path id=\"DejaVuSans-32\" d=\"M 1228 531 \n",
       "L 3431 531 \n",
       "L 3431 0 \n",
       "L 469 0 \n",
       "L 469 531 \n",
       "Q 828 903 1448 1529 \n",
       "Q 2069 2156 2228 2338 \n",
       "Q 2531 2678 2651 2914 \n",
       "Q 2772 3150 2772 3378 \n",
       "Q 2772 3750 2511 3984 \n",
       "Q 2250 4219 1831 4219 \n",
       "Q 1534 4219 1204 4116 \n",
       "Q 875 4013 500 3803 \n",
       "L 500 4441 \n",
       "Q 881 4594 1212 4672 \n",
       "Q 1544 4750 1819 4750 \n",
       "Q 2544 4750 2975 4387 \n",
       "Q 3406 4025 3406 3419 \n",
       "Q 3406 3131 3298 2873 \n",
       "Q 3191 2616 2906 2266 \n",
       "Q 2828 2175 2409 1742 \n",
       "Q 1991 1309 1228 531 \n",
       "z\n",
       "\" transform=\"scale(0.015625)\"/>\n",
       "       </defs>\n",
       "       <use xlink:href=\"#DejaVuSans-35\"/>\n",
       "       <use xlink:href=\"#DejaVuSans-30\" x=\"63.623047\"/>\n",
       "       <use xlink:href=\"#DejaVuSans-30\" x=\"127.246094\"/>\n",
       "       <use xlink:href=\"#DejaVuSans-2e\" x=\"190.869141\"/>\n",
       "       <use xlink:href=\"#DejaVuSans-32\" x=\"222.65625\"/>\n",
       "      </g>\n",
       "     </g>\n",
       "    </g>\n",
       "    <g id=\"xtick_5\">\n",
       "     <g id=\"line2d_5\">\n",
       "      <g>\n",
       "       <use xlink:href=\"#ma2e24db0c3\" x=\"535.237216\" y=\"239.758125\" style=\"stroke: #000000; stroke-width: 0.8\"/>\n",
       "      </g>\n",
       "     </g>\n",
       "     <g id=\"text_5\">\n",
       "      <!-- 500.4 -->\n",
       "      <g transform=\"translate(520.923153 254.356563)scale(0.1 -0.1)\">\n",
       "       <use xlink:href=\"#DejaVuSans-35\"/>\n",
       "       <use xlink:href=\"#DejaVuSans-30\" x=\"63.623047\"/>\n",
       "       <use xlink:href=\"#DejaVuSans-30\" x=\"127.246094\"/>\n",
       "       <use xlink:href=\"#DejaVuSans-2e\" x=\"190.869141\"/>\n",
       "       <use xlink:href=\"#DejaVuSans-34\" x=\"222.65625\"/>\n",
       "      </g>\n",
       "     </g>\n",
       "    </g>\n",
       "   </g>\n",
       "   <g id=\"matplotlib.axis_2\">\n",
       "    <g id=\"ytick_1\">\n",
       "     <g id=\"line2d_6\">\n",
       "      <defs>\n",
       "       <path id=\"m34577cc0ab\" d=\"M 0 0 \n",
       "L -3.5 0 \n",
       "\" style=\"stroke: #000000; stroke-width: 0.8\"/>\n",
       "      </defs>\n",
       "      <g>\n",
       "       <use xlink:href=\"#m34577cc0ab\" x=\"53.328125\" y=\"239.758125\" style=\"stroke: #000000; stroke-width: 0.8\"/>\n",
       "      </g>\n",
       "     </g>\n",
       "     <g id=\"text_6\">\n",
       "      <!-- 0 -->\n",
       "      <g transform=\"translate(39.965625 243.557344)scale(0.1 -0.1)\">\n",
       "       <use xlink:href=\"#DejaVuSans-30\"/>\n",
       "      </g>\n",
       "     </g>\n",
       "    </g>\n",
       "    <g id=\"ytick_2\">\n",
       "     <g id=\"line2d_7\">\n",
       "      <g>\n",
       "       <use xlink:href=\"#m34577cc0ab\" x=\"53.328125\" y=\"198.340982\" style=\"stroke: #000000; stroke-width: 0.8\"/>\n",
       "      </g>\n",
       "     </g>\n",
       "     <g id=\"text_7\">\n",
       "      <!-- 200 -->\n",
       "      <g transform=\"translate(27.240625 202.140201)scale(0.1 -0.1)\">\n",
       "       <use xlink:href=\"#DejaVuSans-32\"/>\n",
       "       <use xlink:href=\"#DejaVuSans-30\" x=\"63.623047\"/>\n",
       "       <use xlink:href=\"#DejaVuSans-30\" x=\"127.246094\"/>\n",
       "      </g>\n",
       "     </g>\n",
       "    </g>\n",
       "    <g id=\"ytick_3\">\n",
       "     <g id=\"line2d_8\">\n",
       "      <g>\n",
       "       <use xlink:href=\"#m34577cc0ab\" x=\"53.328125\" y=\"156.923839\" style=\"stroke: #000000; stroke-width: 0.8\"/>\n",
       "      </g>\n",
       "     </g>\n",
       "     <g id=\"text_8\">\n",
       "      <!-- 400 -->\n",
       "      <g transform=\"translate(27.240625 160.723058)scale(0.1 -0.1)\">\n",
       "       <use xlink:href=\"#DejaVuSans-34\"/>\n",
       "       <use xlink:href=\"#DejaVuSans-30\" x=\"63.623047\"/>\n",
       "       <use xlink:href=\"#DejaVuSans-30\" x=\"127.246094\"/>\n",
       "      </g>\n",
       "     </g>\n",
       "    </g>\n",
       "    <g id=\"ytick_4\">\n",
       "     <g id=\"line2d_9\">\n",
       "      <g>\n",
       "       <use xlink:href=\"#m34577cc0ab\" x=\"53.328125\" y=\"115.506696\" style=\"stroke: #000000; stroke-width: 0.8\"/>\n",
       "      </g>\n",
       "     </g>\n",
       "     <g id=\"text_9\">\n",
       "      <!-- 600 -->\n",
       "      <g transform=\"translate(27.240625 119.305915)scale(0.1 -0.1)\">\n",
       "       <use xlink:href=\"#DejaVuSans-36\"/>\n",
       "       <use xlink:href=\"#DejaVuSans-30\" x=\"63.623047\"/>\n",
       "       <use xlink:href=\"#DejaVuSans-30\" x=\"127.246094\"/>\n",
       "      </g>\n",
       "     </g>\n",
       "    </g>\n",
       "    <g id=\"ytick_5\">\n",
       "     <g id=\"line2d_10\">\n",
       "      <g>\n",
       "       <use xlink:href=\"#m34577cc0ab\" x=\"53.328125\" y=\"74.089554\" style=\"stroke: #000000; stroke-width: 0.8\"/>\n",
       "      </g>\n",
       "     </g>\n",
       "     <g id=\"text_10\">\n",
       "      <!-- 800 -->\n",
       "      <g transform=\"translate(27.240625 77.888772)scale(0.1 -0.1)\">\n",
       "       <use xlink:href=\"#DejaVuSans-38\"/>\n",
       "       <use xlink:href=\"#DejaVuSans-30\" x=\"63.623047\"/>\n",
       "       <use xlink:href=\"#DejaVuSans-30\" x=\"127.246094\"/>\n",
       "      </g>\n",
       "     </g>\n",
       "    </g>\n",
       "    <g id=\"ytick_6\">\n",
       "     <g id=\"line2d_11\">\n",
       "      <g>\n",
       "       <use xlink:href=\"#m34577cc0ab\" x=\"53.328125\" y=\"32.672411\" style=\"stroke: #000000; stroke-width: 0.8\"/>\n",
       "      </g>\n",
       "     </g>\n",
       "     <g id=\"text_11\">\n",
       "      <!-- 1000 -->\n",
       "      <g transform=\"translate(20.878125 36.471629)scale(0.1 -0.1)\">\n",
       "       <defs>\n",
       "        <path id=\"DejaVuSans-31\" d=\"M 794 531 \n",
       "L 1825 531 \n",
       "L 1825 4091 \n",
       "L 703 3866 \n",
       "L 703 4441 \n",
       "L 1819 4666 \n",
       "L 2450 4666 \n",
       "L 2450 531 \n",
       "L 3481 531 \n",
       "L 3481 0 \n",
       "L 794 0 \n",
       "L 794 531 \n",
       "z\n",
       "\" transform=\"scale(0.015625)\"/>\n",
       "       </defs>\n",
       "       <use xlink:href=\"#DejaVuSans-31\"/>\n",
       "       <use xlink:href=\"#DejaVuSans-30\" x=\"63.623047\"/>\n",
       "       <use xlink:href=\"#DejaVuSans-30\" x=\"127.246094\"/>\n",
       "       <use xlink:href=\"#DejaVuSans-30\" x=\"190.869141\"/>\n",
       "      </g>\n",
       "     </g>\n",
       "    </g>\n",
       "    <g id=\"text_12\">\n",
       "     <!-- Frequency -->\n",
       "     <g transform=\"translate(14.798438 156.867813)rotate(-90)scale(0.1 -0.1)\">\n",
       "      <defs>\n",
       "       <path id=\"DejaVuSans-46\" d=\"M 628 4666 \n",
       "L 3309 4666 \n",
       "L 3309 4134 \n",
       "L 1259 4134 \n",
       "L 1259 2759 \n",
       "L 3109 2759 \n",
       "L 3109 2228 \n",
       "L 1259 2228 \n",
       "L 1259 0 \n",
       "L 628 0 \n",
       "L 628 4666 \n",
       "z\n",
       "\" transform=\"scale(0.015625)\"/>\n",
       "       <path id=\"DejaVuSans-72\" d=\"M 2631 2963 \n",
       "Q 2534 3019 2420 3045 \n",
       "Q 2306 3072 2169 3072 \n",
       "Q 1681 3072 1420 2755 \n",
       "Q 1159 2438 1159 1844 \n",
       "L 1159 0 \n",
       "L 581 0 \n",
       "L 581 3500 \n",
       "L 1159 3500 \n",
       "L 1159 2956 \n",
       "Q 1341 3275 1631 3429 \n",
       "Q 1922 3584 2338 3584 \n",
       "Q 2397 3584 2469 3576 \n",
       "Q 2541 3569 2628 3553 \n",
       "L 2631 2963 \n",
       "z\n",
       "\" transform=\"scale(0.015625)\"/>\n",
       "       <path id=\"DejaVuSans-65\" d=\"M 3597 1894 \n",
       "L 3597 1613 \n",
       "L 953 1613 \n",
       "Q 991 1019 1311 708 \n",
       "Q 1631 397 2203 397 \n",
       "Q 2534 397 2845 478 \n",
       "Q 3156 559 3463 722 \n",
       "L 3463 178 \n",
       "Q 3153 47 2828 -22 \n",
       "Q 2503 -91 2169 -91 \n",
       "Q 1331 -91 842 396 \n",
       "Q 353 884 353 1716 \n",
       "Q 353 2575 817 3079 \n",
       "Q 1281 3584 2069 3584 \n",
       "Q 2775 3584 3186 3129 \n",
       "Q 3597 2675 3597 1894 \n",
       "z\n",
       "M 3022 2063 \n",
       "Q 3016 2534 2758 2815 \n",
       "Q 2500 3097 2075 3097 \n",
       "Q 1594 3097 1305 2825 \n",
       "Q 1016 2553 972 2059 \n",
       "L 3022 2063 \n",
       "z\n",
       "\" transform=\"scale(0.015625)\"/>\n",
       "       <path id=\"DejaVuSans-71\" d=\"M 947 1747 \n",
       "Q 947 1113 1208 752 \n",
       "Q 1469 391 1925 391 \n",
       "Q 2381 391 2643 752 \n",
       "Q 2906 1113 2906 1747 \n",
       "Q 2906 2381 2643 2742 \n",
       "Q 2381 3103 1925 3103 \n",
       "Q 1469 3103 1208 2742 \n",
       "Q 947 2381 947 1747 \n",
       "z\n",
       "M 2906 525 \n",
       "Q 2725 213 2448 61 \n",
       "Q 2172 -91 1784 -91 \n",
       "Q 1150 -91 751 415 \n",
       "Q 353 922 353 1747 \n",
       "Q 353 2572 751 3078 \n",
       "Q 1150 3584 1784 3584 \n",
       "Q 2172 3584 2448 3432 \n",
       "Q 2725 3281 2906 2969 \n",
       "L 2906 3500 \n",
       "L 3481 3500 \n",
       "L 3481 -1331 \n",
       "L 2906 -1331 \n",
       "L 2906 525 \n",
       "z\n",
       "\" transform=\"scale(0.015625)\"/>\n",
       "       <path id=\"DejaVuSans-75\" d=\"M 544 1381 \n",
       "L 544 3500 \n",
       "L 1119 3500 \n",
       "L 1119 1403 \n",
       "Q 1119 906 1312 657 \n",
       "Q 1506 409 1894 409 \n",
       "Q 2359 409 2629 706 \n",
       "Q 2900 1003 2900 1516 \n",
       "L 2900 3500 \n",
       "L 3475 3500 \n",
       "L 3475 0 \n",
       "L 2900 0 \n",
       "L 2900 538 \n",
       "Q 2691 219 2414 64 \n",
       "Q 2138 -91 1772 -91 \n",
       "Q 1169 -91 856 284 \n",
       "Q 544 659 544 1381 \n",
       "z\n",
       "M 1991 3584 \n",
       "L 1991 3584 \n",
       "z\n",
       "\" transform=\"scale(0.015625)\"/>\n",
       "       <path id=\"DejaVuSans-6e\" d=\"M 3513 2113 \n",
       "L 3513 0 \n",
       "L 2938 0 \n",
       "L 2938 2094 \n",
       "Q 2938 2591 2744 2837 \n",
       "Q 2550 3084 2163 3084 \n",
       "Q 1697 3084 1428 2787 \n",
       "Q 1159 2491 1159 1978 \n",
       "L 1159 0 \n",
       "L 581 0 \n",
       "L 581 3500 \n",
       "L 1159 3500 \n",
       "L 1159 2956 \n",
       "Q 1366 3272 1645 3428 \n",
       "Q 1925 3584 2291 3584 \n",
       "Q 2894 3584 3203 3211 \n",
       "Q 3513 2838 3513 2113 \n",
       "z\n",
       "\" transform=\"scale(0.015625)\"/>\n",
       "       <path id=\"DejaVuSans-63\" d=\"M 3122 3366 \n",
       "L 3122 2828 \n",
       "Q 2878 2963 2633 3030 \n",
       "Q 2388 3097 2138 3097 \n",
       "Q 1578 3097 1268 2742 \n",
       "Q 959 2388 959 1747 \n",
       "Q 959 1106 1268 751 \n",
       "Q 1578 397 2138 397 \n",
       "Q 2388 397 2633 464 \n",
       "Q 2878 531 3122 666 \n",
       "L 3122 134 \n",
       "Q 2881 22 2623 -34 \n",
       "Q 2366 -91 2075 -91 \n",
       "Q 1284 -91 818 406 \n",
       "Q 353 903 353 1747 \n",
       "Q 353 2603 823 3093 \n",
       "Q 1294 3584 2113 3584 \n",
       "Q 2378 3584 2631 3529 \n",
       "Q 2884 3475 3122 3366 \n",
       "z\n",
       "\" transform=\"scale(0.015625)\"/>\n",
       "       <path id=\"DejaVuSans-79\" d=\"M 2059 -325 \n",
       "Q 1816 -950 1584 -1140 \n",
       "Q 1353 -1331 966 -1331 \n",
       "L 506 -1331 \n",
       "L 506 -850 \n",
       "L 844 -850 \n",
       "Q 1081 -850 1212 -737 \n",
       "Q 1344 -625 1503 -206 \n",
       "L 1606 56 \n",
       "L 191 3500 \n",
       "L 800 3500 \n",
       "L 1894 763 \n",
       "L 2988 3500 \n",
       "L 3597 3500 \n",
       "L 2059 -325 \n",
       "z\n",
       "\" transform=\"scale(0.015625)\"/>\n",
       "      </defs>\n",
       "      <use xlink:href=\"#DejaVuSans-46\"/>\n",
       "      <use xlink:href=\"#DejaVuSans-72\" x=\"50.269531\"/>\n",
       "      <use xlink:href=\"#DejaVuSans-65\" x=\"89.132812\"/>\n",
       "      <use xlink:href=\"#DejaVuSans-71\" x=\"150.65625\"/>\n",
       "      <use xlink:href=\"#DejaVuSans-75\" x=\"214.132812\"/>\n",
       "      <use xlink:href=\"#DejaVuSans-65\" x=\"277.511719\"/>\n",
       "      <use xlink:href=\"#DejaVuSans-6e\" x=\"339.035156\"/>\n",
       "      <use xlink:href=\"#DejaVuSans-63\" x=\"402.414062\"/>\n",
       "      <use xlink:href=\"#DejaVuSans-79\" x=\"457.394531\"/>\n",
       "     </g>\n",
       "    </g>\n",
       "   </g>\n",
       "   <g id=\"patch_103\">\n",
       "    <path d=\"M 53.328125 239.758125 \n",
       "L 53.328125 22.318125 \n",
       "\" style=\"fill: none; stroke: #000000; stroke-width: 0.8; stroke-linejoin: miter; stroke-linecap: square\"/>\n",
       "   </g>\n",
       "   <g id=\"patch_104\">\n",
       "    <path d=\"M 611.328125 239.758125 \n",
       "L 611.328125 22.318125 \n",
       "\" style=\"fill: none; stroke: #000000; stroke-width: 0.8; stroke-linejoin: miter; stroke-linecap: square\"/>\n",
       "   </g>\n",
       "   <g id=\"patch_105\">\n",
       "    <path d=\"M 53.328125 239.758125 \n",
       "L 611.328125 239.758125 \n",
       "\" style=\"fill: none; stroke: #000000; stroke-width: 0.8; stroke-linejoin: miter; stroke-linecap: square\"/>\n",
       "   </g>\n",
       "   <g id=\"patch_106\">\n",
       "    <path d=\"M 53.328125 22.318125 \n",
       "L 611.328125 22.318125 \n",
       "\" style=\"fill: none; stroke: #000000; stroke-width: 0.8; stroke-linejoin: miter; stroke-linecap: square\"/>\n",
       "   </g>\n",
       "   <g id=\"text_13\">\n",
       "    <!-- Rewards -->\n",
       "    <g transform=\"translate(306.857188 16.318125)scale(0.12 -0.12)\">\n",
       "     <defs>\n",
       "      <path id=\"DejaVuSans-52\" d=\"M 2841 2188 \n",
       "Q 3044 2119 3236 1894 \n",
       "Q 3428 1669 3622 1275 \n",
       "L 4263 0 \n",
       "L 3584 0 \n",
       "L 2988 1197 \n",
       "Q 2756 1666 2539 1819 \n",
       "Q 2322 1972 1947 1972 \n",
       "L 1259 1972 \n",
       "L 1259 0 \n",
       "L 628 0 \n",
       "L 628 4666 \n",
       "L 2053 4666 \n",
       "Q 2853 4666 3247 4331 \n",
       "Q 3641 3997 3641 3322 \n",
       "Q 3641 2881 3436 2590 \n",
       "Q 3231 2300 2841 2188 \n",
       "z\n",
       "M 1259 4147 \n",
       "L 1259 2491 \n",
       "L 2053 2491 \n",
       "Q 2509 2491 2742 2702 \n",
       "Q 2975 2913 2975 3322 \n",
       "Q 2975 3731 2742 3939 \n",
       "Q 2509 4147 2053 4147 \n",
       "L 1259 4147 \n",
       "z\n",
       "\" transform=\"scale(0.015625)\"/>\n",
       "      <path id=\"DejaVuSans-77\" d=\"M 269 3500 \n",
       "L 844 3500 \n",
       "L 1563 769 \n",
       "L 2278 3500 \n",
       "L 2956 3500 \n",
       "L 3675 769 \n",
       "L 4391 3500 \n",
       "L 4966 3500 \n",
       "L 4050 0 \n",
       "L 3372 0 \n",
       "L 2619 2869 \n",
       "L 1863 0 \n",
       "L 1184 0 \n",
       "L 269 3500 \n",
       "z\n",
       "\" transform=\"scale(0.015625)\"/>\n",
       "      <path id=\"DejaVuSans-61\" d=\"M 2194 1759 \n",
       "Q 1497 1759 1228 1600 \n",
       "Q 959 1441 959 1056 \n",
       "Q 959 750 1161 570 \n",
       "Q 1363 391 1709 391 \n",
       "Q 2188 391 2477 730 \n",
       "Q 2766 1069 2766 1631 \n",
       "L 2766 1759 \n",
       "L 2194 1759 \n",
       "z\n",
       "M 3341 1997 \n",
       "L 3341 0 \n",
       "L 2766 0 \n",
       "L 2766 531 \n",
       "Q 2569 213 2275 61 \n",
       "Q 1981 -91 1556 -91 \n",
       "Q 1019 -91 701 211 \n",
       "Q 384 513 384 1019 \n",
       "Q 384 1609 779 1909 \n",
       "Q 1175 2209 1959 2209 \n",
       "L 2766 2209 \n",
       "L 2766 2266 \n",
       "Q 2766 2663 2505 2880 \n",
       "Q 2244 3097 1772 3097 \n",
       "Q 1472 3097 1187 3025 \n",
       "Q 903 2953 641 2809 \n",
       "L 641 3341 \n",
       "Q 956 3463 1253 3523 \n",
       "Q 1550 3584 1831 3584 \n",
       "Q 2591 3584 2966 3190 \n",
       "Q 3341 2797 3341 1997 \n",
       "z\n",
       "\" transform=\"scale(0.015625)\"/>\n",
       "      <path id=\"DejaVuSans-64\" d=\"M 2906 2969 \n",
       "L 2906 4863 \n",
       "L 3481 4863 \n",
       "L 3481 0 \n",
       "L 2906 0 \n",
       "L 2906 525 \n",
       "Q 2725 213 2448 61 \n",
       "Q 2172 -91 1784 -91 \n",
       "Q 1150 -91 751 415 \n",
       "Q 353 922 353 1747 \n",
       "Q 353 2572 751 3078 \n",
       "Q 1150 3584 1784 3584 \n",
       "Q 2172 3584 2448 3432 \n",
       "Q 2725 3281 2906 2969 \n",
       "z\n",
       "M 947 1747 \n",
       "Q 947 1113 1208 752 \n",
       "Q 1469 391 1925 391 \n",
       "Q 2381 391 2643 752 \n",
       "Q 2906 1113 2906 1747 \n",
       "Q 2906 2381 2643 2742 \n",
       "Q 2381 3103 1925 3103 \n",
       "Q 1469 3103 1208 2742 \n",
       "Q 947 2381 947 1747 \n",
       "z\n",
       "\" transform=\"scale(0.015625)\"/>\n",
       "      <path id=\"DejaVuSans-73\" d=\"M 2834 3397 \n",
       "L 2834 2853 \n",
       "Q 2591 2978 2328 3040 \n",
       "Q 2066 3103 1784 3103 \n",
       "Q 1356 3103 1142 2972 \n",
       "Q 928 2841 928 2578 \n",
       "Q 928 2378 1081 2264 \n",
       "Q 1234 2150 1697 2047 \n",
       "L 1894 2003 \n",
       "Q 2506 1872 2764 1633 \n",
       "Q 3022 1394 3022 966 \n",
       "Q 3022 478 2636 193 \n",
       "Q 2250 -91 1575 -91 \n",
       "Q 1294 -91 989 -36 \n",
       "Q 684 19 347 128 \n",
       "L 347 722 \n",
       "Q 666 556 975 473 \n",
       "Q 1284 391 1588 391 \n",
       "Q 1994 391 2212 530 \n",
       "Q 2431 669 2431 922 \n",
       "Q 2431 1156 2273 1281 \n",
       "Q 2116 1406 1581 1522 \n",
       "L 1381 1569 \n",
       "Q 847 1681 609 1914 \n",
       "Q 372 2147 372 2553 \n",
       "Q 372 3047 722 3315 \n",
       "Q 1072 3584 1716 3584 \n",
       "Q 2034 3584 2315 3537 \n",
       "Q 2597 3491 2834 3397 \n",
       "z\n",
       "\" transform=\"scale(0.015625)\"/>\n",
       "     </defs>\n",
       "     <use xlink:href=\"#DejaVuSans-52\"/>\n",
       "     <use xlink:href=\"#DejaVuSans-65\" x=\"64.982422\"/>\n",
       "     <use xlink:href=\"#DejaVuSans-77\" x=\"126.505859\"/>\n",
       "     <use xlink:href=\"#DejaVuSans-61\" x=\"208.292969\"/>\n",
       "     <use xlink:href=\"#DejaVuSans-72\" x=\"269.572266\"/>\n",
       "     <use xlink:href=\"#DejaVuSans-64\" x=\"308.935547\"/>\n",
       "     <use xlink:href=\"#DejaVuSans-73\" x=\"372.412109\"/>\n",
       "    </g>\n",
       "   </g>\n",
       "  </g>\n",
       " </g>\n",
       " <defs>\n",
       "  <clipPath id=\"p11ac93f5bd\">\n",
       "   <rect x=\"53.328125\" y=\"22.318125\" width=\"558\" height=\"217.44\"/>\n",
       "  </clipPath>\n",
       " </defs>\n",
       "</svg>\n"
      ],
      "text/plain": [
       "<Figure size 720x288 with 1 Axes>"
      ]
     },
     "metadata": {
      "needs_background": "light"
     },
     "output_type": "display_data"
    }
   ],
   "source": [
    "import matplotlib.pyplot as plt\n",
    "import pandas as pd\n",
    "\n",
    "fig, ax = plt.subplots(figsize = (10, 4))\n",
    "ax.set_title(\"Rewards\")    \n",
    "pd.Series(rewards).plot(kind='hist', bins=100)\n",
    "\n",
    "plt.show()"
   ]
  },
  {
   "cell_type": "markdown",
   "id": "bcbf6d1d",
   "metadata": {},
   "source": [
    "## Let's see our agent in action 🎬"
   ]
  },
  {
   "cell_type": "code",
   "execution_count": 49,
   "id": "de569e48",
   "metadata": {},
   "outputs": [],
   "source": [
    "# Workaround for pygame error: \"error: No available video device\"\n",
    "# See https://stackoverflow.com/questions/15933493/pygame-error-no-available-video-device?rq=1\n",
    "# This is probably needed only for Linux\n",
    "import os\n",
    "os.environ[\"SDL_VIDEODRIVER\"] = \"dummy\"\n",
    "\n",
    "from src.viz import show_video\n",
    "\n",
    "show_video(agent, env, sleep_sec=0.01, seed=123)"
   ]
  }
 ],
 "metadata": {
  "kernelspec": {
   "display_name": "Python 3 (ipykernel)",
   "language": "python",
   "name": "python3"
  },
  "language_info": {
   "codemirror_mode": {
    "name": "ipython",
    "version": 3
   },
   "file_extension": ".py",
   "mimetype": "text/x-python",
   "name": "python",
   "nbconvert_exporter": "python",
   "pygments_lexer": "ipython3",
   "version": "3.7.5"
  }
 },
 "nbformat": 4,
 "nbformat_minor": 5
}
